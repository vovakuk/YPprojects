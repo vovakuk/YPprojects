{
 "cells": [
  {
   "cell_type": "markdown",
   "metadata": {
    "toc": true
   },
   "source": [
    "<h1>Содержание<span class=\"tocSkip\"></span></h1>\n",
    "<div class=\"toc\"><ul class=\"toc-item\"><li><span><a href=\"#Подготовка-данных\" data-toc-modified-id=\"Подготовка-данных-1\"><span class=\"toc-item-num\">1&nbsp;&nbsp;</span>Подготовка данных</a></span><ul class=\"toc-item\"><li><span><a href=\"#Исследовательский-анализ\" data-toc-modified-id=\"Исследовательский-анализ-1.1\"><span class=\"toc-item-num\">1.1&nbsp;&nbsp;</span>Исследовательский анализ</a></span></li></ul></li><li><span><a href=\"#Исследование-задачи\" data-toc-modified-id=\"Исследование-задачи-2\"><span class=\"toc-item-num\">2&nbsp;&nbsp;</span>Исследование задачи</a></span><ul class=\"toc-item\"><li><span><a href=\"#Логистическая-регрессия\" data-toc-modified-id=\"Логистическая-регрессия-2.1\"><span class=\"toc-item-num\">2.1&nbsp;&nbsp;</span>Логистическая регрессия</a></span></li><li><span><a href=\"#Дерево-решений\" data-toc-modified-id=\"Дерево-решений-2.2\"><span class=\"toc-item-num\">2.2&nbsp;&nbsp;</span>Дерево решений</a></span></li><li><span><a href=\"#Случайный-лес\" data-toc-modified-id=\"Случайный-лес-2.3\"><span class=\"toc-item-num\">2.3&nbsp;&nbsp;</span>Случайный лес</a></span></li></ul></li><li><span><a href=\"#Борьба-с-дисбалансом\" data-toc-modified-id=\"Борьба-с-дисбалансом-3\"><span class=\"toc-item-num\">3&nbsp;&nbsp;</span>Борьба с дисбалансом</a></span><ul class=\"toc-item\"><li><span><a href=\"#Логистическая-регрессия\" data-toc-modified-id=\"Логистическая-регрессия-3.1\"><span class=\"toc-item-num\">3.1&nbsp;&nbsp;</span>Логистическая регрессия</a></span></li><li><span><a href=\"#Решающее-дерево\" data-toc-modified-id=\"Решающее-дерево-3.2\"><span class=\"toc-item-num\">3.2&nbsp;&nbsp;</span>Решающее дерево</a></span></li><li><span><a href=\"#Случайный-лес\" data-toc-modified-id=\"Случайный-лес-3.3\"><span class=\"toc-item-num\">3.3&nbsp;&nbsp;</span>Случайный лес</a></span></li><li><span><a href=\"#Увеличение-выборки\" data-toc-modified-id=\"Увеличение-выборки-3.4\"><span class=\"toc-item-num\">3.4&nbsp;&nbsp;</span>Увеличение выборки</a></span></li><li><span><a href=\"#Логистическая-регрессия\" data-toc-modified-id=\"Логистическая-регрессия-3.5\"><span class=\"toc-item-num\">3.5&nbsp;&nbsp;</span>Логистическая регрессия</a></span></li><li><span><a href=\"#Дерево-решений\" data-toc-modified-id=\"Дерево-решений-3.6\"><span class=\"toc-item-num\">3.6&nbsp;&nbsp;</span>Дерево решений</a></span></li><li><span><a href=\"#Случайный-лес\" data-toc-modified-id=\"Случайный-лес-3.7\"><span class=\"toc-item-num\">3.7&nbsp;&nbsp;</span>Случайный лес</a></span></li><li><span><a href=\"#Уменьшение-выборки\" data-toc-modified-id=\"Уменьшение-выборки-3.8\"><span class=\"toc-item-num\">3.8&nbsp;&nbsp;</span>Уменьшение выборки</a></span></li><li><span><a href=\"#Логистическая-регрессия\" data-toc-modified-id=\"Логистическая-регрессия-3.9\"><span class=\"toc-item-num\">3.9&nbsp;&nbsp;</span>Логистическая регрессия</a></span></li><li><span><a href=\"#Дерево-решений\" data-toc-modified-id=\"Дерево-решений-3.10\"><span class=\"toc-item-num\">3.10&nbsp;&nbsp;</span>Дерево решений</a></span></li><li><span><a href=\"#Случайный-лес\" data-toc-modified-id=\"Случайный-лес-3.11\"><span class=\"toc-item-num\">3.11&nbsp;&nbsp;</span>Случайный лес</a></span></li></ul></li><li><span><a href=\"#Тестирование-модели\" data-toc-modified-id=\"Тестирование-модели-4\"><span class=\"toc-item-num\">4&nbsp;&nbsp;</span>Тестирование модели</a></span></li><li><span><a href=\"#Чек-лист-готовности-проекта\" data-toc-modified-id=\"Чек-лист-готовности-проекта-5\"><span class=\"toc-item-num\">5&nbsp;&nbsp;</span>Чек-лист готовности проекта</a></span></li></ul></div>"
   ]
  },
  {
   "cell_type": "markdown",
   "metadata": {},
   "source": [
    "# Отток клиентов"
   ]
  },
  {
   "cell_type": "markdown",
   "metadata": {},
   "source": [
    "Из «Бета-Банка» стали уходить клиенты. Каждый месяц. Немного, но заметно. Банковские маркетологи посчитали: сохранять текущих клиентов дешевле, чем привлекать новых.\n",
    "\n",
    "Нужно спрогнозировать, уйдёт клиент из банка в ближайшее время или нет. Вам предоставлены исторические данные о поведении клиентов и расторжении договоров с банком. \n",
    "\n",
    "Постройте модель с предельно большим значением *F1*-меры. Чтобы сдать проект успешно, нужно довести метрику до 0.59. Проверьте *F1*-меру на тестовой выборке самостоятельно.\n",
    "\n",
    "Дополнительно измеряйте *AUC-ROC*, сравнивайте её значение с *F1*-мерой.\n",
    "\n",
    "Источник данных: [https://www.kaggle.com/barelydedicated/bank-customer-churn-modeling](https://www.kaggle.com/barelydedicated/bank-customer-churn-modeling)\n",
    "\n",
    "\n",
    "# Описание данных\n",
    "__Признаки__  \n",
    "RowNumber — индекс строки в данных  \n",
    "CustomerId — уникальный идентификатор клиента  \n",
    "Surname — фамилия  \n",
    "CreditScore — кредитный рейтинг  \n",
    "Geography — страна проживания  \n",
    "Gender — пол  \n",
    "Age — возраст  \n",
    "Tenure — сколько лет человек является клиентом банка  \n",
    "Balance — баланс на счёте  \n",
    "NumOfProducts — количество продуктов банка, используемых клиентом  \n",
    "HasCrCard — наличие кредитной карты  \n",
    "IsActiveMember — активность клиента  \n",
    "EstimatedSalary — предполагаемая зарплата  \n",
    "__Целевой признак__  \n",
    "Exited — факт ухода клиента"
   ]
  },
  {
   "cell_type": "markdown",
   "metadata": {},
   "source": [
    "## Подготовка данных"
   ]
  },
  {
   "cell_type": "code",
   "execution_count": 1,
   "metadata": {
    "scrolled": true
   },
   "outputs": [
    {
     "name": "stdout",
     "output_type": "stream",
     "text": [
      "<class 'pandas.core.frame.DataFrame'>\n",
      "RangeIndex: 10000 entries, 0 to 9999\n",
      "Data columns (total 14 columns):\n",
      "RowNumber          10000 non-null int64\n",
      "CustomerId         10000 non-null int64\n",
      "Surname            10000 non-null object\n",
      "CreditScore        10000 non-null int64\n",
      "Geography          10000 non-null object\n",
      "Gender             10000 non-null object\n",
      "Age                10000 non-null int64\n",
      "Tenure             9091 non-null float64\n",
      "Balance            10000 non-null float64\n",
      "NumOfProducts      10000 non-null int64\n",
      "HasCrCard          10000 non-null int64\n",
      "IsActiveMember     10000 non-null int64\n",
      "EstimatedSalary    10000 non-null float64\n",
      "Exited             10000 non-null int64\n",
      "dtypes: float64(3), int64(8), object(3)\n",
      "memory usage: 1.1+ MB\n",
      "None\n"
     ]
    },
    {
     "data": {
      "text/html": [
       "<div>\n",
       "<style scoped>\n",
       "    .dataframe tbody tr th:only-of-type {\n",
       "        vertical-align: middle;\n",
       "    }\n",
       "\n",
       "    .dataframe tbody tr th {\n",
       "        vertical-align: top;\n",
       "    }\n",
       "\n",
       "    .dataframe thead th {\n",
       "        text-align: right;\n",
       "    }\n",
       "</style>\n",
       "<table border=\"1\" class=\"dataframe\">\n",
       "  <thead>\n",
       "    <tr style=\"text-align: right;\">\n",
       "      <th></th>\n",
       "      <th>RowNumber</th>\n",
       "      <th>CustomerId</th>\n",
       "      <th>Surname</th>\n",
       "      <th>CreditScore</th>\n",
       "      <th>Geography</th>\n",
       "      <th>Gender</th>\n",
       "      <th>Age</th>\n",
       "      <th>Tenure</th>\n",
       "      <th>Balance</th>\n",
       "      <th>NumOfProducts</th>\n",
       "      <th>HasCrCard</th>\n",
       "      <th>IsActiveMember</th>\n",
       "      <th>EstimatedSalary</th>\n",
       "      <th>Exited</th>\n",
       "    </tr>\n",
       "  </thead>\n",
       "  <tbody>\n",
       "    <tr>\n",
       "      <td>0</td>\n",
       "      <td>1</td>\n",
       "      <td>15634602</td>\n",
       "      <td>Hargrave</td>\n",
       "      <td>619</td>\n",
       "      <td>France</td>\n",
       "      <td>Female</td>\n",
       "      <td>42</td>\n",
       "      <td>2.0</td>\n",
       "      <td>0.00</td>\n",
       "      <td>1</td>\n",
       "      <td>1</td>\n",
       "      <td>1</td>\n",
       "      <td>101348.88</td>\n",
       "      <td>1</td>\n",
       "    </tr>\n",
       "    <tr>\n",
       "      <td>1</td>\n",
       "      <td>2</td>\n",
       "      <td>15647311</td>\n",
       "      <td>Hill</td>\n",
       "      <td>608</td>\n",
       "      <td>Spain</td>\n",
       "      <td>Female</td>\n",
       "      <td>41</td>\n",
       "      <td>1.0</td>\n",
       "      <td>83807.86</td>\n",
       "      <td>1</td>\n",
       "      <td>0</td>\n",
       "      <td>1</td>\n",
       "      <td>112542.58</td>\n",
       "      <td>0</td>\n",
       "    </tr>\n",
       "    <tr>\n",
       "      <td>2</td>\n",
       "      <td>3</td>\n",
       "      <td>15619304</td>\n",
       "      <td>Onio</td>\n",
       "      <td>502</td>\n",
       "      <td>France</td>\n",
       "      <td>Female</td>\n",
       "      <td>42</td>\n",
       "      <td>8.0</td>\n",
       "      <td>159660.80</td>\n",
       "      <td>3</td>\n",
       "      <td>1</td>\n",
       "      <td>0</td>\n",
       "      <td>113931.57</td>\n",
       "      <td>1</td>\n",
       "    </tr>\n",
       "    <tr>\n",
       "      <td>3</td>\n",
       "      <td>4</td>\n",
       "      <td>15701354</td>\n",
       "      <td>Boni</td>\n",
       "      <td>699</td>\n",
       "      <td>France</td>\n",
       "      <td>Female</td>\n",
       "      <td>39</td>\n",
       "      <td>1.0</td>\n",
       "      <td>0.00</td>\n",
       "      <td>2</td>\n",
       "      <td>0</td>\n",
       "      <td>0</td>\n",
       "      <td>93826.63</td>\n",
       "      <td>0</td>\n",
       "    </tr>\n",
       "    <tr>\n",
       "      <td>4</td>\n",
       "      <td>5</td>\n",
       "      <td>15737888</td>\n",
       "      <td>Mitchell</td>\n",
       "      <td>850</td>\n",
       "      <td>Spain</td>\n",
       "      <td>Female</td>\n",
       "      <td>43</td>\n",
       "      <td>2.0</td>\n",
       "      <td>125510.82</td>\n",
       "      <td>1</td>\n",
       "      <td>1</td>\n",
       "      <td>1</td>\n",
       "      <td>79084.10</td>\n",
       "      <td>0</td>\n",
       "    </tr>\n",
       "    <tr>\n",
       "      <td>...</td>\n",
       "      <td>...</td>\n",
       "      <td>...</td>\n",
       "      <td>...</td>\n",
       "      <td>...</td>\n",
       "      <td>...</td>\n",
       "      <td>...</td>\n",
       "      <td>...</td>\n",
       "      <td>...</td>\n",
       "      <td>...</td>\n",
       "      <td>...</td>\n",
       "      <td>...</td>\n",
       "      <td>...</td>\n",
       "      <td>...</td>\n",
       "      <td>...</td>\n",
       "    </tr>\n",
       "    <tr>\n",
       "      <td>9995</td>\n",
       "      <td>9996</td>\n",
       "      <td>15606229</td>\n",
       "      <td>Obijiaku</td>\n",
       "      <td>771</td>\n",
       "      <td>France</td>\n",
       "      <td>Male</td>\n",
       "      <td>39</td>\n",
       "      <td>5.0</td>\n",
       "      <td>0.00</td>\n",
       "      <td>2</td>\n",
       "      <td>1</td>\n",
       "      <td>0</td>\n",
       "      <td>96270.64</td>\n",
       "      <td>0</td>\n",
       "    </tr>\n",
       "    <tr>\n",
       "      <td>9996</td>\n",
       "      <td>9997</td>\n",
       "      <td>15569892</td>\n",
       "      <td>Johnstone</td>\n",
       "      <td>516</td>\n",
       "      <td>France</td>\n",
       "      <td>Male</td>\n",
       "      <td>35</td>\n",
       "      <td>10.0</td>\n",
       "      <td>57369.61</td>\n",
       "      <td>1</td>\n",
       "      <td>1</td>\n",
       "      <td>1</td>\n",
       "      <td>101699.77</td>\n",
       "      <td>0</td>\n",
       "    </tr>\n",
       "    <tr>\n",
       "      <td>9997</td>\n",
       "      <td>9998</td>\n",
       "      <td>15584532</td>\n",
       "      <td>Liu</td>\n",
       "      <td>709</td>\n",
       "      <td>France</td>\n",
       "      <td>Female</td>\n",
       "      <td>36</td>\n",
       "      <td>7.0</td>\n",
       "      <td>0.00</td>\n",
       "      <td>1</td>\n",
       "      <td>0</td>\n",
       "      <td>1</td>\n",
       "      <td>42085.58</td>\n",
       "      <td>1</td>\n",
       "    </tr>\n",
       "    <tr>\n",
       "      <td>9998</td>\n",
       "      <td>9999</td>\n",
       "      <td>15682355</td>\n",
       "      <td>Sabbatini</td>\n",
       "      <td>772</td>\n",
       "      <td>Germany</td>\n",
       "      <td>Male</td>\n",
       "      <td>42</td>\n",
       "      <td>3.0</td>\n",
       "      <td>75075.31</td>\n",
       "      <td>2</td>\n",
       "      <td>1</td>\n",
       "      <td>0</td>\n",
       "      <td>92888.52</td>\n",
       "      <td>1</td>\n",
       "    </tr>\n",
       "    <tr>\n",
       "      <td>9999</td>\n",
       "      <td>10000</td>\n",
       "      <td>15628319</td>\n",
       "      <td>Walker</td>\n",
       "      <td>792</td>\n",
       "      <td>France</td>\n",
       "      <td>Female</td>\n",
       "      <td>28</td>\n",
       "      <td>NaN</td>\n",
       "      <td>130142.79</td>\n",
       "      <td>1</td>\n",
       "      <td>1</td>\n",
       "      <td>0</td>\n",
       "      <td>38190.78</td>\n",
       "      <td>0</td>\n",
       "    </tr>\n",
       "  </tbody>\n",
       "</table>\n",
       "<p>10000 rows × 14 columns</p>\n",
       "</div>"
      ],
      "text/plain": [
       "      RowNumber  CustomerId    Surname  CreditScore Geography  Gender  Age  \\\n",
       "0             1    15634602   Hargrave          619    France  Female   42   \n",
       "1             2    15647311       Hill          608     Spain  Female   41   \n",
       "2             3    15619304       Onio          502    France  Female   42   \n",
       "3             4    15701354       Boni          699    France  Female   39   \n",
       "4             5    15737888   Mitchell          850     Spain  Female   43   \n",
       "...         ...         ...        ...          ...       ...     ...  ...   \n",
       "9995       9996    15606229   Obijiaku          771    France    Male   39   \n",
       "9996       9997    15569892  Johnstone          516    France    Male   35   \n",
       "9997       9998    15584532        Liu          709    France  Female   36   \n",
       "9998       9999    15682355  Sabbatini          772   Germany    Male   42   \n",
       "9999      10000    15628319     Walker          792    France  Female   28   \n",
       "\n",
       "      Tenure    Balance  NumOfProducts  HasCrCard  IsActiveMember  \\\n",
       "0        2.0       0.00              1          1               1   \n",
       "1        1.0   83807.86              1          0               1   \n",
       "2        8.0  159660.80              3          1               0   \n",
       "3        1.0       0.00              2          0               0   \n",
       "4        2.0  125510.82              1          1               1   \n",
       "...      ...        ...            ...        ...             ...   \n",
       "9995     5.0       0.00              2          1               0   \n",
       "9996    10.0   57369.61              1          1               1   \n",
       "9997     7.0       0.00              1          0               1   \n",
       "9998     3.0   75075.31              2          1               0   \n",
       "9999     NaN  130142.79              1          1               0   \n",
       "\n",
       "      EstimatedSalary  Exited  \n",
       "0           101348.88       1  \n",
       "1           112542.58       0  \n",
       "2           113931.57       1  \n",
       "3            93826.63       0  \n",
       "4            79084.10       0  \n",
       "...               ...     ...  \n",
       "9995         96270.64       0  \n",
       "9996        101699.77       0  \n",
       "9997         42085.58       1  \n",
       "9998         92888.52       1  \n",
       "9999         38190.78       0  \n",
       "\n",
       "[10000 rows x 14 columns]"
      ]
     },
     "metadata": {},
     "output_type": "display_data"
    }
   ],
   "source": [
    "import pandas as pd\n",
    "from sklearn.model_selection import train_test_split\n",
    "from sklearn.linear_model import LinearRegression\n",
    "from sklearn.metrics import mean_absolute_error\n",
    "from sklearn.tree import DecisionTreeClassifier\n",
    "from sklearn.ensemble import RandomForestClassifier\n",
    "from sklearn.linear_model import LogisticRegression\n",
    "from sklearn.preprocessing import OrdinalEncoder, StandardScaler\n",
    "from IPython.display import display\n",
    "from sklearn.metrics import f1_score, roc_auc_score \n",
    "from sklearn.utils import shuffle\n",
    "import matplotlib.pyplot as plt\n",
    "import seaborn as sb\n",
    "import warnings\n",
    "warnings.filterwarnings(\"ignore\")\n",
    "df = pd.read_csv('/datasets/Churn.csv')\n",
    "print(df.info())\n",
    "display(df)"
   ]
  },
  {
   "cell_type": "code",
   "execution_count": 2,
   "metadata": {},
   "outputs": [
    {
     "name": "stdout",
     "output_type": "stream",
     "text": [
      "<class 'pandas.core.frame.DataFrame'>\n",
      "Int64Index: 9091 entries, 0 to 9998\n",
      "Data columns (total 14 columns):\n",
      "rownumber          9091 non-null int64\n",
      "customerid         9091 non-null int64\n",
      "surname            9091 non-null object\n",
      "creditscore        9091 non-null int64\n",
      "geography          9091 non-null object\n",
      "gender             9091 non-null object\n",
      "age                9091 non-null int64\n",
      "tenure             9091 non-null float64\n",
      "balance            9091 non-null float64\n",
      "numofproducts      9091 non-null int64\n",
      "hascrcard          9091 non-null int64\n",
      "isactivemember     9091 non-null int64\n",
      "estimatedsalary    9091 non-null float64\n",
      "exited             9091 non-null int64\n",
      "dtypes: float64(3), int64(8), object(3)\n",
      "memory usage: 1.0+ MB\n"
     ]
    }
   ],
   "source": [
    "df.columns = map(str.lower, df.columns)\n",
    "df=df.dropna()\n",
    "df.info()\n"
   ]
  },
  {
   "cell_type": "markdown",
   "metadata": {},
   "source": [
    "Далее проведем исследовательский анализ данных"
   ]
  },
  {
   "cell_type": "markdown",
   "metadata": {},
   "source": [
    "### Исследовательский анализ"
   ]
  },
  {
   "cell_type": "code",
   "execution_count": 3,
   "metadata": {},
   "outputs": [
    {
     "data": {
      "text/plain": [
       "France     4550\n",
       "Germany    2293\n",
       "Spain      2248\n",
       "Name: geography, dtype: int64"
      ]
     },
     "execution_count": 3,
     "metadata": {},
     "output_type": "execute_result"
    }
   ],
   "source": [
    "df['geography'].value_counts()"
   ]
  },
  {
   "cell_type": "code",
   "execution_count": 4,
   "metadata": {},
   "outputs": [
    {
     "data": {
      "text/plain": [
       "Male      4974\n",
       "Female    4117\n",
       "Name: gender, dtype: int64"
      ]
     },
     "execution_count": 4,
     "metadata": {},
     "output_type": "execute_result"
    }
   ],
   "source": [
    "df['gender'].value_counts()"
   ]
  },
  {
   "cell_type": "code",
   "execution_count": 5,
   "metadata": {},
   "outputs": [
    {
     "data": {
      "text/plain": [
       "1.0     952\n",
       "2.0     950\n",
       "8.0     933\n",
       "3.0     928\n",
       "5.0     927\n",
       "7.0     925\n",
       "4.0     885\n",
       "9.0     882\n",
       "6.0     881\n",
       "10.0    446\n",
       "0.0     382\n",
       "Name: tenure, dtype: int64"
      ]
     },
     "execution_count": 5,
     "metadata": {},
     "output_type": "execute_result"
    }
   ],
   "source": [
    "df['tenure'].value_counts()"
   ]
  },
  {
   "cell_type": "code",
   "execution_count": 6,
   "metadata": {},
   "outputs": [
    {
     "data": {
      "text/plain": [
       "1    4617\n",
       "2    4184\n",
       "3     234\n",
       "4      56\n",
       "Name: numofproducts, dtype: int64"
      ]
     },
     "execution_count": 6,
     "metadata": {},
     "output_type": "execute_result"
    }
   ],
   "source": [
    "df['numofproducts'].value_counts()"
   ]
  },
  {
   "cell_type": "code",
   "execution_count": 7,
   "metadata": {},
   "outputs": [
    {
     "data": {
      "text/plain": [
       "0    7237\n",
       "1    1854\n",
       "Name: exited, dtype: int64"
      ]
     },
     "execution_count": 7,
     "metadata": {},
     "output_type": "execute_result"
    }
   ],
   "source": [
    "df['exited'].value_counts()"
   ]
  },
  {
   "cell_type": "code",
   "execution_count": 8,
   "metadata": {},
   "outputs": [
    {
     "data": {
      "text/plain": [
       "1    6409\n",
       "0    2682\n",
       "Name: hascrcard, dtype: int64"
      ]
     },
     "execution_count": 8,
     "metadata": {},
     "output_type": "execute_result"
    }
   ],
   "source": [
    "df['hascrcard'].value_counts()"
   ]
  },
  {
   "cell_type": "code",
   "execution_count": 9,
   "metadata": {},
   "outputs": [
    {
     "data": {
      "text/plain": [
       "1    4687\n",
       "0    4404\n",
       "Name: isactivemember, dtype: int64"
      ]
     },
     "execution_count": 9,
     "metadata": {},
     "output_type": "execute_result"
    }
   ],
   "source": [
    "df['isactivemember'].value_counts()"
   ]
  },
  {
   "cell_type": "code",
   "execution_count": 10,
   "metadata": {},
   "outputs": [],
   "source": [
    "def make_pie_plot(data, name):\n",
    "    counts = data.value_counts()\n",
    "    counts.plot.pie(legend=True, labeldistance=1.2, autopct='%1.2f%%', figsize=(12,6), title=name)\n",
    "    plt.show()"
   ]
  },
  {
   "cell_type": "code",
   "execution_count": 11,
   "metadata": {},
   "outputs": [
    {
     "data": {
      "image/png": "[encoded data removed]",
      "text/plain": [
       "<Figure size 864x432 with 1 Axes>"
      ]
     },
     "metadata": {},
     "output_type": "display_data"
    }
   ],
   "source": [
    "make_pie_plot(df['exited'], 'Количество клиентов, прекратившие сотрудничество с банком')\n",
    "# 1 = Да, 0 = Нет"
   ]
  },
  {
   "cell_type": "code",
   "execution_count": 12,
   "metadata": {},
   "outputs": [
    {
     "data": {
      "image/png": "[encoded data removed]",
      "text/plain": [
       "<Figure size 864x432 with 1 Axes>"
      ]
     },
     "metadata": {},
     "output_type": "display_data"
    }
   ],
   "source": [
    "make_pie_plot(df['hascrcard'], 'Клиенты у которых есть кредитная карта банка')"
   ]
  },
  {
   "cell_type": "code",
   "execution_count": 13,
   "metadata": {},
   "outputs": [
    {
     "data": {
      "image/png": "[encoded data removed]",
      "text/plain": [
       "<Figure size 864x432 with 1 Axes>"
      ]
     },
     "metadata": {},
     "output_type": "display_data"
    }
   ],
   "source": [
    "make_pie_plot(df['isactivemember'], 'Активные клиенты банка')"
   ]
  },
  {
   "cell_type": "code",
   "execution_count": 14,
   "metadata": {},
   "outputs": [
    {
     "data": {
      "image/png": "[encoded data removed]",
      "text/plain": [
       "<Figure size 864x432 with 1 Axes>"
      ]
     },
     "metadata": {},
     "output_type": "display_data"
    }
   ],
   "source": [
    "make_pie_plot(df['gender'], 'Гендер клиентов банка')"
   ]
  },
  {
   "cell_type": "code",
   "execution_count": 15,
   "metadata": {},
   "outputs": [
    {
     "data": {
      "image/png": "[encoded data removed]",
      "text/plain": [
       "<Figure size 864x432 with 1 Axes>"
      ]
     },
     "metadata": {},
     "output_type": "display_data"
    }
   ],
   "source": [
    "make_pie_plot(df['geography'], 'К каким странам принадлежать клиенты банка')"
   ]
  },
  {
   "cell_type": "code",
   "execution_count": 16,
   "metadata": {},
   "outputs": [
    {
     "data": {
      "image/png": "[encoded data removed]",
      "text/plain": [
       "<Figure size 432x288 with 1 Axes>"
      ]
     },
     "metadata": {
      "needs_background": "light"
     },
     "output_type": "display_data"
    }
   ],
   "source": [
    "df.pivot_table(index='age', values='rownumber', aggfunc='sum').sort_values('age', ascending=False).plot(legend=False, title='Возраст клиентов банка')\n",
    "plt.show()"
   ]
  },
  {
   "cell_type": "code",
   "execution_count": 17,
   "metadata": {},
   "outputs": [
    {
     "data": {
      "image/png": "[encoded data removed]",
      "text/plain": [
       "<Figure size 864x720 with 5 Axes>"
      ]
     },
     "metadata": {
      "needs_background": "light"
     },
     "output_type": "display_data"
    }
   ],
   "source": [
    "plt.figure(figsize=(12,10))\n",
    "columns = ['hascrcard', 'gender', 'isactivemember', 'numofproducts', 'geography']\n",
    "for i in range(5):\n",
    "    plt.subplot(3, 2, i+1)\n",
    "    sb.countplot(x=columns[i], hue='exited', data=df)\n",
    "    plt.xticks(rotation=0)\n",
    "    plt.legend([\"Not Exited\", \"Exited\"])\n",
    "plt.show()"
   ]
  },
  {
   "cell_type": "markdown",
   "metadata": {},
   "source": [
    "Вывод:  \n",
    "9091 запись  \n",
    "Клиенты из Франции, Германии и Испании, большинство из Франции.  \n",
    "Мужчин   4974  \n",
    "Женщин   4117  \n",
    "У банка 4 продукта и количество клиентов, использующих их:  \n",
    "1    4617  \n",
    "2    4184  \n",
    "3     234  \n",
    "4      56  \n",
    "Столбцы  \n",
    "hascrcard  \n",
    "isactivemember  \n",
    "exited  \n",
    "Имеют булевы значения.  \n",
    "Из банка ушло 1854 клиента. Активных 4687 клиентов. Неактивных 4404.   \n",
    "\n",
    "\n",
    "Далее избавимся от ненужных столбцов и напишем функции, необходимые в работе.\n",
    "Функция, которая выделяет признаки и целевой признак.\n",
    "Функция, разделяющая данные на обучающую, валидационную, и тестовую выборку плюс она масштабирует количественные признаки."
   ]
  },
  {
   "cell_type": "code",
   "execution_count": 18,
   "metadata": {},
   "outputs": [],
   "source": [
    "df = df.drop(['rownumber', 'customerid', 'surname'], axis=1)\n",
    "rnd_state = 12345\n",
    "def make_target_features(data, target_col='exited'):    \n",
    "    target = data[target_col]\n",
    "    features = data.drop(target_col, axis=1)\n",
    "    return target, features"
   ]
  },
  {
   "cell_type": "code",
   "execution_count": 19,
   "metadata": {},
   "outputs": [],
   "source": [
    "def split_data(features, target):\n",
    "    features_train, features_valid, target_train, target_valid = train_test_split(features, target, test_size=0.4, random_state=rnd_state)\n",
    "    features_valid, features_test, target_valid, target_test = train_test_split(features_valid, target_valid, test_size=0.5, random_state=rnd_state)\n",
    "        # Масштабируем количественные признаки\n",
    "    scaler = StandardScaler()\n",
    "    numeric = ['creditscore', 'age', 'tenure', 'balance', 'numofproducts', 'estimatedsalary']\n",
    "    scaler.fit(features_train[numeric])\n",
    "    \n",
    "    features_train[numeric] = scaler.transform(features_train[numeric])\n",
    "    features_valid[numeric] = scaler.transform(features_valid[numeric])\n",
    "    features_test[numeric] = scaler.transform(features_test[numeric])\n",
    "    \n",
    "    return features_train, features_valid, features_test, target_train, target_valid, target_test"
   ]
  },
  {
   "cell_type": "code",
   "execution_count": 20,
   "metadata": {},
   "outputs": [],
   "source": [
    "def train_and_predict(data, model, log_prefix='', samplefunc=None, test=False):\n",
    "    target, features = make_target_features(data)\n",
    "    features_train, features_valid, features_test, target_train, target_valid, target_test = split_data(features, target)\n",
    "\n",
    "    if samplefunc:\n",
    "        features_train, target_train = samplefunc(features_train, target_train)\n",
    "    \n",
    "    model.fit(features_train, target_train)\n",
    "    predicted_valid = model.predict(features_valid)    \n",
    "    predicted_valid = model.predict(features_valid) \n",
    "    probabilities_valid = model.predict_proba(features_valid)\n",
    "    probabilities_one_valid = probabilities_valid[:, 1]\n",
    "    print(f'{log_prefix}F1 of valid: {f1_score(target_valid, predicted_valid)}\\t ROC-AUC: {roc_auc_score(target_valid, probabilities_one_valid)}')\n",
    "   \n",
    "    if test:\n",
    "        predictions_test = model.predict(features_test)\n",
    "        print(f'{log_prefix}F1 of test: {f1_score(target_test, predicted_test)}')\n",
    "    \n",
    "    return model"
   ]
  },
  {
   "cell_type": "markdown",
   "metadata": {},
   "source": [
    "Преобразуем категориальные признаки в численные избегая дамми-ловушку."
   ]
  },
  {
   "cell_type": "code",
   "execution_count": 21,
   "metadata": {},
   "outputs": [],
   "source": [
    "data_ohe = pd.get_dummies(df, drop_first=True)"
   ]
  },
  {
   "cell_type": "markdown",
   "metadata": {},
   "source": [
    "## Исследование задачи"
   ]
  },
  {
   "cell_type": "markdown",
   "metadata": {},
   "source": [
    "Посмотрим на распределение ключевого признака."
   ]
  },
  {
   "cell_type": "code",
   "execution_count": 22,
   "metadata": {},
   "outputs": [
    {
     "data": {
      "text/plain": [
       "0    0.796062\n",
       "1    0.203938\n",
       "Name: exited, dtype: float64"
      ]
     },
     "execution_count": 22,
     "metadata": {},
     "output_type": "execute_result"
    }
   ],
   "source": [
    "frequency_of_0_1 = df['exited'].value_counts(normalize=True)\n",
    "frequency_of_0_1"
   ]
  },
  {
   "cell_type": "markdown",
   "metadata": {},
   "source": [
    "Распределение несбалансировано. Пока не будем его выравнивать, ожидая заведомо плохой результат. Для модели логистической регрессии будем использовать прямое кодирование, а для решающего дерева и случайного леса - порядковое кодирование."
   ]
  },
  {
   "cell_type": "code",
   "execution_count": 23,
   "metadata": {},
   "outputs": [],
   "source": [
    "encoder = OrdinalEncoder()\n",
    "data_ordinal = pd.DataFrame(encoder.fit_transform(df), columns=df.columns)"
   ]
  },
  {
   "cell_type": "markdown",
   "metadata": {},
   "source": [
    "### Логистическая регрессия"
   ]
  },
  {
   "cell_type": "code",
   "execution_count": 24,
   "metadata": {},
   "outputs": [
    {
     "name": "stdout",
     "output_type": "stream",
     "text": [
      "F1 of valid: 0.30400000000000005\t ROC-AUC: 0.7736191158144302\n"
     ]
    },
    {
     "data": {
      "text/plain": [
       "LogisticRegression(C=1.0, class_weight=None, dual=False, fit_intercept=True,\n",
       "                   intercept_scaling=1, l1_ratio=None, max_iter=100,\n",
       "                   multi_class='warn', n_jobs=None, penalty='l2',\n",
       "                   random_state=12345, solver='liblinear', tol=0.0001,\n",
       "                   verbose=0, warm_start=False)"
      ]
     },
     "execution_count": 24,
     "metadata": {},
     "output_type": "execute_result"
    }
   ],
   "source": [
    "model = LogisticRegression(solver='liblinear', random_state=rnd_state)\n",
    "train_and_predict(data_ohe, model)"
   ]
  },
  {
   "cell_type": "markdown",
   "metadata": {},
   "source": [
    "F1 ожидаемо низкий  \n",
    "### Дерево решений"
   ]
  },
  {
   "cell_type": "code",
   "execution_count": 25,
   "metadata": {},
   "outputs": [
    {
     "name": "stdout",
     "output_type": "stream",
     "text": [
      "max_depth 2:\tF1 of valid: 0.5304878048780488\t ROC-AUC: 0.7550846100464421\n",
      "max_depth 4:\tF1 of valid: 0.5414551607445008\t ROC-AUC: 0.8213322607900129\n",
      "max_depth 6:\tF1 of valid: 0.5106382978723404\t ROC-AUC: 0.8235945418098617\n",
      "max_depth 8:\tF1 of valid: 0.5085910652920962\t ROC-AUC: 0.8026928323058884\n",
      "max_depth 10:\tF1 of valid: 0.5421133231240429\t ROC-AUC: 0.7656173781469913\n",
      "max_depth 12:\tF1 of valid: 0.5\t ROC-AUC: 0.7214504369018715\n",
      "max_depth 14:\tF1 of valid: 0.4798927613941019\t ROC-AUC: 0.6830404394236982\n",
      "max_depth 16:\tF1 of valid: 0.4746666666666667\t ROC-AUC: 0.6732301654649641\n",
      "max_depth 18:\tF1 of valid: 0.4562334217506631\t ROC-AUC: 0.6620163200842327\n",
      "max_depth 20:\tF1 of valid: 0.45144356955380577\t ROC-AUC: 0.6552506456428541\n"
     ]
    }
   ],
   "source": [
    "for max_depth in range(2, 22, 2):\n",
    "    model = DecisionTreeClassifier(max_depth=max_depth, random_state=rnd_state)\n",
    "    train_and_predict(data_ordinal, model, log_prefix=f'max_depth {max_depth}:\\t')"
   ]
  },
  {
   "cell_type": "markdown",
   "metadata": {},
   "source": [
    "Лучший результат 0.542 при глубине 10  \n",
    "\n",
    "### Случайный лес"
   ]
  },
  {
   "cell_type": "code",
   "execution_count": 26,
   "metadata": {},
   "outputs": [
    {
     "name": "stdout",
     "output_type": "stream",
     "text": [
      "n_estimators = 10:\tF1 of valid: 0.5690235690235691\t ROC-AUC: 0.8520589702479673\n",
      "n_estimators = 20:\tF1 of valid: 0.5724020442930153\t ROC-AUC: 0.8630675720699411\n",
      "n_estimators = 30:\tF1 of valid: 0.5830508474576271\t ROC-AUC: 0.8644803472389679\n",
      "n_estimators = 40:\tF1 of valid: 0.5733788395904437\t ROC-AUC: 0.863703550989679\n",
      "n_estimators = 50:\tF1 of valid: 0.5660377358490567\t ROC-AUC: 0.8654209701853819\n",
      "n_estimators = 60:\tF1 of valid: 0.5655172413793104\t ROC-AUC: 0.8655700708872596\n",
      "n_estimators = 70:\tF1 of valid: 0.5660377358490567\t ROC-AUC: 0.8665327828265443\n",
      "n_estimators = 80:\tF1 of valid: 0.5660377358490567\t ROC-AUC: 0.8667039725212928\n",
      "n_estimators = 90:\tF1 of valid: 0.5565217391304348\t ROC-AUC: 0.8667168577671341\n",
      "n_estimators = 100:\tF1 of valid: 0.5640138408304498\t ROC-AUC: 0.8667260615141636\n",
      "n_estimators = 110:\tF1 of valid: 0.5555555555555556\t ROC-AUC: 0.8665530310700091\n",
      "n_estimators = 120:\tF1 of valid: 0.5555555555555556\t ROC-AUC: 0.8673574385603866\n",
      "n_estimators = 130:\tF1 of valid: 0.5580589254766032\t ROC-AUC: 0.8673077383264276\n",
      "n_estimators = 140:\tF1 of valid: 0.5611015490533563\t ROC-AUC: 0.8673114198252392\n",
      "n_estimators = 150:\tF1 of valid: 0.5655172413793104\t ROC-AUC: 0.8669653589369304\n",
      "n_estimators = 160:\tF1 of valid: 0.563573883161512\t ROC-AUC: 0.8668549139725765\n",
      "n_estimators = 170:\tF1 of valid: 0.5620689655172414\t ROC-AUC: 0.8673740053050398\n",
      "n_estimators = 180:\tF1 of valid: 0.5620689655172414\t ROC-AUC: 0.8673058975770216\n",
      "n_estimators = 190:\tF1 of valid: 0.5679862306368331\t ROC-AUC: 0.8673408718157336\n",
      "n_estimators = 200:\tF1 of valid: 0.5670103092783505\t ROC-AUC: 0.8672561973430621\n"
     ]
    }
   ],
   "source": [
    "for estim in range(10, 201, 10):\n",
    "    model = RandomForestClassifier(n_estimators=estim, max_depth=10, random_state=rnd_state)\n",
    "    train_and_predict(data_ordinal, model, log_prefix=f'n_estimators = {estim}:\\t')"
   ]
  },
  {
   "cell_type": "markdown",
   "metadata": {},
   "source": [
    "Лучший результат  0.583 при n_estimatos=30"
   ]
  },
  {
   "cell_type": "markdown",
   "metadata": {},
   "source": [
    "## Борьба с дисбалансом"
   ]
  },
  {
   "cell_type": "markdown",
   "metadata": {},
   "source": [
    "Сбалансируем классы и обучим модель.\n",
    "\n",
    "### Логистическая регрессия"
   ]
  },
  {
   "cell_type": "code",
   "execution_count": 27,
   "metadata": {},
   "outputs": [
    {
     "name": "stdout",
     "output_type": "stream",
     "text": [
      "F1 of valid: 0.509731232622799\t ROC-AUC: 0.7777884132187896\n"
     ]
    },
    {
     "data": {
      "text/plain": [
       "LogisticRegression(C=1.0, class_weight='balanced', dual=False,\n",
       "                   fit_intercept=True, intercept_scaling=1, l1_ratio=None,\n",
       "                   max_iter=100, multi_class='warn', n_jobs=None, penalty='l2',\n",
       "                   random_state=12345, solver='liblinear', tol=0.0001,\n",
       "                   verbose=0, warm_start=False)"
      ]
     },
     "execution_count": 27,
     "metadata": {},
     "output_type": "execute_result"
    }
   ],
   "source": [
    "model = LogisticRegression(class_weight='balanced', solver='liblinear', random_state=rnd_state)\n",
    "train_and_predict(data_ohe, model)"
   ]
  },
  {
   "cell_type": "markdown",
   "metadata": {},
   "source": [
    "Результат лучше. Переберем глубину решающего дерева.\n",
    "\n",
    "### Решающее дерево"
   ]
  },
  {
   "cell_type": "code",
   "execution_count": 28,
   "metadata": {},
   "outputs": [
    {
     "name": "stdout",
     "output_type": "stream",
     "text": [
      "max_depth 2:\tF1 of valid: 0.5297619047619048\t ROC-AUC: 0.7580721463322148\n",
      "max_depth 4:\tF1 of valid: 0.5045492142266335\t ROC-AUC: 0.8139333685530054\n",
      "max_depth 6:\tF1 of valid: 0.574370709382151\t ROC-AUC: 0.8220759235499956\n",
      "max_depth 8:\tF1 of valid: 0.5362637362637362\t ROC-AUC: 0.7707677949846943\n",
      "max_depth 10:\tF1 of valid: 0.4988962472406181\t ROC-AUC: 0.7218848537616636\n",
      "max_depth 12:\tF1 of valid: 0.4895104895104895\t ROC-AUC: 0.6935741278989501\n",
      "max_depth 14:\tF1 of valid: 0.4809160305343511\t ROC-AUC: 0.676159718144451\n",
      "max_depth 16:\tF1 of valid: 0.4708994708994709\t ROC-AUC: 0.6673563341107431\n",
      "max_depth 18:\tF1 of valid: 0.472630173564753\t ROC-AUC: 0.6668188352842209\n",
      "max_depth 20:\tF1 of valid: 0.4777327935222672\t ROC-AUC: 0.6695017275433174\n"
     ]
    }
   ],
   "source": [
    "for max_depth in range(2, 22, 2):\n",
    "    model = DecisionTreeClassifier(class_weight='balanced', max_depth=max_depth, random_state=rnd_state)\n",
    "    train_and_predict(data_ordinal, model, log_prefix=f'max_depth {max_depth}:\\t')"
   ]
  },
  {
   "cell_type": "markdown",
   "metadata": {},
   "source": [
    "Лучший результат 0.57 при глубине 6.\n",
    "\n",
    "### Случайный лес"
   ]
  },
  {
   "cell_type": "code",
   "execution_count": 29,
   "metadata": {},
   "outputs": [
    {
     "name": "stdout",
     "output_type": "stream",
     "text": [
      "n_estimators = 10:\tF1 of valid: 0.5951859956236324\t ROC-AUC: 0.8496595533973792\n",
      "n_estimators = 20:\tF1 of valid: 0.5995575221238939\t ROC-AUC: 0.8571780943457702\n",
      "n_estimators = 30:\tF1 of valid: 0.6030701754385965\t ROC-AUC: 0.8590170030022624\n",
      "n_estimators = 40:\tF1 of valid: 0.6017699115044248\t ROC-AUC: 0.8592415744297819\n",
      "n_estimators = 50:\tF1 of valid: 0.6068660022148393\t ROC-AUC: 0.8587942723241486\n",
      "n_estimators = 60:\tF1 of valid: 0.6\t ROC-AUC: 0.8579677758409002\n",
      "n_estimators = 70:\tF1 of valid: 0.6030701754385965\t ROC-AUC: 0.8590648624868157\n",
      "n_estimators = 80:\tF1 of valid: 0.6030701754385965\t ROC-AUC: 0.8594863941007663\n",
      "n_estimators = 90:\tF1 of valid: 0.6050605060506049\t ROC-AUC: 0.8603000053381732\n",
      "n_estimators = 100:\tF1 of valid: 0.6046511627906976\t ROC-AUC: 0.8609221786373669\n",
      "n_estimators = 110:\tF1 of valid: 0.6039823008849559\t ROC-AUC: 0.8609902863653851\n",
      "n_estimators = 120:\tF1 of valid: 0.6008771929824562\t ROC-AUC: 0.8612111762940929\n",
      "n_estimators = 130:\tF1 of valid: 0.6026490066225165\t ROC-AUC: 0.8615314666907191\n",
      "n_estimators = 140:\tF1 of valid: 0.6041896361631752\t ROC-AUC: 0.8616879303902205\n",
      "n_estimators = 150:\tF1 of valid: 0.599779492833517\t ROC-AUC: 0.8619032980707104\n",
      "n_estimators = 160:\tF1 of valid: 0.6039387308533917\t ROC-AUC: 0.8620284690303116\n",
      "n_estimators = 170:\tF1 of valid: 0.6030701754385965\t ROC-AUC: 0.862293536944761\n",
      "n_estimators = 180:\tF1 of valid: 0.6037321624588364\t ROC-AUC: 0.8620505580231824\n",
      "n_estimators = 190:\tF1 of valid: 0.6043956043956045\t ROC-AUC: 0.8618830498272457\n",
      "n_estimators = 200:\tF1 of valid: 0.6041896361631752\t ROC-AUC: 0.861623504161014\n"
     ]
    }
   ],
   "source": [
    "for estim in range(10, 201, 10):\n",
    "    model = RandomForestClassifier(class_weight='balanced', n_estimators=estim, max_depth=6, random_state=rnd_state)\n",
    "    train_and_predict(data_ordinal, model, log_prefix=f'n_estimators = {estim}:\\t')"
   ]
  },
  {
   "cell_type": "markdown",
   "metadata": {},
   "source": [
    "Лучший результат  0.607 при n_estimators = 50. Увеличим выборку.\n",
    "### Увеличение выборки"
   ]
  },
  {
   "cell_type": "code",
   "execution_count": 30,
   "metadata": {},
   "outputs": [],
   "source": [
    "def upsample(features, target, repeat=10):\n",
    "    features_zeros = features[target == 0]\n",
    "    features_ones = features[target == 1]\n",
    "    target_zeros = target[target == 0]\n",
    "    target_ones = target[target == 1]\n",
    "\n",
    "    features_upsampled = pd.concat([features_zeros] + [features_ones] * repeat)\n",
    "    target_upsampled = pd.concat([target_zeros] + [target_ones] * repeat)\n",
    "    \n",
    "    features_upsampled, target_upsampled = shuffle(\n",
    "        features_upsampled, target_upsampled, random_state=rnd_state)\n",
    "    \n",
    "    return features_upsampled, target_upsampled"
   ]
  },
  {
   "cell_type": "markdown",
   "metadata": {},
   "source": [
    "\n",
    "\n",
    "### Логистическая регрессия"
   ]
  },
  {
   "cell_type": "code",
   "execution_count": 31,
   "metadata": {},
   "outputs": [
    {
     "name": "stdout",
     "output_type": "stream",
     "text": [
      "F1 of valid: 0.41538461538461535\t ROC-AUC: 0.7792702164905376\n"
     ]
    },
    {
     "data": {
      "text/plain": [
       "LogisticRegression(C=1.0, class_weight=None, dual=False, fit_intercept=True,\n",
       "                   intercept_scaling=1, l1_ratio=None, max_iter=100,\n",
       "                   multi_class='warn', n_jobs=None, penalty='l2',\n",
       "                   random_state=12345, solver='liblinear', tol=0.0001,\n",
       "                   verbose=0, warm_start=False)"
      ]
     },
     "execution_count": 31,
     "metadata": {},
     "output_type": "execute_result"
    }
   ],
   "source": [
    "model = LogisticRegression(solver='liblinear', random_state=rnd_state)\n",
    "train_and_predict(data_ohe, model, samplefunc=upsample)"
   ]
  },
  {
   "cell_type": "markdown",
   "metadata": {},
   "source": [
    "Результат стал хуже. Плсмотрим на остальные модели.\n",
    "\n",
    "### Дерево решений"
   ]
  },
  {
   "cell_type": "code",
   "execution_count": 32,
   "metadata": {},
   "outputs": [
    {
     "name": "stdout",
     "output_type": "stream",
     "text": [
      "max_depth 2:\tF1 of valid: 0.5100788781770377\t ROC-AUC: 0.7466116405310931\n",
      "max_depth 4:\tF1 of valid: 0.4598786244099798\t ROC-AUC: 0.833960722089177\n",
      "max_depth 6:\tF1 of valid: 0.5321100917431193\t ROC-AUC: 0.8339441553445238\n",
      "max_depth 8:\tF1 of valid: 0.4886452623335944\t ROC-AUC: 0.8022262023314931\n",
      "max_depth 10:\tF1 of valid: 0.4908616187989556\t ROC-AUC: 0.762727401579731\n",
      "max_depth 12:\tF1 of valid: 0.4820213799805637\t ROC-AUC: 0.7264959310234382\n",
      "max_depth 14:\tF1 of valid: 0.4722222222222222\t ROC-AUC: 0.6982542332634463\n",
      "max_depth 16:\tF1 of valid: 0.46539379474940334\t ROC-AUC: 0.6773405588883346\n",
      "max_depth 18:\tF1 of valid: 0.463130659767141\t ROC-AUC: 0.6673986713470788\n",
      "max_depth 20:\tF1 of valid: 0.4489247311827957\t ROC-AUC: 0.6531853248094364\n"
     ]
    }
   ],
   "source": [
    "for max_depth in range(2, 22, 2):\n",
    "    model = DecisionTreeClassifier(max_depth=max_depth, random_state=rnd_state)\n",
    "    train_and_predict(data_ordinal, model, samplefunc=upsample, log_prefix=f'max_depth {max_depth}:\\t')"
   ]
  },
  {
   "cell_type": "markdown",
   "metadata": {},
   "source": [
    "Лучший результат 0.53 при глубине 6.\n",
    "\n",
    "### Случайный лес"
   ]
  },
  {
   "cell_type": "code",
   "execution_count": 33,
   "metadata": {},
   "outputs": [
    {
     "name": "stdout",
     "output_type": "stream",
     "text": [
      "n_estimators = 10:\tF1 of valid: 0.4680564895763281\t ROC-AUC: 0.8406555276784284\n",
      "n_estimators = 20:\tF1 of valid: 0.47162162162162163\t ROC-AUC: 0.8489803168666028\n",
      "n_estimators = 30:\tF1 of valid: 0.472630173564753\t ROC-AUC: 0.851791141209409\n",
      "n_estimators = 40:\tF1 of valid: 0.46839654025282773\t ROC-AUC: 0.8521510077182621\n",
      "n_estimators = 50:\tF1 of valid: 0.46925133689839577\t ROC-AUC: 0.8532075978772476\n",
      "n_estimators = 60:\tF1 of valid: 0.4687083888149135\t ROC-AUC: 0.8526719398001315\n",
      "n_estimators = 70:\tF1 of valid: 0.46941489361702127\t ROC-AUC: 0.8537892746895116\n",
      "n_estimators = 80:\tF1 of valid: 0.4677740863787375\t ROC-AUC: 0.8538260896776295\n",
      "n_estimators = 90:\tF1 of valid: 0.4706666666666667\t ROC-AUC: 0.8533898320684316\n",
      "n_estimators = 100:\tF1 of valid: 0.46902065289806805\t ROC-AUC: 0.8535426142691214\n",
      "n_estimators = 110:\tF1 of valid: 0.4706666666666667\t ROC-AUC: 0.8541537430718795\n",
      "n_estimators = 120:\tF1 of valid: 0.4688741721854305\t ROC-AUC: 0.8534008765648671\n",
      "n_estimators = 130:\tF1 of valid: 0.4706666666666667\t ROC-AUC: 0.8541887173105915\n",
      "n_estimators = 140:\tF1 of valid: 0.47129506008010685\t ROC-AUC: 0.8540985205897025\n",
      "n_estimators = 150:\tF1 of valid: 0.46600660066006594\t ROC-AUC: 0.8541923988094033\n",
      "n_estimators = 160:\tF1 of valid: 0.4675496688741722\t ROC-AUC: 0.8542660287856392\n",
      "n_estimators = 170:\tF1 of valid: 0.4669312169312169\t ROC-AUC: 0.853999120121784\n",
      "n_estimators = 180:\tF1 of valid: 0.4675496688741722\t ROC-AUC: 0.8538997196538656\n",
      "n_estimators = 190:\tF1 of valid: 0.4691029900332226\t ROC-AUC: 0.8538978789044596\n",
      "n_estimators = 200:\tF1 of valid: 0.4691029900332226\t ROC-AUC: 0.853835293424659\n"
     ]
    }
   ],
   "source": [
    "for estim in range(10, 201, 10):\n",
    "    model = RandomForestClassifier(n_estimators=estim, max_depth=6, random_state=rnd_state)\n",
    "    train_and_predict(data_ordinal, model, samplefunc=upsample, log_prefix=f'n_estimators = {estim}:\\t')"
   ]
  },
  {
   "cell_type": "markdown",
   "metadata": {},
   "source": [
    "Лучший результат 0.473 при n_estimators = 30.\n",
    "### Уменьшение выборки\n"
   ]
  },
  {
   "cell_type": "code",
   "execution_count": 34,
   "metadata": {},
   "outputs": [],
   "source": [
    "def downsample(features, target, fraction = 0.2):\n",
    "    features_zeros = features[target == 0]\n",
    "    features_ones = features[target == 1]\n",
    "    target_zeros = target[target == 0]\n",
    "    target_ones = target[target == 1]\n",
    "\n",
    "    features_downsampled = pd.concat(\n",
    "        [features_zeros.sample(frac=fraction, random_state=rnd_state)] + [features_ones]\n",
    "    )\n",
    "    target_downsampled = pd.concat(\n",
    "        [target_zeros.sample(frac=fraction, random_state=rnd_state)] + [target_ones]\n",
    "    )\n",
    "    \n",
    "    return features_downsampled, target_downsampled"
   ]
  },
  {
   "cell_type": "markdown",
   "metadata": {},
   "source": [
    "### Логистическая регрессия"
   ]
  },
  {
   "cell_type": "code",
   "execution_count": 35,
   "metadata": {},
   "outputs": [
    {
     "name": "stdout",
     "output_type": "stream",
     "text": [
      "F1 of valid: 0.48878205128205127\t ROC-AUC: 0.7786682914348089\n"
     ]
    },
    {
     "data": {
      "text/plain": [
       "LogisticRegression(C=1.0, class_weight=None, dual=False, fit_intercept=True,\n",
       "                   intercept_scaling=1, l1_ratio=None, max_iter=100,\n",
       "                   multi_class='warn', n_jobs=None, penalty='l2',\n",
       "                   random_state=12345, solver='liblinear', tol=0.0001,\n",
       "                   verbose=0, warm_start=False)"
      ]
     },
     "execution_count": 35,
     "metadata": {},
     "output_type": "execute_result"
    }
   ],
   "source": [
    "model = LogisticRegression(solver='liblinear', random_state=rnd_state)\n",
    "train_and_predict(data_ohe, model, samplefunc=downsample)"
   ]
  },
  {
   "cell_type": "markdown",
   "metadata": {},
   "source": [
    "Опять невысокий результат 0.49.\n",
    "\n",
    "### Дерево решений"
   ]
  },
  {
   "cell_type": "code",
   "execution_count": 36,
   "metadata": {},
   "outputs": [
    {
     "name": "stdout",
     "output_type": "stream",
     "text": [
      "max_depth 2:\tF1 of valid: 0.5100788781770377\t ROC-AUC: 0.7466116405310931\n",
      "max_depth 4:\tF1 of valid: 0.5242399342645849\t ROC-AUC: 0.8293183520875018\n",
      "max_depth 6:\tF1 of valid: 0.533003300330033\t ROC-AUC: 0.8302690991556483\n",
      "max_depth 8:\tF1 of valid: 0.5238938053097345\t ROC-AUC: 0.7950850150113115\n",
      "max_depth 10:\tF1 of valid: 0.5340699815837937\t ROC-AUC: 0.752086029264234\n",
      "max_depth 12:\tF1 of valid: 0.5057880676758681\t ROC-AUC: 0.7268171417947675\n",
      "max_depth 14:\tF1 of valid: 0.497391304347826\t ROC-AUC: 0.7118085915137771\n",
      "max_depth 16:\tF1 of valid: 0.4861111111111111\t ROC-AUC: 0.7026131278566128\n",
      "max_depth 18:\tF1 of valid: 0.49043478260869566\t ROC-AUC: 0.7036375049009953\n",
      "max_depth 20:\tF1 of valid: 0.49043478260869566\t ROC-AUC: 0.7036375049009953\n"
     ]
    }
   ],
   "source": [
    "for max_depth in range(2, 22, 2):\n",
    "    model = DecisionTreeClassifier(max_depth=max_depth, random_state=rnd_state)\n",
    "    train_and_predict(data_ordinal, model, samplefunc=downsample, log_prefix=f'max_depth {max_depth}:\\t')"
   ]
  },
  {
   "cell_type": "markdown",
   "metadata": {},
   "source": [
    "Лучший результат 0.53 при глубине дерева 6.\n",
    "\n",
    "### Случайный лес"
   ]
  },
  {
   "cell_type": "code",
   "execution_count": 37,
   "metadata": {},
   "outputs": [
    {
     "name": "stdout",
     "output_type": "stream",
     "text": [
      "n_estimators = 10:\tF1 of valid: 0.5363321799307958\t ROC-AUC: 0.8468919866656114\n",
      "n_estimators = 20:\tF1 of valid: 0.5410122164048865\t ROC-AUC: 0.8506756470694349\n",
      "n_estimators = 30:\tF1 of valid: 0.5393258426966292\t ROC-AUC: 0.8542908789026189\n",
      "n_estimators = 40:\tF1 of valid: 0.5456110154905337\t ROC-AUC: 0.8547952442398349\n",
      "n_estimators = 50:\tF1 of valid: 0.5504745470232959\t ROC-AUC: 0.8558868086375324\n",
      "n_estimators = 60:\tF1 of valid: 0.5473321858864028\t ROC-AUC: 0.8560718039528253\n",
      "n_estimators = 70:\tF1 of valid: 0.5479688850475367\t ROC-AUC: 0.8562853308839095\n",
      "n_estimators = 80:\tF1 of valid: 0.5538194444444444\t ROC-AUC: 0.8569185486795384\n",
      "n_estimators = 90:\tF1 of valid: 0.5545064377682404\t ROC-AUC: 0.8574357992625958\n",
      "n_estimators = 100:\tF1 of valid: 0.5556514236410699\t ROC-AUC: 0.8575333589811085\n",
      "n_estimators = 110:\tF1 of valid: 0.5571797076526226\t ROC-AUC: 0.8574284362649722\n",
      "n_estimators = 120:\tF1 of valid: 0.5564168819982774\t ROC-AUC: 0.8573732137827952\n",
      "n_estimators = 130:\tF1 of valid: 0.559792027729636\t ROC-AUC: 0.8573971435250719\n",
      "n_estimators = 140:\tF1 of valid: 0.5585429314830876\t ROC-AUC: 0.8572977430571536\n",
      "n_estimators = 150:\tF1 of valid: 0.5563258232235702\t ROC-AUC: 0.8575499257257614\n",
      "n_estimators = 160:\tF1 of valid: 0.5555555555555556\t ROC-AUC: 0.8576953449288274\n",
      "n_estimators = 170:\tF1 of valid: 0.5561312607944733\t ROC-AUC: 0.8577726564038751\n",
      "n_estimators = 180:\tF1 of valid: 0.5570934256055363\t ROC-AUC: 0.8574726142507139\n",
      "n_estimators = 190:\tF1 of valid: 0.5545927209705372\t ROC-AUC: 0.8574818179977431\n",
      "n_estimators = 200:\tF1 of valid: 0.5570934256055363\t ROC-AUC: 0.8573695322839835\n"
     ]
    }
   ],
   "source": [
    "for estim in range(10, 201, 10):\n",
    "    model = RandomForestClassifier(n_estimators=estim, max_depth=6, random_state=rnd_state)\n",
    "    train_and_predict(data_ordinal, model, samplefunc=downsample, log_prefix=f'n_estimators = {estim}:\\t')"
   ]
  },
  {
   "cell_type": "markdown",
   "metadata": {},
   "source": [
    "Лучший результат 0.559 при n_estimators = 130."
   ]
  },
  {
   "cell_type": "markdown",
   "metadata": {},
   "source": [
    "## Тестирование модели"
   ]
  },
  {
   "cell_type": "code",
   "execution_count": 38,
   "metadata": {},
   "outputs": [
    {
     "name": "stdout",
     "output_type": "stream",
     "text": [
      "valid: 0.6026490066225165\n",
      "test: 0.5744186046511628\n"
     ]
    }
   ],
   "source": [
    "target, features = make_target_features(data_ordinal)\n",
    "features_train, features_valid, features_test, target_train, target_valid, target_test = split_data(features, target)\n",
    "\n",
    "model = RandomForestClassifier(class_weight='balanced', n_estimators=130, max_depth=6, random_state=rnd_state)\n",
    "model.fit(features_train, target_train)\n",
    "\n",
    "predicted_valid = model.predict(features_valid)\n",
    "print('valid:', f1_score(target_valid, predicted_valid))\n",
    "\n",
    "predicted_test = model.predict(features_test)\n",
    "print('test:', f1_score(target_test, predicted_test))"
   ]
  },
  {
   "cell_type": "markdown",
   "metadata": {},
   "source": [
    "0.603 на валидационной выборке. Посмотрим на AUC-ROC метрику."
   ]
  },
  {
   "cell_type": "code",
   "execution_count": 39,
   "metadata": {},
   "outputs": [
    {
     "data": {
      "text/plain": [
       "0.8615314666907191"
      ]
     },
     "execution_count": 39,
     "metadata": {},
     "output_type": "execute_result"
    }
   ],
   "source": [
    "\n",
    "probabilities_valid = model.predict_proba(features_valid)\n",
    "probabilities_one_valid = probabilities_valid[:, 1]\n",
    "\n",
    "roc_auc_score(target_valid, probabilities_one_valid)"
   ]
  },
  {
   "cell_type": "markdown",
   "metadata": {},
   "source": [
    "0.86 - указывает нав высокое качество выбранной модели.\n",
    "\n",
    "__Итог: лучшая модель - случайный лес с параметрами  n_estimators=130, max_depth=6.__"
   ]
  }
 ],
 "metadata": {
  "kernelspec": {
   "display_name": "Python 3",
   "language": "python",
   "name": "python3"
  },
  "language_info": {
   "codemirror_mode": {
    "name": "ipython",
    "version": 3
   },
   "file_extension": ".py",
   "mimetype": "text/x-python",
   "name": "python",
   "nbconvert_exporter": "python",
   "pygments_lexer": "ipython3",
   "version": "3.7.8"
  },
  "toc": {
   "base_numbering": 1,
   "nav_menu": {},
   "number_sections": true,
   "sideBar": true,
   "skip_h1_title": true,
   "title_cell": "Содержание",
   "title_sidebar": "Contents",
   "toc_cell": true,
   "toc_position": {
    "height": "calc(100% - 180px)",
    "left": "10px",
    "top": "150px",
    "width": "366.391px"
   },
   "toc_section_display": true,
   "toc_window_display": true
  }
 },
 "nbformat": 4,
 "nbformat_minor": 2
}
