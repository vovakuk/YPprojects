{
 "cells": [
  {
   "cell_type": "markdown",
   "metadata": {},
   "source": [
    "# Определение стоимости автомобилей"
   ]
  },
  {
   "cell_type": "markdown",
   "metadata": {},
   "source": [
    "Сервис по продаже автомобилей с пробегом «Не бит, не крашен» разрабатывает приложение для привлечения новых клиентов. В нём можно быстро узнать рыночную стоимость своего автомобиля. В вашем распоряжении исторические данные: технические характеристики, комплектации и цены автомобилей. Вам нужно построить модель для определения стоимости. \n",
    "\n",
    "Заказчику важны:\n",
    "\n",
    "- качество предсказания;\n",
    "- скорость предсказания;\n",
    "- время обучения."
   ]
  },
  {
   "cell_type": "markdown",
   "metadata": {},
   "source": [
    "## Подготовка данных"
   ]
  },
  {
   "cell_type": "code",
   "execution_count": 1,
   "metadata": {},
   "outputs": [],
   "source": [
    "import pandas as pd\n",
    "import numpy as np\n",
    "from sklearn.model_selection import train_test_split\n",
    "from sklearn.preprocessing import OrdinalEncoder\n",
    "from sklearn.metrics import mean_squared_error\n",
    "from catboost import CatBoostRegressor\n",
    "from sklearn.ensemble import RandomForestRegressor\n",
    "from sklearn.linear_model import LinearRegression\n",
    "import lightgbm as lgb\n",
    "import matplotlib.pyplot as plt\n",
    "import seaborn as sns\n",
    "from sklearn import preprocessing\n",
    "from sklearn.preprocessing import OrdinalEncoder\n",
    "import warnings\n",
    "warnings.filterwarnings(\"ignore\")"
   ]
  },
  {
   "cell_type": "markdown",
   "metadata": {},
   "source": [
    "<div class=\"alert alert-block alert-success\">\n",
    "<b>Успех:</b> Отлично, что все импорты собраны в первой ячейке ноутбука! Если у того, кто будет запускать твой ноутбук будут отсутствовать некоторые библиотеки, то он это увидит сразу, а не в процессе!\n",
    "</div>"
   ]
  },
  {
   "cell_type": "code",
   "execution_count": 2,
   "metadata": {},
   "outputs": [
    {
     "data": {
      "text/html": [
       "<div>\n",
       "<style scoped>\n",
       "    .dataframe tbody tr th:only-of-type {\n",
       "        vertical-align: middle;\n",
       "    }\n",
       "\n",
       "    .dataframe tbody tr th {\n",
       "        vertical-align: top;\n",
       "    }\n",
       "\n",
       "    .dataframe thead th {\n",
       "        text-align: right;\n",
       "    }\n",
       "</style>\n",
       "<table border=\"1\" class=\"dataframe\">\n",
       "  <thead>\n",
       "    <tr style=\"text-align: right;\">\n",
       "      <th></th>\n",
       "      <th>DateCrawled</th>\n",
       "      <th>Price</th>\n",
       "      <th>VehicleType</th>\n",
       "      <th>RegistrationYear</th>\n",
       "      <th>Gearbox</th>\n",
       "      <th>Power</th>\n",
       "      <th>Model</th>\n",
       "      <th>Kilometer</th>\n",
       "      <th>RegistrationMonth</th>\n",
       "      <th>FuelType</th>\n",
       "      <th>Brand</th>\n",
       "      <th>NotRepaired</th>\n",
       "      <th>DateCreated</th>\n",
       "      <th>NumberOfPictures</th>\n",
       "      <th>PostalCode</th>\n",
       "      <th>LastSeen</th>\n",
       "    </tr>\n",
       "  </thead>\n",
       "  <tbody>\n",
       "    <tr>\n",
       "      <td>0</td>\n",
       "      <td>2016-03-24 11:52:17</td>\n",
       "      <td>480</td>\n",
       "      <td>NaN</td>\n",
       "      <td>1993</td>\n",
       "      <td>manual</td>\n",
       "      <td>0</td>\n",
       "      <td>golf</td>\n",
       "      <td>150000</td>\n",
       "      <td>0</td>\n",
       "      <td>petrol</td>\n",
       "      <td>volkswagen</td>\n",
       "      <td>NaN</td>\n",
       "      <td>2016-03-24 00:00:00</td>\n",
       "      <td>0</td>\n",
       "      <td>70435</td>\n",
       "      <td>2016-04-07 03:16:57</td>\n",
       "    </tr>\n",
       "    <tr>\n",
       "      <td>1</td>\n",
       "      <td>2016-03-24 10:58:45</td>\n",
       "      <td>18300</td>\n",
       "      <td>coupe</td>\n",
       "      <td>2011</td>\n",
       "      <td>manual</td>\n",
       "      <td>190</td>\n",
       "      <td>NaN</td>\n",
       "      <td>125000</td>\n",
       "      <td>5</td>\n",
       "      <td>gasoline</td>\n",
       "      <td>audi</td>\n",
       "      <td>yes</td>\n",
       "      <td>2016-03-24 00:00:00</td>\n",
       "      <td>0</td>\n",
       "      <td>66954</td>\n",
       "      <td>2016-04-07 01:46:50</td>\n",
       "    </tr>\n",
       "    <tr>\n",
       "      <td>2</td>\n",
       "      <td>2016-03-14 12:52:21</td>\n",
       "      <td>9800</td>\n",
       "      <td>suv</td>\n",
       "      <td>2004</td>\n",
       "      <td>auto</td>\n",
       "      <td>163</td>\n",
       "      <td>grand</td>\n",
       "      <td>125000</td>\n",
       "      <td>8</td>\n",
       "      <td>gasoline</td>\n",
       "      <td>jeep</td>\n",
       "      <td>NaN</td>\n",
       "      <td>2016-03-14 00:00:00</td>\n",
       "      <td>0</td>\n",
       "      <td>90480</td>\n",
       "      <td>2016-04-05 12:47:46</td>\n",
       "    </tr>\n",
       "    <tr>\n",
       "      <td>3</td>\n",
       "      <td>2016-03-17 16:54:04</td>\n",
       "      <td>1500</td>\n",
       "      <td>small</td>\n",
       "      <td>2001</td>\n",
       "      <td>manual</td>\n",
       "      <td>75</td>\n",
       "      <td>golf</td>\n",
       "      <td>150000</td>\n",
       "      <td>6</td>\n",
       "      <td>petrol</td>\n",
       "      <td>volkswagen</td>\n",
       "      <td>no</td>\n",
       "      <td>2016-03-17 00:00:00</td>\n",
       "      <td>0</td>\n",
       "      <td>91074</td>\n",
       "      <td>2016-03-17 17:40:17</td>\n",
       "    </tr>\n",
       "    <tr>\n",
       "      <td>4</td>\n",
       "      <td>2016-03-31 17:25:20</td>\n",
       "      <td>3600</td>\n",
       "      <td>small</td>\n",
       "      <td>2008</td>\n",
       "      <td>manual</td>\n",
       "      <td>69</td>\n",
       "      <td>fabia</td>\n",
       "      <td>90000</td>\n",
       "      <td>7</td>\n",
       "      <td>gasoline</td>\n",
       "      <td>skoda</td>\n",
       "      <td>no</td>\n",
       "      <td>2016-03-31 00:00:00</td>\n",
       "      <td>0</td>\n",
       "      <td>60437</td>\n",
       "      <td>2016-04-06 10:17:21</td>\n",
       "    </tr>\n",
       "  </tbody>\n",
       "</table>\n",
       "</div>"
      ],
      "text/plain": [
       "           DateCrawled  Price VehicleType  RegistrationYear Gearbox  Power  \\\n",
       "0  2016-03-24 11:52:17    480         NaN              1993  manual      0   \n",
       "1  2016-03-24 10:58:45  18300       coupe              2011  manual    190   \n",
       "2  2016-03-14 12:52:21   9800         suv              2004    auto    163   \n",
       "3  2016-03-17 16:54:04   1500       small              2001  manual     75   \n",
       "4  2016-03-31 17:25:20   3600       small              2008  manual     69   \n",
       "\n",
       "   Model  Kilometer  RegistrationMonth  FuelType       Brand NotRepaired  \\\n",
       "0   golf     150000                  0    petrol  volkswagen         NaN   \n",
       "1    NaN     125000                  5  gasoline        audi         yes   \n",
       "2  grand     125000                  8  gasoline        jeep         NaN   \n",
       "3   golf     150000                  6    petrol  volkswagen          no   \n",
       "4  fabia      90000                  7  gasoline       skoda          no   \n",
       "\n",
       "           DateCreated  NumberOfPictures  PostalCode             LastSeen  \n",
       "0  2016-03-24 00:00:00                 0       70435  2016-04-07 03:16:57  \n",
       "1  2016-03-24 00:00:00                 0       66954  2016-04-07 01:46:50  \n",
       "2  2016-03-14 00:00:00                 0       90480  2016-04-05 12:47:46  \n",
       "3  2016-03-17 00:00:00                 0       91074  2016-03-17 17:40:17  \n",
       "4  2016-03-31 00:00:00                 0       60437  2016-04-06 10:17:21  "
      ]
     },
     "execution_count": 2,
     "metadata": {},
     "output_type": "execute_result"
    }
   ],
   "source": [
    "data = pd.read_csv('/datasets/autos.csv')\n",
    "data.head()"
   ]
  },
  {
   "cell_type": "code",
   "execution_count": 3,
   "metadata": {},
   "outputs": [
    {
     "name": "stdout",
     "output_type": "stream",
     "text": [
      "<class 'pandas.core.frame.DataFrame'>\n",
      "RangeIndex: 354369 entries, 0 to 354368\n",
      "Data columns (total 16 columns):\n",
      "DateCrawled          354369 non-null object\n",
      "Price                354369 non-null int64\n",
      "VehicleType          316879 non-null object\n",
      "RegistrationYear     354369 non-null int64\n",
      "Gearbox              334536 non-null object\n",
      "Power                354369 non-null int64\n",
      "Model                334664 non-null object\n",
      "Kilometer            354369 non-null int64\n",
      "RegistrationMonth    354369 non-null int64\n",
      "FuelType             321474 non-null object\n",
      "Brand                354369 non-null object\n",
      "NotRepaired          283215 non-null object\n",
      "DateCreated          354369 non-null object\n",
      "NumberOfPictures     354369 non-null int64\n",
      "PostalCode           354369 non-null int64\n",
      "LastSeen             354369 non-null object\n",
      "dtypes: int64(7), object(9)\n",
      "memory usage: 43.3+ MB\n",
      "None\n"
     ]
    }
   ],
   "source": [
    "print(data.info())"
   ]
  },
  {
   "cell_type": "code",
   "execution_count": 4,
   "metadata": {},
   "outputs": [
    {
     "data": {
      "text/plain": [
       "DateCrawled              0\n",
       "Price                    0\n",
       "VehicleType          37490\n",
       "RegistrationYear         0\n",
       "Gearbox              19833\n",
       "Power                    0\n",
       "Model                19705\n",
       "Kilometer                0\n",
       "RegistrationMonth        0\n",
       "FuelType             32895\n",
       "Brand                    0\n",
       "NotRepaired          71154\n",
       "DateCreated              0\n",
       "NumberOfPictures         0\n",
       "PostalCode               0\n",
       "LastSeen                 0\n",
       "dtype: int64"
      ]
     },
     "execution_count": 4,
     "metadata": {},
     "output_type": "execute_result"
    }
   ],
   "source": [
    "data.isnull().sum()"
   ]
  },
  {
   "cell_type": "code",
   "execution_count": 5,
   "metadata": {},
   "outputs": [
    {
     "data": {
      "text/html": [
       "<div>\n",
       "<style scoped>\n",
       "    .dataframe tbody tr th:only-of-type {\n",
       "        vertical-align: middle;\n",
       "    }\n",
       "\n",
       "    .dataframe tbody tr th {\n",
       "        vertical-align: top;\n",
       "    }\n",
       "\n",
       "    .dataframe thead th {\n",
       "        text-align: right;\n",
       "    }\n",
       "</style>\n",
       "<table border=\"1\" class=\"dataframe\">\n",
       "  <thead>\n",
       "    <tr style=\"text-align: right;\">\n",
       "      <th></th>\n",
       "      <th>Price</th>\n",
       "      <th>RegistrationYear</th>\n",
       "      <th>Power</th>\n",
       "      <th>Kilometer</th>\n",
       "      <th>RegistrationMonth</th>\n",
       "      <th>NumberOfPictures</th>\n",
       "      <th>PostalCode</th>\n",
       "    </tr>\n",
       "  </thead>\n",
       "  <tbody>\n",
       "    <tr>\n",
       "      <td>count</td>\n",
       "      <td>354369.000000</td>\n",
       "      <td>354369.000000</td>\n",
       "      <td>354369.000000</td>\n",
       "      <td>354369.000000</td>\n",
       "      <td>354369.000000</td>\n",
       "      <td>354369.0</td>\n",
       "      <td>354369.000000</td>\n",
       "    </tr>\n",
       "    <tr>\n",
       "      <td>mean</td>\n",
       "      <td>4416.656776</td>\n",
       "      <td>2004.234448</td>\n",
       "      <td>110.094337</td>\n",
       "      <td>128211.172535</td>\n",
       "      <td>5.714645</td>\n",
       "      <td>0.0</td>\n",
       "      <td>50508.689087</td>\n",
       "    </tr>\n",
       "    <tr>\n",
       "      <td>std</td>\n",
       "      <td>4514.158514</td>\n",
       "      <td>90.227958</td>\n",
       "      <td>189.850405</td>\n",
       "      <td>37905.341530</td>\n",
       "      <td>3.726421</td>\n",
       "      <td>0.0</td>\n",
       "      <td>25783.096248</td>\n",
       "    </tr>\n",
       "    <tr>\n",
       "      <td>min</td>\n",
       "      <td>0.000000</td>\n",
       "      <td>1000.000000</td>\n",
       "      <td>0.000000</td>\n",
       "      <td>5000.000000</td>\n",
       "      <td>0.000000</td>\n",
       "      <td>0.0</td>\n",
       "      <td>1067.000000</td>\n",
       "    </tr>\n",
       "    <tr>\n",
       "      <td>25%</td>\n",
       "      <td>1050.000000</td>\n",
       "      <td>1999.000000</td>\n",
       "      <td>69.000000</td>\n",
       "      <td>125000.000000</td>\n",
       "      <td>3.000000</td>\n",
       "      <td>0.0</td>\n",
       "      <td>30165.000000</td>\n",
       "    </tr>\n",
       "    <tr>\n",
       "      <td>50%</td>\n",
       "      <td>2700.000000</td>\n",
       "      <td>2003.000000</td>\n",
       "      <td>105.000000</td>\n",
       "      <td>150000.000000</td>\n",
       "      <td>6.000000</td>\n",
       "      <td>0.0</td>\n",
       "      <td>49413.000000</td>\n",
       "    </tr>\n",
       "    <tr>\n",
       "      <td>75%</td>\n",
       "      <td>6400.000000</td>\n",
       "      <td>2008.000000</td>\n",
       "      <td>143.000000</td>\n",
       "      <td>150000.000000</td>\n",
       "      <td>9.000000</td>\n",
       "      <td>0.0</td>\n",
       "      <td>71083.000000</td>\n",
       "    </tr>\n",
       "    <tr>\n",
       "      <td>max</td>\n",
       "      <td>20000.000000</td>\n",
       "      <td>9999.000000</td>\n",
       "      <td>20000.000000</td>\n",
       "      <td>150000.000000</td>\n",
       "      <td>12.000000</td>\n",
       "      <td>0.0</td>\n",
       "      <td>99998.000000</td>\n",
       "    </tr>\n",
       "  </tbody>\n",
       "</table>\n",
       "</div>"
      ],
      "text/plain": [
       "               Price  RegistrationYear          Power      Kilometer  \\\n",
       "count  354369.000000     354369.000000  354369.000000  354369.000000   \n",
       "mean     4416.656776       2004.234448     110.094337  128211.172535   \n",
       "std      4514.158514         90.227958     189.850405   37905.341530   \n",
       "min         0.000000       1000.000000       0.000000    5000.000000   \n",
       "25%      1050.000000       1999.000000      69.000000  125000.000000   \n",
       "50%      2700.000000       2003.000000     105.000000  150000.000000   \n",
       "75%      6400.000000       2008.000000     143.000000  150000.000000   \n",
       "max     20000.000000       9999.000000   20000.000000  150000.000000   \n",
       "\n",
       "       RegistrationMonth  NumberOfPictures     PostalCode  \n",
       "count      354369.000000          354369.0  354369.000000  \n",
       "mean            5.714645               0.0   50508.689087  \n",
       "std             3.726421               0.0   25783.096248  \n",
       "min             0.000000               0.0    1067.000000  \n",
       "25%             3.000000               0.0   30165.000000  \n",
       "50%             6.000000               0.0   49413.000000  \n",
       "75%             9.000000               0.0   71083.000000  \n",
       "max            12.000000               0.0   99998.000000  "
      ]
     },
     "execution_count": 5,
     "metadata": {},
     "output_type": "execute_result"
    }
   ],
   "source": [
    "data.describe()"
   ]
  },
  {
   "cell_type": "markdown",
   "metadata": {},
   "source": [
    "**Признаки**  \n",
    "* DateCrawled — дата скачивания анкеты из базы  \n",
    "* VehicleType — тип автомобильного кузова  \n",
    "* RegistrationYear — год регистрации автомобиля  \n",
    "* Gearbox — тип коробки передач  \n",
    "* Power — мощность (л. с.)  \n",
    "* Model — модель автомобиля  \n",
    "* Kilometer — пробег (км)  \n",
    "* RegistrationMonth — месяц регистрации автомобиля  \n",
    "* FuelType — тип топлива  \n",
    "* Brand — марка автомобиля  \n",
    "* NotRepaired — была машина в ремонте или нет  \n",
    "* DateCreated — дата создания анкеты  \n",
    "* NumberOfPictures — количество фотографий автомобиля  \n",
    "* PostalCode — почтовый индекс владельца анкеты (пользователя)  \n",
    "* LastSeen — дата последней активности пользователя  \n",
    "\n",
    "**Целевой признак**  \n",
    "* Price — цена (евро)  \n",
    "Прпуски замечены в столбцах VehicleType, Gearbox, Model, FuelType, NotRepaired.  \n",
    "В некоторых столбцах замечены явно неподходящие значения на максимуме - выбросы."
   ]
  },
  {
   "cell_type": "markdown",
   "metadata": {},
   "source": [
    "<div class=\"alert alert-block alert-success\">\n",
    "<b>Успех:</b> Загрузка и первичный осмотр данных проведены хорошо.\n",
    "</div>"
   ]
  },
  {
   "cell_type": "code",
   "execution_count": 6,
   "metadata": {},
   "outputs": [
    {
     "data": {
      "image/png": "[encoded data removed]",
      "text/plain": [
       "<Figure size 864x432 with 2 Axes>"
      ]
     },
     "metadata": {
      "needs_background": "light"
     },
     "output_type": "display_data"
    }
   ],
   "source": [
    "fig, axes = plt.subplots(1, 2, figsize=(12, 6))\n",
    "\n",
    "axes[0].set_title('power')\n",
    "sns.boxplot(y = 'Power', data=data, ax = axes[0])\n",
    "axes[0].set_xlabel('Количество')\n",
    "     \n",
    "axes[1].set_title('power')\n",
    "sns.distplot(data['Power'], kde=False, bins=50, ax = axes[1])\n",
    "axes[1].set_ylabel('Количество')\n",
    "            \n",
    "plt.show()\n"
   ]
  },
  {
   "cell_type": "code",
   "execution_count": 7,
   "metadata": {},
   "outputs": [
    {
     "data": {
      "image/png": "[encoded data removed]",
      "text/plain": [
       "<Figure size 864x432 with 2 Axes>"
      ]
     },
     "metadata": {
      "needs_background": "light"
     },
     "output_type": "display_data"
    }
   ],
   "source": [
    "fig, axes = plt.subplots(1, 2, figsize=(12, 6))\n",
    "\n",
    "axes[0].set_title('RegistrationYear')\n",
    "sns.boxplot(y = 'RegistrationYear', data=data, ax = axes[0])\n",
    "axes[0].set_xlabel('Количество')\n",
    "     \n",
    "axes[1].set_title('RegistrationYear')\n",
    "sns.distplot(data['RegistrationYear'], kde=False, bins=50, ax = axes[1])\n",
    "axes[1].set_ylabel('Количество')\n",
    "            \n",
    "plt.show()"
   ]
  },
  {
   "cell_type": "code",
   "execution_count": 8,
   "metadata": {},
   "outputs": [
    {
     "data": {
      "text/plain": [
       "Text(0, 0.5, 'Количество')"
      ]
     },
     "execution_count": 8,
     "metadata": {},
     "output_type": "execute_result"
    },
    {
     "data": {
      "image/png": "[encoded data removed]",
      "text/plain": [
       "<Figure size 864x432 with 2 Axes>"
      ]
     },
     "metadata": {
      "needs_background": "light"
     },
     "output_type": "display_data"
    }
   ],
   "source": [
    "fig, axes = plt.subplots(1, 2, figsize=(12, 6))\n",
    "\n",
    "axes[0].set_title('RegistrationMonth')\n",
    "sns.boxplot(y = 'RegistrationMonth', data=data, ax = axes[0])\n",
    "axes[0].set_xlabel('Количество')\n",
    "     \n",
    "axes[1].set_title('RegistrationMonth')\n",
    "sns.distplot(data['RegistrationMonth'], kde=False, bins=50, ax = axes[1])\n",
    "axes[1].set_ylabel('Количество')"
   ]
  },
  {
   "cell_type": "code",
   "execution_count": 9,
   "metadata": {},
   "outputs": [
    {
     "data": {
      "text/plain": [
       "Text(0, 0.5, 'Количество')"
      ]
     },
     "execution_count": 9,
     "metadata": {},
     "output_type": "execute_result"
    },
    {
     "data": {
      "image/png": "[encoded data removed]",
      "text/plain": [
       "<Figure size 864x432 with 2 Axes>"
      ]
     },
     "metadata": {
      "needs_background": "light"
     },
     "output_type": "display_data"
    }
   ],
   "source": [
    "fig, axes = plt.subplots(1, 2, figsize=(12, 6))\n",
    "\n",
    "axes[0].set_title('Price')\n",
    "sns.boxplot(y = 'Price', data=data, ax = axes[0])\n",
    "axes[0].set_xlabel('Количество')\n",
    "     \n",
    "axes[1].set_title('Price')\n",
    "sns.distplot(data['Price'], kde=False, bins=50, ax = axes[1])\n",
    "axes[1].set_ylabel('Количество')"
   ]
  },
  {
   "cell_type": "code",
   "execution_count": 10,
   "metadata": {},
   "outputs": [
    {
     "data": {
      "text/plain": [
       "Text(0, 0.5, 'Количество')"
      ]
     },
     "execution_count": 10,
     "metadata": {},
     "output_type": "execute_result"
    },
    {
     "data": {
      "image/png": "[encoded data removed]",
      "text/plain": [
       "<Figure size 864x432 with 2 Axes>"
      ]
     },
     "metadata": {
      "needs_background": "light"
     },
     "output_type": "display_data"
    }
   ],
   "source": [
    "fig, axes = plt.subplots(1, 2, figsize=(12, 6))\n",
    "\n",
    "axes[0].set_title('Kilometer')\n",
    "sns.boxplot(y = 'Kilometer', data=data, ax = axes[0])\n",
    "axes[0].set_xlabel('Количество')\n",
    "     \n",
    "axes[1].set_title('Kilometer')\n",
    "sns.distplot(data['Kilometer'], kde=False, bins=50, ax = axes[1])\n",
    "axes[1].set_ylabel('Количество')"
   ]
  },
  {
   "cell_type": "markdown",
   "metadata": {},
   "source": [
    "Приведем в порядок данные о годе регистрации, мощности, месяц. Так же есть данные, которые не представляют интереса в данном исследовании - выкинем их."
   ]
  },
  {
   "cell_type": "code",
   "execution_count": 11,
   "metadata": {},
   "outputs": [],
   "source": [
    "data = data.loc[(data['Price']>100)&(\n",
    "    data['RegistrationMonth']!=0)&(data['Power']>50)&(data['Power']<300)&\n",
    "                                              (data['RegistrationYear']>1980)&\n",
    "                                              (data['RegistrationYear']<2019)]\n",
    "data = data.drop(['NumberOfPictures','DateCrawled', 'DateCreated', 'LastSeen','PostalCode'], axis=1)"
   ]
  },
  {
   "cell_type": "markdown",
   "metadata": {},
   "source": [
    "Заменим NaN на None"
   ]
  },
  {
   "cell_type": "code",
   "execution_count": 12,
   "metadata": {},
   "outputs": [],
   "source": [
    "data=data.fillna('None')"
   ]
  },
  {
   "cell_type": "markdown",
   "metadata": {},
   "source": [
    "Выделим каегорийные признаки"
   ]
  },
  {
   "cell_type": "code",
   "execution_count": 13,
   "metadata": {
    "scrolled": true
   },
   "outputs": [],
   "source": [
    "cat_features = ['VehicleType', 'Gearbox', 'Model', 'FuelType','Brand', 'NotRepaired' ]"
   ]
  },
  {
   "cell_type": "code",
   "execution_count": 14,
   "metadata": {},
   "outputs": [
    {
     "data": {
      "text/plain": [
       "Price                0\n",
       "VehicleType          0\n",
       "RegistrationYear     0\n",
       "Gearbox              0\n",
       "Power                0\n",
       "Model                0\n",
       "Kilometer            0\n",
       "RegistrationMonth    0\n",
       "FuelType             0\n",
       "Brand                0\n",
       "NotRepaired          0\n",
       "dtype: int64"
      ]
     },
     "execution_count": 14,
     "metadata": {},
     "output_type": "execute_result"
    }
   ],
   "source": [
    "data.isnull().sum()"
   ]
  },
  {
   "cell_type": "markdown",
   "metadata": {},
   "source": [
    "Преобразуем категорийные признаки в числовые значения"
   ]
  },
  {
   "cell_type": "code",
   "execution_count": 16,
   "metadata": {},
   "outputs": [],
   "source": [
    "ordinalencoder = OrdinalEncoder()\n",
    "data[cat_features] = ordinalencoder.fit_transform(data[cat_features])\n"
   ]
  },
  {
   "cell_type": "markdown",
   "metadata": {},
   "source": [
    "Разделим анные на целевой признак и признаки"
   ]
  },
  {
   "cell_type": "code",
   "execution_count": 17,
   "metadata": {},
   "outputs": [],
   "source": [
    "target = data['Price']\n",
    "features = data.drop('Price', axis=1)"
   ]
  },
  {
   "cell_type": "markdown",
   "metadata": {},
   "source": [
    "Разделим данные на обучающую, валидационую и тестовую выборки"
   ]
  },
  {
   "cell_type": "code",
   "execution_count": 20,
   "metadata": {},
   "outputs": [
    {
     "name": "stdout",
     "output_type": "stream",
     "text": [
      "217662 54416 217662 54416\n",
      "27208 27208 27208 27208\n"
     ]
    }
   ],
   "source": [
    "features_train, features_ft, target_train, target_ft = train_test_split(    \n",
    "    features, target, test_size=0.20, random_state=12345)\n",
    "features_test, features_valid, target_test, target_valid = train_test_split(    \n",
    "    features_ft, target_ft, test_size=0.5, random_state=12345)\n",
    "print(len(features_train), len(features_ft), len(target_train), len(target_ft))\n",
    "print(len(features_test), len(features_valid), len(target_test), len(target_valid))"
   ]
  },
  {
   "cell_type": "markdown",
   "metadata": {},
   "source": [
    "## Обучение моделей"
   ]
  },
  {
   "cell_type": "markdown",
   "metadata": {},
   "source": [
    "### Библиотека CatBoost"
   ]
  },
  {
   "cell_type": "code",
   "execution_count": 18,
   "metadata": {},
   "outputs": [
    {
     "name": "stdout",
     "output_type": "stream",
     "text": [
      "CPU times: user 25min 57s, sys: 2min 37s, total: 28min 35s\n",
      "Wall time: 30min 32s\n"
     ]
    },
    {
     "data": {
      "text/html": [
       "<div>\n",
       "<style scoped>\n",
       "    .dataframe tbody tr th:only-of-type {\n",
       "        vertical-align: middle;\n",
       "    }\n",
       "\n",
       "    .dataframe tbody tr th {\n",
       "        vertical-align: top;\n",
       "    }\n",
       "\n",
       "    .dataframe thead th {\n",
       "        text-align: right;\n",
       "    }\n",
       "</style>\n",
       "<table border=\"1\" class=\"dataframe\">\n",
       "  <thead>\n",
       "    <tr style=\"text-align: right;\">\n",
       "      <th></th>\n",
       "      <th>iteration</th>\n",
       "      <th>depth</th>\n",
       "      <th>learning_rate</th>\n",
       "      <th>rMSE</th>\n",
       "    </tr>\n",
       "  </thead>\n",
       "  <tbody>\n",
       "    <tr>\n",
       "      <td>89</td>\n",
       "      <td>100.0</td>\n",
       "      <td>9.0</td>\n",
       "      <td>0.6</td>\n",
       "      <td>1538.453423</td>\n",
       "    </tr>\n",
       "    <tr>\n",
       "      <td>79</td>\n",
       "      <td>90.0</td>\n",
       "      <td>9.0</td>\n",
       "      <td>0.6</td>\n",
       "      <td>1544.073542</td>\n",
       "    </tr>\n",
       "    <tr>\n",
       "      <td>69</td>\n",
       "      <td>80.0</td>\n",
       "      <td>9.0</td>\n",
       "      <td>0.6</td>\n",
       "      <td>1548.240302</td>\n",
       "    </tr>\n",
       "    <tr>\n",
       "      <td>59</td>\n",
       "      <td>70.0</td>\n",
       "      <td>9.0</td>\n",
       "      <td>0.6</td>\n",
       "      <td>1552.537042</td>\n",
       "    </tr>\n",
       "    <tr>\n",
       "      <td>49</td>\n",
       "      <td>60.0</td>\n",
       "      <td>9.0</td>\n",
       "      <td>0.6</td>\n",
       "      <td>1555.728550</td>\n",
       "    </tr>\n",
       "  </tbody>\n",
       "</table>\n",
       "</div>"
      ],
      "text/plain": [
       "    iteration  depth  learning_rate         rMSE\n",
       "89      100.0    9.0            0.6  1538.453423\n",
       "79       90.0    9.0            0.6  1544.073542\n",
       "69       80.0    9.0            0.6  1548.240302\n",
       "59       70.0    9.0            0.6  1552.537042\n",
       "49       60.0    9.0            0.6  1555.728550"
      ]
     },
     "execution_count": 18,
     "metadata": {},
     "output_type": "execute_result"
    }
   ],
   "source": [
    "\n",
    "%%time\n",
    "# обучим основываясь на библиотеке CatBoost\n",
    "i = 0\n",
    "result = pd.DataFrame(columns=['iteration','depth', 'learning_rate', 'rMSE'])\n",
    "for iteration in range(20, 101, 10):\n",
    "     for depth in range(1, 10, 2): \n",
    "        for learning_rate in np.arange(0.1, 1, 0.5):\n",
    "            model = CatBoostRegressor(loss_function='RMSE', iterations=iteration , depth=depth, learning_rate=learning_rate)\n",
    "            model.fit(features_train, target_train, cat_features=cat_features, verbose=False)\n",
    "            pred_valid = model.predict(features_valid)\n",
    "            result.loc[i] = [iteration, depth, learning_rate, mean_squared_error(target_valid, pred_valid)**0.5]\n",
    "            i += 1\n",
    "result.sort_values('rMSE').head(5)"
   ]
  },
  {
   "cell_type": "markdown",
   "metadata": {},
   "source": [
    "Обучим модель с оптимальными параметрами"
   ]
  },
  {
   "cell_type": "code",
   "execution_count": 19,
   "metadata": {},
   "outputs": [
    {
     "name": "stdout",
     "output_type": "stream",
     "text": [
      "CPU times: user 45.2 s, sys: 4.68 s, total: 49.9 s\n",
      "Wall time: 51.2 s\n"
     ]
    },
    {
     "data": {
      "text/plain": [
       "1546.6210456615263"
      ]
     },
     "execution_count": 19,
     "metadata": {},
     "output_type": "execute_result"
    }
   ],
   "source": [
    "%%time\n",
    "model_cb = CatBoostRegressor(loss_function='RMSE', iterations=100 , depth=9, learning_rate=0.6)\n",
    "model_cb.fit(features_train, target_train, cat_features=cat_features, verbose=False)\n",
    "pred_valid_cb = model_cb.predict(features_test)\n",
    "rmse = mean_squared_error(target_test, pred_valid_cb)**0.5\n",
    "rmse"
   ]
  },
  {
   "cell_type": "markdown",
   "metadata": {},
   "source": [
    "### Библиотека LightGBM"
   ]
  },
  {
   "cell_type": "code",
   "execution_count": 20,
   "metadata": {},
   "outputs": [
    {
     "name": "stdout",
     "output_type": "stream",
     "text": [
      "CPU times: user 22min 47s, sys: 6.36 s, total: 22min 53s\n",
      "Wall time: 23min 8s\n"
     ]
    },
    {
     "data": {
      "text/html": [
       "<div>\n",
       "<style scoped>\n",
       "    .dataframe tbody tr th:only-of-type {\n",
       "        vertical-align: middle;\n",
       "    }\n",
       "\n",
       "    .dataframe tbody tr th {\n",
       "        vertical-align: top;\n",
       "    }\n",
       "\n",
       "    .dataframe thead th {\n",
       "        text-align: right;\n",
       "    }\n",
       "</style>\n",
       "<table border=\"1\" class=\"dataframe\">\n",
       "  <thead>\n",
       "    <tr style=\"text-align: right;\">\n",
       "      <th></th>\n",
       "      <th>max_depth</th>\n",
       "      <th>learning_rate</th>\n",
       "      <th>n_estimators</th>\n",
       "      <th>rMSE</th>\n",
       "    </tr>\n",
       "  </thead>\n",
       "  <tbody>\n",
       "    <tr>\n",
       "      <td>246</td>\n",
       "      <td>9.0</td>\n",
       "      <td>0.3</td>\n",
       "      <td>100.0</td>\n",
       "      <td>1518.244474</td>\n",
       "    </tr>\n",
       "    <tr>\n",
       "      <td>221</td>\n",
       "      <td>9.0</td>\n",
       "      <td>0.3</td>\n",
       "      <td>90.0</td>\n",
       "      <td>1527.160307</td>\n",
       "    </tr>\n",
       "    <tr>\n",
       "      <td>241</td>\n",
       "      <td>7.0</td>\n",
       "      <td>0.3</td>\n",
       "      <td>100.0</td>\n",
       "      <td>1531.655644</td>\n",
       "    </tr>\n",
       "    <tr>\n",
       "      <td>242</td>\n",
       "      <td>7.0</td>\n",
       "      <td>0.5</td>\n",
       "      <td>100.0</td>\n",
       "      <td>1534.387910</td>\n",
       "    </tr>\n",
       "    <tr>\n",
       "      <td>196</td>\n",
       "      <td>9.0</td>\n",
       "      <td>0.3</td>\n",
       "      <td>80.0</td>\n",
       "      <td>1536.283683</td>\n",
       "    </tr>\n",
       "  </tbody>\n",
       "</table>\n",
       "</div>"
      ],
      "text/plain": [
       "     max_depth  learning_rate  n_estimators         rMSE\n",
       "246        9.0            0.3         100.0  1518.244474\n",
       "221        9.0            0.3          90.0  1527.160307\n",
       "241        7.0            0.3         100.0  1531.655644\n",
       "242        7.0            0.5         100.0  1534.387910\n",
       "196        9.0            0.3          80.0  1536.283683"
      ]
     },
     "execution_count": 20,
     "metadata": {},
     "output_type": "execute_result"
    }
   ],
   "source": [
    "%%time\n",
    "# обучим основываясь на библиотеке lightGBM\n",
    "i = 0\n",
    "result = pd.DataFrame(columns=['max_depth','learning_rate', 'n_estimators', 'rMSE'])\n",
    "for n_estimators in range(10, 101, 10):\n",
    "     for max_depth in range(1, 10, 2): \n",
    "        for learning_rate in np.arange(0.1, 1, 0.2):\n",
    "            model_lgb= lgb.LGBMRegressor(max_depth=max_depth, learning_rate=learning_rate, n_estimators=n_estimators)\n",
    "            model_lgb.fit(features_train, target_train, categorical_feature=cat_features)\n",
    "            pred_valid_lgb = model_lgb.predict(features_valid)\n",
    "            result.loc[i] = [max_depth, learning_rate, n_estimators, mean_squared_error(target_valid, pred_valid_lgb)**0.5]\n",
    "            i += 1\n",
    "result.sort_values('rMSE').head(5)"
   ]
  },
  {
   "cell_type": "markdown",
   "metadata": {},
   "source": [
    "Обучим модель с оптимальными параметрами"
   ]
  },
  {
   "cell_type": "code",
   "execution_count": 21,
   "metadata": {},
   "outputs": [
    {
     "name": "stdout",
     "output_type": "stream",
     "text": [
      "CPU times: user 11.4 s, sys: 66.1 ms, total: 11.5 s\n",
      "Wall time: 11.6 s\n"
     ]
    },
    {
     "data": {
      "text/plain": [
       "1552.9188307139982"
      ]
     },
     "execution_count": 21,
     "metadata": {},
     "output_type": "execute_result"
    }
   ],
   "source": [
    "\n",
    "%%time\n",
    "# Обучим модель с оптимальными параметрами\n",
    "model_lgb= lgb.LGBMRegressor(max_depth=7, learning_rate=0.3, n_estimators=100)\n",
    "model_lgb.fit(features_train, target_train, categorical_feature=cat_features)\n",
    "pred_valid_lgb = model_lgb.predict(features_test)\n",
    "rmse = mean_squared_error(target_test, pred_valid_lgb)**0.5\n",
    "rmse"
   ]
  },
  {
   "cell_type": "markdown",
   "metadata": {},
   "source": [
    "### Обучающее дерево"
   ]
  },
  {
   "cell_type": "code",
   "execution_count": 22,
   "metadata": {},
   "outputs": [
    {
     "name": "stdout",
     "output_type": "stream",
     "text": [
      "CPU times: user 9min 50s, sys: 0 ns, total: 9min 50s\n",
      "Wall time: 9min 54s\n"
     ]
    },
    {
     "data": {
      "text/html": [
       "<div>\n",
       "<style scoped>\n",
       "    .dataframe tbody tr th:only-of-type {\n",
       "        vertical-align: middle;\n",
       "    }\n",
       "\n",
       "    .dataframe tbody tr th {\n",
       "        vertical-align: top;\n",
       "    }\n",
       "\n",
       "    .dataframe thead th {\n",
       "        text-align: right;\n",
       "    }\n",
       "</style>\n",
       "<table border=\"1\" class=\"dataframe\">\n",
       "  <thead>\n",
       "    <tr style=\"text-align: right;\">\n",
       "      <th></th>\n",
       "      <th>max_depth</th>\n",
       "      <th>n_estimators</th>\n",
       "      <th>rMSE</th>\n",
       "    </tr>\n",
       "  </thead>\n",
       "  <tbody>\n",
       "    <tr>\n",
       "      <td>29</td>\n",
       "      <td>9.0</td>\n",
       "      <td>60.0</td>\n",
       "      <td>1922.198641</td>\n",
       "    </tr>\n",
       "    <tr>\n",
       "      <td>34</td>\n",
       "      <td>9.0</td>\n",
       "      <td>70.0</td>\n",
       "      <td>1922.518998</td>\n",
       "    </tr>\n",
       "    <tr>\n",
       "      <td>39</td>\n",
       "      <td>9.0</td>\n",
       "      <td>80.0</td>\n",
       "      <td>1922.562120</td>\n",
       "    </tr>\n",
       "    <tr>\n",
       "      <td>49</td>\n",
       "      <td>9.0</td>\n",
       "      <td>100.0</td>\n",
       "      <td>1922.866449</td>\n",
       "    </tr>\n",
       "    <tr>\n",
       "      <td>44</td>\n",
       "      <td>9.0</td>\n",
       "      <td>90.0</td>\n",
       "      <td>1922.885802</td>\n",
       "    </tr>\n",
       "  </tbody>\n",
       "</table>\n",
       "</div>"
      ],
      "text/plain": [
       "    max_depth  n_estimators         rMSE\n",
       "29        9.0          60.0  1922.198641\n",
       "34        9.0          70.0  1922.518998\n",
       "39        9.0          80.0  1922.562120\n",
       "49        9.0         100.0  1922.866449\n",
       "44        9.0          90.0  1922.885802"
      ]
     },
     "execution_count": 22,
     "metadata": {},
     "output_type": "execute_result"
    }
   ],
   "source": [
    "%%time\n",
    "# обучим основываясь на RandomForestRegressor\n",
    "i = 0\n",
    "result = pd.DataFrame(columns=['max_depth', 'n_estimators', 'rMSE'])\n",
    "for n_estimators in range(10, 101, 10):\n",
    "     for max_depth in range(1, 10, 2): \n",
    "        model_rfr = RandomForestRegressor(max_depth=max_depth, n_estimators=n_estimators, random_state=12345)\n",
    "        model_rfr.fit(features_train, target_train)\n",
    "        pred_valid_rfr = model_rfr.predict(features_valid)\n",
    "        result.loc[i] = [max_depth, n_estimators, mean_squared_error(target_valid, pred_valid_rfr)**0.5]\n",
    "        i += 1\n",
    "result.sort_values('rMSE').head(5)"
   ]
  },
  {
   "cell_type": "markdown",
   "metadata": {},
   "source": [
    "Обучим модель с оптимальными параметрами"
   ]
  },
  {
   "cell_type": "code",
   "execution_count": 23,
   "metadata": {},
   "outputs": [
    {
     "name": "stdout",
     "output_type": "stream",
     "text": [
      "CPU times: user 18 s, sys: 0 ns, total: 18 s\n",
      "Wall time: 18.2 s\n"
     ]
    },
    {
     "data": {
      "text/plain": [
       "1952.2973572599578"
      ]
     },
     "execution_count": 23,
     "metadata": {},
     "output_type": "execute_result"
    }
   ],
   "source": [
    "%%time\n",
    "# Обучим модель с оптимальными параметрами\n",
    "model_rfr = RandomForestRegressor(max_depth=9, n_estimators=50, random_state=12345)\n",
    "model_rfr.fit(features_train, target_train)\n",
    "pred_valid_rfr = model_rfr.predict(features_test)\n",
    "rmse = mean_squared_error(target_test, pred_valid_rfr)**0.5\n",
    "rmse"
   ]
  },
  {
   "cell_type": "markdown",
   "metadata": {},
   "source": [
    "### Линейная регрессия"
   ]
  },
  {
   "cell_type": "code",
   "execution_count": 24,
   "metadata": {},
   "outputs": [
    {
     "name": "stdout",
     "output_type": "stream",
     "text": [
      "CPU times: user 92.9 ms, sys: 0 ns, total: 92.9 ms\n",
      "Wall time: 56.8 ms\n"
     ]
    },
    {
     "data": {
      "text/plain": [
       "2961.2986352021053"
      ]
     },
     "execution_count": 24,
     "metadata": {},
     "output_type": "execute_result"
    }
   ],
   "source": [
    "%%time\n",
    "model_LR = LinearRegression()\n",
    "model_LR.fit(features_train, target_train)\n",
    "pred_valid_LR = model_LR.predict(features_test)\n",
    "rmse = mean_squared_error(target_test, pred_valid_LR)**0.5\n",
    "rmse"
   ]
  },
  {
   "cell_type": "markdown",
   "metadata": {},
   "source": [
    "## Анализ моделей"
   ]
  },
  {
   "cell_type": "markdown",
   "metadata": {},
   "source": [
    "В результате работы был проведен анализ работы библиотек градиентного бустинга CatBoost, LightGBM и моделей линейной регресии и Случайного леса. Выявлена зависимость времени от качества предсказания. Самая быстрая модель - Линейная регрессия, она срабатывает за 57 мс, но RMSE самое высокое - 2961. Случайный лес работает 18 с с точностью 1952, еще 10 минут потребуется для подборки параметров. Библиотека LightGBM показывает результат 1552 за 12 с работы и 23 минуты подбора параметров. Наибольший результат показывает библиотека CatBoost. RMSE = 1546 при 51с работы и 30 минут подбора параметров.  \n",
    "**Вывод**  \n",
    "Наиболее оптимально в подобной задаче использовать библиотеку LightGBM, хотя если время расчета не приоритетно - CatBoost будет самой точной, но самой долгой."
   ]
  }
 ],
 "metadata": {
  "ExecuteTimeLog": [
   {
    "duration": 294,
    "start_time": "2021-06-09T12:18:46.818Z"
   },
   {
    "duration": 1547,
    "start_time": "2021-06-09T12:18:58.064Z"
   },
   {
    "duration": 1062,
    "start_time": "2021-06-09T12:18:59.613Z"
   },
   {
    "duration": 158,
    "start_time": "2021-06-09T12:19:00.678Z"
   },
   {
    "duration": 156,
    "start_time": "2021-06-09T12:19:00.838Z"
   },
   {
    "duration": 124,
    "start_time": "2021-06-09T12:19:00.999Z"
   },
   {
    "duration": 704,
    "start_time": "2021-06-09T12:19:01.125Z"
   },
   {
    "duration": 672,
    "start_time": "2021-06-09T12:19:01.831Z"
   },
   {
    "duration": 727,
    "start_time": "2021-06-09T12:19:02.506Z"
   },
   {
    "duration": 759,
    "start_time": "2021-06-09T12:19:03.236Z"
   },
   {
    "duration": 868,
    "start_time": "2021-06-09T12:19:03.997Z"
   },
   {
    "duration": 117,
    "start_time": "2021-06-09T12:19:04.867Z"
   },
   {
    "duration": 144,
    "start_time": "2021-06-09T12:19:04.986Z"
   },
   {
    "duration": 3,
    "start_time": "2021-06-09T12:19:05.132Z"
   },
   {
    "duration": 92,
    "start_time": "2021-06-09T12:19:05.138Z"
   },
   {
    "duration": 418,
    "start_time": "2021-06-09T12:19:05.232Z"
   },
   {
    "duration": 34,
    "start_time": "2021-06-09T12:19:05.653Z"
   },
   {
    "duration": 72,
    "start_time": "2021-06-09T12:19:05.689Z"
   },
   {
    "duration": 1832955,
    "start_time": "2021-06-09T12:19:05.764Z"
   },
   {
    "duration": 51188,
    "start_time": "2021-06-09T12:49:38.723Z"
   },
   {
    "duration": 1388199,
    "start_time": "2021-06-09T12:50:29.914Z"
   },
   {
    "duration": 11606,
    "start_time": "2021-06-09T13:13:38.115Z"
   },
   {
    "duration": 594038,
    "start_time": "2021-06-09T13:25:36.591Z"
   },
   {
    "duration": 18158,
    "start_time": "2021-06-09T13:35:30.631Z"
   },
   {
    "duration": 112,
    "start_time": "2021-06-09T13:35:48.792Z"
   },
   {
    "duration": 1774,
    "start_time": "2021-06-10T08:39:20.011Z"
   },
   {
    "duration": 1988,
    "start_time": "2021-06-10T08:39:21.787Z"
   },
   {
    "duration": 189,
    "start_time": "2021-06-10T08:39:23.778Z"
   },
   {
    "duration": 189,
    "start_time": "2021-06-10T08:39:23.969Z"
   },
   {
    "duration": 141,
    "start_time": "2021-06-10T08:39:24.161Z"
   },
   {
    "duration": 868,
    "start_time": "2021-06-10T08:39:24.304Z"
   },
   {
    "duration": 736,
    "start_time": "2021-06-10T08:39:25.176Z"
   },
   {
    "duration": 820,
    "start_time": "2021-06-10T08:39:25.915Z"
   },
   {
    "duration": 849,
    "start_time": "2021-06-10T08:39:26.738Z"
   },
   {
    "duration": 993,
    "start_time": "2021-06-10T08:39:27.590Z"
   },
   {
    "duration": 131,
    "start_time": "2021-06-10T08:39:28.587Z"
   },
   {
    "duration": 168,
    "start_time": "2021-06-10T08:39:28.721Z"
   },
   {
    "duration": 5,
    "start_time": "2021-06-10T08:39:28.891Z"
   },
   {
    "duration": 111,
    "start_time": "2021-06-10T08:39:28.899Z"
   },
   {
    "duration": 481,
    "start_time": "2021-06-10T08:39:32.305Z"
   },
   {
    "duration": 7,
    "start_time": "2021-06-10T08:39:48.253Z"
   },
   {
    "duration": 1160,
    "start_time": "2021-06-10T08:39:51.331Z"
   },
   {
    "duration": 177,
    "start_time": "2021-06-10T08:39:52.493Z"
   },
   {
    "duration": 185,
    "start_time": "2021-06-10T08:39:52.675Z"
   },
   {
    "duration": 140,
    "start_time": "2021-06-10T08:39:52.863Z"
   },
   {
    "duration": 771,
    "start_time": "2021-06-10T08:39:54.499Z"
   },
   {
    "duration": 744,
    "start_time": "2021-06-10T08:39:55.273Z"
   },
   {
    "duration": 855,
    "start_time": "2021-06-10T08:39:56.020Z"
   },
   {
    "duration": 851,
    "start_time": "2021-06-10T08:39:56.878Z"
   },
   {
    "duration": 978,
    "start_time": "2021-06-10T08:39:57.732Z"
   },
   {
    "duration": 105,
    "start_time": "2021-06-10T08:39:59.094Z"
   },
   {
    "duration": 148,
    "start_time": "2021-06-10T08:40:01.129Z"
   },
   {
    "duration": 4,
    "start_time": "2021-06-10T08:40:02.633Z"
   },
   {
    "duration": 79,
    "start_time": "2021-06-10T08:40:03.386Z"
   },
   {
    "duration": 315,
    "start_time": "2021-06-10T08:40:05.473Z"
   },
   {
    "duration": 261,
    "start_time": "2021-06-10T08:43:44.834Z"
   },
   {
    "duration": 275,
    "start_time": "2021-06-10T08:45:30.724Z"
   },
   {
    "duration": 6493,
    "start_time": "2021-06-10T08:47:31.998Z"
   },
   {
    "duration": 28,
    "start_time": "2021-06-10T08:48:30.648Z"
   },
   {
    "duration": 2390,
    "start_time": "2021-06-10T08:48:48.941Z"
   },
   {
    "duration": 333,
    "start_time": "2021-06-10T08:49:15.540Z"
   },
   {
    "duration": 339,
    "start_time": "2021-06-10T08:50:06.798Z"
   },
   {
    "duration": 260,
    "start_time": "2021-06-10T08:50:10.528Z"
   },
   {
    "duration": 576,
    "start_time": "2021-06-10T08:52:23.639Z"
   },
   {
    "duration": 590,
    "start_time": "2021-06-10T09:10:41.919Z"
   },
   {
    "duration": 648,
    "start_time": "2021-06-10T09:10:52.245Z"
   },
   {
    "duration": 666,
    "start_time": "2021-06-10T09:13:49.812Z"
   },
   {
    "duration": 743,
    "start_time": "2021-06-10T09:14:18.044Z"
   },
   {
    "duration": 748,
    "start_time": "2021-06-10T09:15:08.627Z"
   },
   {
    "duration": 301,
    "start_time": "2021-06-10T09:16:27.285Z"
   },
   {
    "duration": 6,
    "start_time": "2021-06-10T09:16:41.211Z"
   },
   {
    "duration": 1183,
    "start_time": "2021-06-10T09:16:41.230Z"
   },
   {
    "duration": 196,
    "start_time": "2021-06-10T09:16:42.416Z"
   },
   {
    "duration": 208,
    "start_time": "2021-06-10T09:16:42.615Z"
   },
   {
    "duration": 159,
    "start_time": "2021-06-10T09:16:42.826Z"
   },
   {
    "duration": 810,
    "start_time": "2021-06-10T09:16:42.988Z"
   },
   {
    "duration": 953,
    "start_time": "2021-06-10T09:16:43.801Z"
   },
   {
    "duration": 810,
    "start_time": "2021-06-10T09:16:44.758Z"
   },
   {
    "duration": 977,
    "start_time": "2021-06-10T09:16:45.571Z"
   },
   {
    "duration": 1024,
    "start_time": "2021-06-10T09:16:46.551Z"
   },
   {
    "duration": 111,
    "start_time": "2021-06-10T09:16:47.582Z"
   },
   {
    "duration": 169,
    "start_time": "2021-06-10T09:16:47.696Z"
   },
   {
    "duration": 28,
    "start_time": "2021-06-10T09:16:49.437Z"
   },
   {
    "duration": 92,
    "start_time": "2021-06-10T09:16:50.709Z"
   },
   {
    "duration": 657,
    "start_time": "2021-06-10T09:16:52.481Z"
   },
   {
    "duration": 601,
    "start_time": "2021-06-10T09:17:15.700Z"
   },
   {
    "duration": 20,
    "start_time": "2021-06-10T09:17:22.586Z"
   },
   {
    "duration": 93,
    "start_time": "2021-06-10T09:17:23.773Z"
   },
   {
    "duration": 875,
    "start_time": "2021-06-10T09:17:25.115Z"
   },
   {
    "duration": 687,
    "start_time": "2021-06-10T09:17:38.550Z"
   },
   {
    "duration": 376,
    "start_time": "2021-06-10T09:18:03.439Z"
   },
   {
    "duration": 1133,
    "start_time": "2021-06-10T09:20:46.983Z"
   },
   {
    "duration": 22,
    "start_time": "2021-06-10T09:21:39.775Z"
   },
   {
    "duration": 847,
    "start_time": "2021-06-10T09:21:48.689Z"
   },
   {
    "duration": 1670,
    "start_time": "2021-06-10T09:22:02.401Z"
   },
   {
    "duration": 1354,
    "start_time": "2021-06-10T09:22:04.075Z"
   },
   {
    "duration": 275,
    "start_time": "2021-06-10T09:22:05.432Z"
   },
   {
    "duration": 268,
    "start_time": "2021-06-10T09:22:05.711Z"
   },
   {
    "duration": 185,
    "start_time": "2021-06-10T09:22:05.982Z"
   },
   {
    "duration": 775,
    "start_time": "2021-06-10T09:22:06.170Z"
   },
   {
    "duration": 959,
    "start_time": "2021-06-10T09:22:06.948Z"
   },
   {
    "duration": 1045,
    "start_time": "2021-06-10T09:22:07.911Z"
   },
   {
    "duration": 881,
    "start_time": "2021-06-10T09:22:08.959Z"
   },
   {
    "duration": 962,
    "start_time": "2021-06-10T09:22:09.842Z"
   },
   {
    "duration": 136,
    "start_time": "2021-06-10T09:22:10.806Z"
   },
   {
    "duration": 160,
    "start_time": "2021-06-10T09:22:10.945Z"
   },
   {
    "duration": 4,
    "start_time": "2021-06-10T09:22:11.107Z"
   },
   {
    "duration": 114,
    "start_time": "2021-06-10T09:22:11.114Z"
   },
   {
    "duration": 1099,
    "start_time": "2021-06-10T09:22:11.231Z"
   },
   {
    "duration": 863,
    "start_time": "2021-06-10T09:22:13.862Z"
   },
   {
    "duration": 12,
    "start_time": "2021-06-10T09:22:16.388Z"
   },
   {
    "duration": 482,
    "start_time": "2021-06-10T09:24:22.836Z"
   },
   {
    "duration": 78,
    "start_time": "2021-06-10T09:24:47.420Z"
   },
   {
    "duration": 78,
    "start_time": "2021-06-10T09:26:00.326Z"
   }
  ],
  "kernelspec": {
   "display_name": "Python 3",
   "language": "python",
   "name": "python3"
  },
  "language_info": {
   "codemirror_mode": {
    "name": "ipython",
    "version": 3
   },
   "file_extension": ".py",
   "mimetype": "text/x-python",
   "name": "python",
   "nbconvert_exporter": "python",
   "pygments_lexer": "ipython3",
   "version": "3.7.8"
  },
  "toc": {
   "base_numbering": 1,
   "nav_menu": {},
   "number_sections": true,
   "sideBar": true,
   "skip_h1_title": true,
   "title_cell": "Table of Contents",
   "title_sidebar": "Contents",
   "toc_cell": false,
   "toc_position": {},
   "toc_section_display": true,
   "toc_window_display": false
  }
 },
 "nbformat": 4,
 "nbformat_minor": 2
}
