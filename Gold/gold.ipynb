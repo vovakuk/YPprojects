{
 "cells": [
  {
   "cell_type": "markdown",
   "metadata": {
    "toc": true
   },
   "source": [
    "<h1>Содержание<span class=\"tocSkip\"></span></h1>\n",
    "<div class=\"toc\"><ul class=\"toc-item\"><li><span><a href=\"#Подготовка-данных\" data-toc-modified-id=\"Подготовка-данных-1\"><span class=\"toc-item-num\">1&nbsp;&nbsp;</span>Подготовка данных</a></span></li><li><span><a href=\"#Анализ-данных\" data-toc-modified-id=\"Анализ-данных-2\"><span class=\"toc-item-num\">2&nbsp;&nbsp;</span>Анализ данных</a></span><ul class=\"toc-item\"><li><span><a href=\"#MAE\" data-toc-modified-id=\"MAE-2.1\"><span class=\"toc-item-num\">2.1&nbsp;&nbsp;</span>MAE</a></span></li><li><span><a href=\"#Распределение-концентрации-металлов-на-различных-ступенях-обработки\" data-toc-modified-id=\"Распределение-концентрации-металлов-на-различных-ступенях-обработки-2.2\"><span class=\"toc-item-num\">2.2&nbsp;&nbsp;</span>Распределение концентрации металлов на различных ступенях обработки</a></span></li><li><span><a href=\"#Суммарная-концентрация-всех-веществ-на-разных-этапах-очистки\" data-toc-modified-id=\"Суммарная-концентрация-всех-веществ-на-разных-этапах-очистки-2.3\"><span class=\"toc-item-num\">2.3&nbsp;&nbsp;</span>Суммарная концентрация всех веществ на разных этапах очистки</a></span></li></ul></li><li><span><a href=\"#Модель\" data-toc-modified-id=\"Модель-3\"><span class=\"toc-item-num\">3&nbsp;&nbsp;</span>Модель</a></span><ul class=\"toc-item\"><li><span><a href=\"#Дерево-решений\" data-toc-modified-id=\"Дерево-решений-3.1\"><span class=\"toc-item-num\">3.1&nbsp;&nbsp;</span>Дерево решений</a></span></li><li><span><a href=\"#Случайный-лес\" data-toc-modified-id=\"Случайный-лес-3.2\"><span class=\"toc-item-num\">3.2&nbsp;&nbsp;</span>Случайный лес</a></span></li><li><span><a href=\"#Линейная-регрессия\" data-toc-modified-id=\"Линейная-регрессия-3.3\"><span class=\"toc-item-num\">3.3&nbsp;&nbsp;</span>Линейная регрессия</a></span></li></ul></li><li><span><a href=\"#Вывод\" data-toc-modified-id=\"Вывод-4\"><span class=\"toc-item-num\">4&nbsp;&nbsp;</span>Вывод</a></span></li><li><span><a href=\"#Чек-лист-готовности-проекта\" data-toc-modified-id=\"Чек-лист-готовности-проекта-5\"><span class=\"toc-item-num\">5&nbsp;&nbsp;</span>Чек-лист готовности проекта</a></span></li></ul></div>"
   ]
  },
  {
   "cell_type": "markdown",
   "metadata": {},
   "source": [
    "# Восстановление золота из руды"
   ]
  },
  {
   "cell_type": "markdown",
   "metadata": {},
   "source": [
    "Подготовьте прототип модели машинного обучения для «Цифры». Компания разрабатывает решения для эффективной работы промышленных предприятий.\n",
    "\n",
    "Модель должна предсказать коэффициент восстановления золота из золотосодержащей руды. Используйте данные с параметрами добычи и очистки. \n",
    "\n",
    "Модель поможет оптимизировать производство, чтобы не запускать предприятие с убыточными характеристиками.\n",
    "\n",
    "Вам нужно:\n",
    "\n",
    "1. Подготовить данные;\n",
    "2. Провести исследовательский анализ данных;\n",
    "3. Построить и обучить модель.\n",
    "\n",
    "Чтобы выполнить проект, обращайтесь к библиотекам *pandas*, *matplotlib* и *sklearn.* Вам поможет их документация."
   ]
  },
  {
   "cell_type": "markdown",
   "metadata": {},
   "source": [
    "## Подготовка данных"
   ]
  },
  {
   "cell_type": "code",
   "execution_count": 1,
   "metadata": {},
   "outputs": [],
   "source": [
    "import pandas as pd\n",
    "import seaborn as sb\n",
    "import numpy as np\n",
    "import time\n",
    "import matplotlib.pyplot as plt\n",
    "from sklearn.model_selection import train_test_split\n",
    "from sklearn.linear_model import LinearRegression\n",
    "from sklearn.tree import DecisionTreeRegressor\n",
    "from sklearn.ensemble import RandomForestRegressor\n",
    "from IPython.display import display\n",
    "from sklearn.metrics import mean_squared_error\n",
    "from sklearn.metrics import mean_absolute_error as mae\n",
    "from sklearn.metrics import make_scorer\n",
    "from sklearn.model_selection import train_test_split, GridSearchCV, KFold\n",
    "import warnings\n",
    "warnings.filterwarnings(\"ignore\")"
   ]
  },
  {
   "cell_type": "code",
   "execution_count": 2,
   "metadata": {},
   "outputs": [
    {
     "name": "stdout",
     "output_type": "stream",
     "text": [
      "<class 'pandas.core.frame.DataFrame'>\n",
      "RangeIndex: 16860 entries, 0 to 16859\n",
      "Data columns (total 87 columns):\n",
      "date                                                  16860 non-null object\n",
      "final.output.concentrate_ag                           16788 non-null float64\n",
      "final.output.concentrate_pb                           16788 non-null float64\n",
      "final.output.concentrate_sol                          16490 non-null float64\n",
      "final.output.concentrate_au                           16789 non-null float64\n",
      "final.output.recovery                                 15339 non-null float64\n",
      "final.output.tail_ag                                  16794 non-null float64\n",
      "final.output.tail_pb                                  16677 non-null float64\n",
      "final.output.tail_sol                                 16715 non-null float64\n",
      "final.output.tail_au                                  16794 non-null float64\n",
      "primary_cleaner.input.sulfate                         15553 non-null float64\n",
      "primary_cleaner.input.depressant                      15598 non-null float64\n",
      "primary_cleaner.input.feed_size                       16860 non-null float64\n",
      "primary_cleaner.input.xanthate                        15875 non-null float64\n",
      "primary_cleaner.output.concentrate_ag                 16778 non-null float64\n",
      "primary_cleaner.output.concentrate_pb                 16502 non-null float64\n",
      "primary_cleaner.output.concentrate_sol                16224 non-null float64\n",
      "primary_cleaner.output.concentrate_au                 16778 non-null float64\n",
      "primary_cleaner.output.tail_ag                        16777 non-null float64\n",
      "primary_cleaner.output.tail_pb                        16761 non-null float64\n",
      "primary_cleaner.output.tail_sol                       16579 non-null float64\n",
      "primary_cleaner.output.tail_au                        16777 non-null float64\n",
      "primary_cleaner.state.floatbank8_a_air                16820 non-null float64\n",
      "primary_cleaner.state.floatbank8_a_level              16827 non-null float64\n",
      "primary_cleaner.state.floatbank8_b_air                16820 non-null float64\n",
      "primary_cleaner.state.floatbank8_b_level              16833 non-null float64\n",
      "primary_cleaner.state.floatbank8_c_air                16822 non-null float64\n",
      "primary_cleaner.state.floatbank8_c_level              16833 non-null float64\n",
      "primary_cleaner.state.floatbank8_d_air                16821 non-null float64\n",
      "primary_cleaner.state.floatbank8_d_level              16833 non-null float64\n",
      "rougher.calculation.sulfate_to_au_concentrate         16833 non-null float64\n",
      "rougher.calculation.floatbank10_sulfate_to_au_feed    16833 non-null float64\n",
      "rougher.calculation.floatbank11_sulfate_to_au_feed    16833 non-null float64\n",
      "rougher.calculation.au_pb_ratio                       15618 non-null float64\n",
      "rougher.input.feed_ag                                 16778 non-null float64\n",
      "rougher.input.feed_pb                                 16632 non-null float64\n",
      "rougher.input.feed_rate                               16347 non-null float64\n",
      "rougher.input.feed_size                               16443 non-null float64\n",
      "rougher.input.feed_sol                                16568 non-null float64\n",
      "rougher.input.feed_au                                 16777 non-null float64\n",
      "rougher.input.floatbank10_sulfate                     15816 non-null float64\n",
      "rougher.input.floatbank10_xanthate                    16514 non-null float64\n",
      "rougher.input.floatbank11_sulfate                     16237 non-null float64\n",
      "rougher.input.floatbank11_xanthate                    14956 non-null float64\n",
      "rougher.output.concentrate_ag                         16778 non-null float64\n",
      "rougher.output.concentrate_pb                         16778 non-null float64\n",
      "rougher.output.concentrate_sol                        16698 non-null float64\n",
      "rougher.output.concentrate_au                         16778 non-null float64\n",
      "rougher.output.recovery                               14287 non-null float64\n",
      "rougher.output.tail_ag                                14610 non-null float64\n",
      "rougher.output.tail_pb                                16778 non-null float64\n",
      "rougher.output.tail_sol                               14611 non-null float64\n",
      "rougher.output.tail_au                                14611 non-null float64\n",
      "rougher.state.floatbank10_a_air                       16807 non-null float64\n",
      "rougher.state.floatbank10_a_level                     16807 non-null float64\n",
      "rougher.state.floatbank10_b_air                       16807 non-null float64\n",
      "rougher.state.floatbank10_b_level                     16807 non-null float64\n",
      "rougher.state.floatbank10_c_air                       16807 non-null float64\n",
      "rougher.state.floatbank10_c_level                     16814 non-null float64\n",
      "rougher.state.floatbank10_d_air                       16802 non-null float64\n",
      "rougher.state.floatbank10_d_level                     16809 non-null float64\n",
      "rougher.state.floatbank10_e_air                       16257 non-null float64\n",
      "rougher.state.floatbank10_e_level                     16809 non-null float64\n",
      "rougher.state.floatbank10_f_air                       16802 non-null float64\n",
      "rougher.state.floatbank10_f_level                     16802 non-null float64\n",
      "secondary_cleaner.output.tail_ag                      16776 non-null float64\n",
      "secondary_cleaner.output.tail_pb                      16764 non-null float64\n",
      "secondary_cleaner.output.tail_sol                     14874 non-null float64\n",
      "secondary_cleaner.output.tail_au                      16778 non-null float64\n",
      "secondary_cleaner.state.floatbank2_a_air              16497 non-null float64\n",
      "secondary_cleaner.state.floatbank2_a_level            16751 non-null float64\n",
      "secondary_cleaner.state.floatbank2_b_air              16705 non-null float64\n",
      "secondary_cleaner.state.floatbank2_b_level            16748 non-null float64\n",
      "secondary_cleaner.state.floatbank3_a_air              16763 non-null float64\n",
      "secondary_cleaner.state.floatbank3_a_level            16747 non-null float64\n",
      "secondary_cleaner.state.floatbank3_b_air              16752 non-null float64\n",
      "secondary_cleaner.state.floatbank3_b_level            16750 non-null float64\n",
      "secondary_cleaner.state.floatbank4_a_air              16731 non-null float64\n",
      "secondary_cleaner.state.floatbank4_a_level            16747 non-null float64\n",
      "secondary_cleaner.state.floatbank4_b_air              16768 non-null float64\n",
      "secondary_cleaner.state.floatbank4_b_level            16767 non-null float64\n",
      "secondary_cleaner.state.floatbank5_a_air              16775 non-null float64\n",
      "secondary_cleaner.state.floatbank5_a_level            16775 non-null float64\n",
      "secondary_cleaner.state.floatbank5_b_air              16775 non-null float64\n",
      "secondary_cleaner.state.floatbank5_b_level            16776 non-null float64\n",
      "secondary_cleaner.state.floatbank6_a_air              16757 non-null float64\n",
      "secondary_cleaner.state.floatbank6_a_level            16775 non-null float64\n",
      "dtypes: float64(86), object(1)\n",
      "memory usage: 11.2+ MB\n",
      "<class 'pandas.core.frame.DataFrame'>\n",
      "RangeIndex: 5856 entries, 0 to 5855\n",
      "Data columns (total 53 columns):\n",
      "date                                          5856 non-null object\n",
      "primary_cleaner.input.sulfate                 5554 non-null float64\n",
      "primary_cleaner.input.depressant              5572 non-null float64\n",
      "primary_cleaner.input.feed_size               5856 non-null float64\n",
      "primary_cleaner.input.xanthate                5690 non-null float64\n",
      "primary_cleaner.state.floatbank8_a_air        5840 non-null float64\n",
      "primary_cleaner.state.floatbank8_a_level      5840 non-null float64\n",
      "primary_cleaner.state.floatbank8_b_air        5840 non-null float64\n",
      "primary_cleaner.state.floatbank8_b_level      5840 non-null float64\n",
      "primary_cleaner.state.floatbank8_c_air        5840 non-null float64\n",
      "primary_cleaner.state.floatbank8_c_level      5840 non-null float64\n",
      "primary_cleaner.state.floatbank8_d_air        5840 non-null float64\n",
      "primary_cleaner.state.floatbank8_d_level      5840 non-null float64\n",
      "rougher.input.feed_ag                         5840 non-null float64\n",
      "rougher.input.feed_pb                         5840 non-null float64\n",
      "rougher.input.feed_rate                       5816 non-null float64\n",
      "rougher.input.feed_size                       5834 non-null float64\n",
      "rougher.input.feed_sol                        5789 non-null float64\n",
      "rougher.input.feed_au                         5840 non-null float64\n",
      "rougher.input.floatbank10_sulfate             5599 non-null float64\n",
      "rougher.input.floatbank10_xanthate            5733 non-null float64\n",
      "rougher.input.floatbank11_sulfate             5801 non-null float64\n",
      "rougher.input.floatbank11_xanthate            5503 non-null float64\n",
      "rougher.state.floatbank10_a_air               5839 non-null float64\n",
      "rougher.state.floatbank10_a_level             5840 non-null float64\n",
      "rougher.state.floatbank10_b_air               5839 non-null float64\n",
      "rougher.state.floatbank10_b_level             5840 non-null float64\n",
      "rougher.state.floatbank10_c_air               5839 non-null float64\n",
      "rougher.state.floatbank10_c_level             5840 non-null float64\n",
      "rougher.state.floatbank10_d_air               5839 non-null float64\n",
      "rougher.state.floatbank10_d_level             5840 non-null float64\n",
      "rougher.state.floatbank10_e_air               5839 non-null float64\n",
      "rougher.state.floatbank10_e_level             5840 non-null float64\n",
      "rougher.state.floatbank10_f_air               5839 non-null float64\n",
      "rougher.state.floatbank10_f_level             5840 non-null float64\n",
      "secondary_cleaner.state.floatbank2_a_air      5836 non-null float64\n",
      "secondary_cleaner.state.floatbank2_a_level    5840 non-null float64\n",
      "secondary_cleaner.state.floatbank2_b_air      5833 non-null float64\n",
      "secondary_cleaner.state.floatbank2_b_level    5840 non-null float64\n",
      "secondary_cleaner.state.floatbank3_a_air      5822 non-null float64\n",
      "secondary_cleaner.state.floatbank3_a_level    5840 non-null float64\n",
      "secondary_cleaner.state.floatbank3_b_air      5840 non-null float64\n",
      "secondary_cleaner.state.floatbank3_b_level    5840 non-null float64\n",
      "secondary_cleaner.state.floatbank4_a_air      5840 non-null float64\n",
      "secondary_cleaner.state.floatbank4_a_level    5840 non-null float64\n",
      "secondary_cleaner.state.floatbank4_b_air      5840 non-null float64\n",
      "secondary_cleaner.state.floatbank4_b_level    5840 non-null float64\n",
      "secondary_cleaner.state.floatbank5_a_air      5840 non-null float64\n",
      "secondary_cleaner.state.floatbank5_a_level    5840 non-null float64\n",
      "secondary_cleaner.state.floatbank5_b_air      5840 non-null float64\n",
      "secondary_cleaner.state.floatbank5_b_level    5840 non-null float64\n",
      "secondary_cleaner.state.floatbank6_a_air      5840 non-null float64\n",
      "secondary_cleaner.state.floatbank6_a_level    5840 non-null float64\n",
      "dtypes: float64(52), object(1)\n",
      "memory usage: 2.4+ MB\n",
      "<class 'pandas.core.frame.DataFrame'>\n",
      "RangeIndex: 22716 entries, 0 to 22715\n",
      "Data columns (total 87 columns):\n",
      "date                                                  22716 non-null object\n",
      "final.output.concentrate_ag                           22627 non-null float64\n",
      "final.output.concentrate_pb                           22629 non-null float64\n",
      "final.output.concentrate_sol                          22331 non-null float64\n",
      "final.output.concentrate_au                           22630 non-null float64\n",
      "final.output.recovery                                 20753 non-null float64\n",
      "final.output.tail_ag                                  22633 non-null float64\n",
      "final.output.tail_pb                                  22516 non-null float64\n",
      "final.output.tail_sol                                 22445 non-null float64\n",
      "final.output.tail_au                                  22635 non-null float64\n",
      "primary_cleaner.input.sulfate                         21107 non-null float64\n",
      "primary_cleaner.input.depressant                      21170 non-null float64\n",
      "primary_cleaner.input.feed_size                       22716 non-null float64\n",
      "primary_cleaner.input.xanthate                        21565 non-null float64\n",
      "primary_cleaner.output.concentrate_ag                 22618 non-null float64\n",
      "primary_cleaner.output.concentrate_pb                 22268 non-null float64\n",
      "primary_cleaner.output.concentrate_sol                21918 non-null float64\n",
      "primary_cleaner.output.concentrate_au                 22618 non-null float64\n",
      "primary_cleaner.output.tail_ag                        22614 non-null float64\n",
      "primary_cleaner.output.tail_pb                        22594 non-null float64\n",
      "primary_cleaner.output.tail_sol                       22365 non-null float64\n",
      "primary_cleaner.output.tail_au                        22617 non-null float64\n",
      "primary_cleaner.state.floatbank8_a_air                22660 non-null float64\n",
      "primary_cleaner.state.floatbank8_a_level              22667 non-null float64\n",
      "primary_cleaner.state.floatbank8_b_air                22660 non-null float64\n",
      "primary_cleaner.state.floatbank8_b_level              22673 non-null float64\n",
      "primary_cleaner.state.floatbank8_c_air                22662 non-null float64\n",
      "primary_cleaner.state.floatbank8_c_level              22673 non-null float64\n",
      "primary_cleaner.state.floatbank8_d_air                22661 non-null float64\n",
      "primary_cleaner.state.floatbank8_d_level              22673 non-null float64\n",
      "rougher.calculation.sulfate_to_au_concentrate         22672 non-null float64\n",
      "rougher.calculation.floatbank10_sulfate_to_au_feed    22672 non-null float64\n",
      "rougher.calculation.floatbank11_sulfate_to_au_feed    22672 non-null float64\n",
      "rougher.calculation.au_pb_ratio                       21089 non-null float64\n",
      "rougher.input.feed_ag                                 22618 non-null float64\n",
      "rougher.input.feed_pb                                 22472 non-null float64\n",
      "rougher.input.feed_rate                               22163 non-null float64\n",
      "rougher.input.feed_size                               22277 non-null float64\n",
      "rougher.input.feed_sol                                22357 non-null float64\n",
      "rougher.input.feed_au                                 22617 non-null float64\n",
      "rougher.input.floatbank10_sulfate                     21415 non-null float64\n",
      "rougher.input.floatbank10_xanthate                    22247 non-null float64\n",
      "rougher.input.floatbank11_sulfate                     22038 non-null float64\n",
      "rougher.input.floatbank11_xanthate                    20459 non-null float64\n",
      "rougher.output.concentrate_ag                         22618 non-null float64\n",
      "rougher.output.concentrate_pb                         22618 non-null float64\n",
      "rougher.output.concentrate_sol                        22526 non-null float64\n",
      "rougher.output.concentrate_au                         22618 non-null float64\n",
      "rougher.output.recovery                               19597 non-null float64\n",
      "rougher.output.tail_ag                                19979 non-null float64\n",
      "rougher.output.tail_pb                                22618 non-null float64\n",
      "rougher.output.tail_sol                               19980 non-null float64\n",
      "rougher.output.tail_au                                19980 non-null float64\n",
      "rougher.state.floatbank10_a_air                       22646 non-null float64\n",
      "rougher.state.floatbank10_a_level                     22647 non-null float64\n",
      "rougher.state.floatbank10_b_air                       22646 non-null float64\n",
      "rougher.state.floatbank10_b_level                     22647 non-null float64\n",
      "rougher.state.floatbank10_c_air                       22646 non-null float64\n",
      "rougher.state.floatbank10_c_level                     22654 non-null float64\n",
      "rougher.state.floatbank10_d_air                       22641 non-null float64\n",
      "rougher.state.floatbank10_d_level                     22649 non-null float64\n",
      "rougher.state.floatbank10_e_air                       22096 non-null float64\n",
      "rougher.state.floatbank10_e_level                     22649 non-null float64\n",
      "rougher.state.floatbank10_f_air                       22641 non-null float64\n",
      "rougher.state.floatbank10_f_level                     22642 non-null float64\n",
      "secondary_cleaner.output.tail_ag                      22616 non-null float64\n",
      "secondary_cleaner.output.tail_pb                      22600 non-null float64\n",
      "secondary_cleaner.output.tail_sol                     20501 non-null float64\n",
      "secondary_cleaner.output.tail_au                      22618 non-null float64\n",
      "secondary_cleaner.state.floatbank2_a_air              22333 non-null float64\n",
      "secondary_cleaner.state.floatbank2_a_level            22591 non-null float64\n",
      "secondary_cleaner.state.floatbank2_b_air              22538 non-null float64\n",
      "secondary_cleaner.state.floatbank2_b_level            22588 non-null float64\n",
      "secondary_cleaner.state.floatbank3_a_air              22585 non-null float64\n",
      "secondary_cleaner.state.floatbank3_a_level            22587 non-null float64\n",
      "secondary_cleaner.state.floatbank3_b_air              22592 non-null float64\n",
      "secondary_cleaner.state.floatbank3_b_level            22590 non-null float64\n",
      "secondary_cleaner.state.floatbank4_a_air              22571 non-null float64\n",
      "secondary_cleaner.state.floatbank4_a_level            22587 non-null float64\n",
      "secondary_cleaner.state.floatbank4_b_air              22608 non-null float64\n",
      "secondary_cleaner.state.floatbank4_b_level            22607 non-null float64\n",
      "secondary_cleaner.state.floatbank5_a_air              22615 non-null float64\n",
      "secondary_cleaner.state.floatbank5_a_level            22615 non-null float64\n",
      "secondary_cleaner.state.floatbank5_b_air              22615 non-null float64\n",
      "secondary_cleaner.state.floatbank5_b_level            22616 non-null float64\n",
      "secondary_cleaner.state.floatbank6_a_air              22597 non-null float64\n",
      "secondary_cleaner.state.floatbank6_a_level            22615 non-null float64\n",
      "dtypes: float64(86), object(1)\n",
      "memory usage: 15.1+ MB\n"
     ]
    }
   ],
   "source": [
    "df_train = pd.read_csv('/datasets/gold_recovery_train.csv')\n",
    "df_test = pd.read_csv('/datasets/gold_recovery_test.csv')\n",
    "df_full = pd.read_csv('/datasets/gold_recovery_full.csv')\n",
    "dfs = [df_train,df_test,df_full]\n",
    "for df in dfs:\n",
    "    df.info()"
   ]
  },
  {
   "cell_type": "code",
   "execution_count": 3,
   "metadata": {},
   "outputs": [
    {
     "name": "stdout",
     "output_type": "stream",
     "text": [
      "0\n",
      "0\n",
      "0\n"
     ]
    }
   ],
   "source": [
    "for df in dfs:\n",
    "    print(df.duplicated().sum())"
   ]
  },
  {
   "cell_type": "code",
   "execution_count": 4,
   "metadata": {},
   "outputs": [
    {
     "name": "stdout",
     "output_type": "stream",
     "text": [
      "                  date  final.output.concentrate_ag  \\\n",
      "0  2016-01-15 00:00:00                     6.055403   \n",
      "1  2016-01-15 01:00:00                     6.029369   \n",
      "2  2016-01-15 02:00:00                     6.055926   \n",
      "3  2016-01-15 03:00:00                     6.047977   \n",
      "4  2016-01-15 04:00:00                     6.148599   \n",
      "\n",
      "   final.output.concentrate_pb  final.output.concentrate_sol  \\\n",
      "0                     9.889648                      5.507324   \n",
      "1                     9.968944                      5.257781   \n",
      "2                    10.213995                      5.383759   \n",
      "3                     9.977019                      4.858634   \n",
      "4                    10.142511                      4.939416   \n",
      "\n",
      "   final.output.concentrate_au  final.output.recovery  final.output.tail_ag  \\\n",
      "0                    42.192020              70.541216             10.411962   \n",
      "1                    42.701629              69.266198             10.462676   \n",
      "2                    42.657501              68.116445             10.507046   \n",
      "3                    42.689819              68.347543             10.422762   \n",
      "4                    42.774141              66.927016             10.360302   \n",
      "\n",
      "   final.output.tail_pb  final.output.tail_sol  final.output.tail_au  ...  \\\n",
      "0              0.895447              16.904297              2.143149  ...   \n",
      "1              0.927452              16.634514              2.224930  ...   \n",
      "2              0.953716              16.208849              2.257889  ...   \n",
      "3              0.883763              16.532835              2.146849  ...   \n",
      "4              0.792826              16.525686              2.055292  ...   \n",
      "\n",
      "   secondary_cleaner.state.floatbank4_a_air  \\\n",
      "0                                 14.016835   \n",
      "1                                 13.992281   \n",
      "2                                 14.015015   \n",
      "3                                 14.036510   \n",
      "4                                 14.027298   \n",
      "\n",
      "   secondary_cleaner.state.floatbank4_a_level  \\\n",
      "0                                 -502.488007   \n",
      "1                                 -505.503262   \n",
      "2                                 -502.520901   \n",
      "3                                 -500.857308   \n",
      "4                                 -499.838632   \n",
      "\n",
      "   secondary_cleaner.state.floatbank4_b_air  \\\n",
      "0                                 12.099931   \n",
      "1                                 11.950531   \n",
      "2                                 11.912783   \n",
      "3                                 11.999550   \n",
      "4                                 11.953070   \n",
      "\n",
      "   secondary_cleaner.state.floatbank4_b_level  \\\n",
      "0                                 -504.715942   \n",
      "1                                 -501.331529   \n",
      "2                                 -501.133383   \n",
      "3                                 -501.193686   \n",
      "4                                 -501.053894   \n",
      "\n",
      "   secondary_cleaner.state.floatbank5_a_air  \\\n",
      "0                                  9.925633   \n",
      "1                                 10.039245   \n",
      "2                                 10.070913   \n",
      "3                                  9.970366   \n",
      "4                                  9.925709   \n",
      "\n",
      "   secondary_cleaner.state.floatbank5_a_level  \\\n",
      "0                                 -498.310211   \n",
      "1                                 -500.169983   \n",
      "2                                 -500.129135   \n",
      "3                                 -499.201640   \n",
      "4                                 -501.686727   \n",
      "\n",
      "   secondary_cleaner.state.floatbank5_b_air  \\\n",
      "0                                  8.079666   \n",
      "1                                  7.984757   \n",
      "2                                  8.013877   \n",
      "3                                  7.977324   \n",
      "4                                  7.894242   \n",
      "\n",
      "   secondary_cleaner.state.floatbank5_b_level  \\\n",
      "0                                 -500.470978   \n",
      "1                                 -500.582168   \n",
      "2                                 -500.517572   \n",
      "3                                 -500.255908   \n",
      "4                                 -500.356035   \n",
      "\n",
      "   secondary_cleaner.state.floatbank6_a_air  \\\n",
      "0                                 14.151341   \n",
      "1                                 13.998353   \n",
      "2                                 14.028663   \n",
      "3                                 14.005551   \n",
      "4                                 13.996647   \n",
      "\n",
      "   secondary_cleaner.state.floatbank6_a_level  \n",
      "0                                 -605.841980  \n",
      "1                                 -599.787184  \n",
      "2                                 -601.427363  \n",
      "3                                 -599.996129  \n",
      "4                                 -601.496691  \n",
      "\n",
      "[5 rows x 87 columns]\n",
      "                  date  primary_cleaner.input.sulfate  \\\n",
      "0  2016-09-01 00:59:59                     210.800909   \n",
      "1  2016-09-01 01:59:59                     215.392455   \n",
      "2  2016-09-01 02:59:59                     215.259946   \n",
      "3  2016-09-01 03:59:59                     215.336236   \n",
      "4  2016-09-01 04:59:59                     199.099327   \n",
      "\n",
      "   primary_cleaner.input.depressant  primary_cleaner.input.feed_size  \\\n",
      "0                         14.993118                         8.080000   \n",
      "1                         14.987471                         8.080000   \n",
      "2                         12.884934                         7.786667   \n",
      "3                         12.006805                         7.640000   \n",
      "4                         10.682530                         7.530000   \n",
      "\n",
      "   primary_cleaner.input.xanthate  primary_cleaner.state.floatbank8_a_air  \\\n",
      "0                        1.005021                             1398.981301   \n",
      "1                        0.990469                             1398.777912   \n",
      "2                        0.996043                             1398.493666   \n",
      "3                        0.863514                             1399.618111   \n",
      "4                        0.805575                             1401.268123   \n",
      "\n",
      "   primary_cleaner.state.floatbank8_a_level  \\\n",
      "0                               -500.225577   \n",
      "1                               -500.057435   \n",
      "2                               -500.868360   \n",
      "3                               -498.863574   \n",
      "4                               -500.808305   \n",
      "\n",
      "   primary_cleaner.state.floatbank8_b_air  \\\n",
      "0                             1399.144926   \n",
      "1                             1398.055362   \n",
      "2                             1398.860436   \n",
      "3                             1397.440120   \n",
      "4                             1398.128818   \n",
      "\n",
      "   primary_cleaner.state.floatbank8_b_level  \\\n",
      "0                               -499.919735   \n",
      "1                               -499.778182   \n",
      "2                               -499.764529   \n",
      "3                               -499.211024   \n",
      "4                               -499.504543   \n",
      "\n",
      "   primary_cleaner.state.floatbank8_c_air  ...  \\\n",
      "0                             1400.102998  ...   \n",
      "1                             1396.151033  ...   \n",
      "2                             1398.075709  ...   \n",
      "3                             1400.129303  ...   \n",
      "4                             1402.172226  ...   \n",
      "\n",
      "   secondary_cleaner.state.floatbank4_a_air  \\\n",
      "0                                 12.023554   \n",
      "1                                 12.058140   \n",
      "2                                 11.962366   \n",
      "3                                 12.033091   \n",
      "4                                 12.025367   \n",
      "\n",
      "   secondary_cleaner.state.floatbank4_a_level  \\\n",
      "0                                 -497.795834   \n",
      "1                                 -498.695773   \n",
      "2                                 -498.767484   \n",
      "3                                 -498.350935   \n",
      "4                                 -500.786497   \n",
      "\n",
      "   secondary_cleaner.state.floatbank4_b_air  \\\n",
      "0                                  8.016656   \n",
      "1                                  8.130979   \n",
      "2                                  8.096893   \n",
      "3                                  8.074946   \n",
      "4                                  8.054678   \n",
      "\n",
      "   secondary_cleaner.state.floatbank4_b_level  \\\n",
      "0                                 -501.289139   \n",
      "1                                 -499.634209   \n",
      "2                                 -500.827423   \n",
      "3                                 -499.474407   \n",
      "4                                 -500.397500   \n",
      "\n",
      "   secondary_cleaner.state.floatbank5_a_air  \\\n",
      "0                                  7.946562   \n",
      "1                                  7.958270   \n",
      "2                                  8.071056   \n",
      "3                                  7.897085   \n",
      "4                                  8.107890   \n",
      "\n",
      "   secondary_cleaner.state.floatbank5_a_level  \\\n",
      "0                                 -432.317850   \n",
      "1                                 -525.839648   \n",
      "2                                 -500.801673   \n",
      "3                                 -500.868509   \n",
      "4                                 -509.526725   \n",
      "\n",
      "   secondary_cleaner.state.floatbank5_b_air  \\\n",
      "0                                  4.872511   \n",
      "1                                  4.878850   \n",
      "2                                  4.905125   \n",
      "3                                  4.931400   \n",
      "4                                  4.957674   \n",
      "\n",
      "   secondary_cleaner.state.floatbank5_b_level  \\\n",
      "0                                 -500.037437   \n",
      "1                                 -500.162375   \n",
      "2                                 -499.828510   \n",
      "3                                 -499.963623   \n",
      "4                                 -500.360026   \n",
      "\n",
      "   secondary_cleaner.state.floatbank6_a_air  \\\n",
      "0                                 26.705889   \n",
      "1                                 25.019940   \n",
      "2                                 24.994862   \n",
      "3                                 24.948919   \n",
      "4                                 25.003331   \n",
      "\n",
      "   secondary_cleaner.state.floatbank6_a_level  \n",
      "0                                 -499.709414  \n",
      "1                                 -499.819438  \n",
      "2                                 -500.622559  \n",
      "3                                 -498.709987  \n",
      "4                                 -500.856333  \n",
      "\n",
      "[5 rows x 53 columns]\n",
      "                  date  final.output.concentrate_ag  \\\n",
      "0  2016-01-15 00:00:00                     6.055403   \n",
      "1  2016-01-15 01:00:00                     6.029369   \n",
      "2  2016-01-15 02:00:00                     6.055926   \n",
      "3  2016-01-15 03:00:00                     6.047977   \n",
      "4  2016-01-15 04:00:00                     6.148599   \n",
      "\n",
      "   final.output.concentrate_pb  final.output.concentrate_sol  \\\n",
      "0                     9.889648                      5.507324   \n",
      "1                     9.968944                      5.257781   \n",
      "2                    10.213995                      5.383759   \n",
      "3                     9.977019                      4.858634   \n",
      "4                    10.142511                      4.939416   \n",
      "\n",
      "   final.output.concentrate_au  final.output.recovery  final.output.tail_ag  \\\n",
      "0                    42.192020              70.541216             10.411962   \n",
      "1                    42.701629              69.266198             10.462676   \n",
      "2                    42.657501              68.116445             10.507046   \n",
      "3                    42.689819              68.347543             10.422762   \n",
      "4                    42.774141              66.927016             10.360302   \n",
      "\n",
      "   final.output.tail_pb  final.output.tail_sol  final.output.tail_au  ...  \\\n",
      "0              0.895447              16.904297              2.143149  ...   \n",
      "1              0.927452              16.634514              2.224930  ...   \n",
      "2              0.953716              16.208849              2.257889  ...   \n",
      "3              0.883763              16.532835              2.146849  ...   \n",
      "4              0.792826              16.525686              2.055292  ...   \n",
      "\n",
      "   secondary_cleaner.state.floatbank4_a_air  \\\n",
      "0                                 14.016835   \n",
      "1                                 13.992281   \n",
      "2                                 14.015015   \n",
      "3                                 14.036510   \n",
      "4                                 14.027298   \n",
      "\n",
      "   secondary_cleaner.state.floatbank4_a_level  \\\n",
      "0                                 -502.488007   \n",
      "1                                 -505.503262   \n",
      "2                                 -502.520901   \n",
      "3                                 -500.857308   \n",
      "4                                 -499.838632   \n",
      "\n",
      "   secondary_cleaner.state.floatbank4_b_air  \\\n",
      "0                                 12.099931   \n",
      "1                                 11.950531   \n",
      "2                                 11.912783   \n",
      "3                                 11.999550   \n",
      "4                                 11.953070   \n",
      "\n",
      "   secondary_cleaner.state.floatbank4_b_level  \\\n",
      "0                                 -504.715942   \n",
      "1                                 -501.331529   \n",
      "2                                 -501.133383   \n",
      "3                                 -501.193686   \n",
      "4                                 -501.053894   \n",
      "\n",
      "   secondary_cleaner.state.floatbank5_a_air  \\\n",
      "0                                  9.925633   \n",
      "1                                 10.039245   \n",
      "2                                 10.070913   \n",
      "3                                  9.970366   \n",
      "4                                  9.925709   \n",
      "\n",
      "   secondary_cleaner.state.floatbank5_a_level  \\\n",
      "0                                 -498.310211   \n",
      "1                                 -500.169983   \n",
      "2                                 -500.129135   \n",
      "3                                 -499.201640   \n",
      "4                                 -501.686727   \n",
      "\n",
      "   secondary_cleaner.state.floatbank5_b_air  \\\n",
      "0                                  8.079666   \n",
      "1                                  7.984757   \n",
      "2                                  8.013877   \n",
      "3                                  7.977324   \n",
      "4                                  7.894242   \n",
      "\n",
      "   secondary_cleaner.state.floatbank5_b_level  \\\n",
      "0                                 -500.470978   \n",
      "1                                 -500.582168   \n",
      "2                                 -500.517572   \n",
      "3                                 -500.255908   \n",
      "4                                 -500.356035   \n",
      "\n",
      "   secondary_cleaner.state.floatbank6_a_air  \\\n",
      "0                                 14.151341   \n",
      "1                                 13.998353   \n",
      "2                                 14.028663   \n",
      "3                                 14.005551   \n",
      "4                                 13.996647   \n",
      "\n",
      "   secondary_cleaner.state.floatbank6_a_level  \n",
      "0                                 -605.841980  \n",
      "1                                 -599.787184  \n",
      "2                                 -601.427363  \n",
      "3                                 -599.996129  \n",
      "4                                 -601.496691  \n",
      "\n",
      "[5 rows x 87 columns]\n"
     ]
    }
   ],
   "source": [
    "for df in dfs:\n",
    "    print(df.head())"
   ]
  },
  {
   "cell_type": "code",
   "execution_count": 5,
   "metadata": {},
   "outputs": [
    {
     "name": "stdout",
     "output_type": "stream",
     "text": [
      "       final.output.concentrate_ag  final.output.concentrate_pb  \\\n",
      "count                 16788.000000                 16788.000000   \n",
      "mean                      4.716907                     9.113559   \n",
      "std                       2.096718                     3.389495   \n",
      "min                       0.000000                     0.000000   \n",
      "25%                       3.971262                     8.825748   \n",
      "50%                       4.869346                    10.065316   \n",
      "75%                       5.821176                    11.054809   \n",
      "max                      16.001945                    17.031899   \n",
      "\n",
      "       final.output.concentrate_sol  final.output.concentrate_au  \\\n",
      "count                  16490.000000                 16789.000000   \n",
      "mean                       8.301123                    39.467217   \n",
      "std                        3.825760                    13.917227   \n",
      "min                        0.000000                     0.000000   \n",
      "25%                        6.939185                    42.055722   \n",
      "50%                        8.557228                    44.498874   \n",
      "75%                       10.289741                    45.976222   \n",
      "max                       18.124851                    53.611374   \n",
      "\n",
      "       final.output.recovery  final.output.tail_ag  final.output.tail_pb  \\\n",
      "count           15339.000000          16794.000000          16677.000000   \n",
      "mean               67.213166              8.757048              2.360327   \n",
      "std                11.960446              3.634103              1.215576   \n",
      "min                 0.000000              0.000000              0.000000   \n",
      "25%                62.625685              7.610544              1.641604   \n",
      "50%                67.644601              9.220393              2.453690   \n",
      "75%                72.824595             10.971110              3.192404   \n",
      "max               100.000000             19.552149              6.086532   \n",
      "\n",
      "       final.output.tail_sol  final.output.tail_au  \\\n",
      "count           16715.000000          16794.000000   \n",
      "mean                9.303932              2.687512   \n",
      "std                 4.263208              1.272757   \n",
      "min                 0.000000              0.000000   \n",
      "25%                 7.870275              2.172953   \n",
      "50%                10.021968              2.781132   \n",
      "75%                11.648573              3.416936   \n",
      "max                22.317730              9.789625   \n",
      "\n",
      "       primary_cleaner.input.sulfate  ...  \\\n",
      "count                   15553.000000  ...   \n",
      "mean                      129.479789  ...   \n",
      "std                        45.386931  ...   \n",
      "min                         0.000003  ...   \n",
      "25%                       103.064021  ...   \n",
      "50%                       131.783108  ...   \n",
      "75%                       159.539839  ...   \n",
      "max                       251.999948  ...   \n",
      "\n",
      "       secondary_cleaner.state.floatbank4_a_air  \\\n",
      "count                              16731.000000   \n",
      "mean                                  19.101874   \n",
      "std                                    6.883163   \n",
      "min                                    0.000000   \n",
      "25%                                   14.508299   \n",
      "50%                                   19.986958   \n",
      "75%                                   24.983961   \n",
      "max                                   60.000000   \n",
      "\n",
      "       secondary_cleaner.state.floatbank4_a_level  \\\n",
      "count                                16747.000000   \n",
      "mean                                  -494.164481   \n",
      "std                                     84.803334   \n",
      "min                                   -799.920713   \n",
      "25%                                   -500.837689   \n",
      "50%                                   -499.778379   \n",
      "75%                                   -494.648754   \n",
      "max                                   -127.692333   \n",
      "\n",
      "       secondary_cleaner.state.floatbank4_b_air  \\\n",
      "count                              16768.000000   \n",
      "mean                                  14.778164   \n",
      "std                                    5.999149   \n",
      "min                                    0.000000   \n",
      "25%                                   10.741388   \n",
      "50%                                   14.943933   \n",
      "75%                                   20.023751   \n",
      "max                                   28.003828   \n",
      "\n",
      "       secondary_cleaner.state.floatbank4_b_level  \\\n",
      "count                                16767.000000   \n",
      "mean                                  -476.600082   \n",
      "std                                     89.381172   \n",
      "min                                   -800.021781   \n",
      "25%                                   -500.269182   \n",
      "50%                                   -499.593286   \n",
      "75%                                   -400.137948   \n",
      "max                                    -71.472472   \n",
      "\n",
      "       secondary_cleaner.state.floatbank5_a_air  \\\n",
      "count                              16775.000000   \n",
      "mean                                  15.779488   \n",
      "std                                    6.834703   \n",
      "min                                   -0.423260   \n",
      "25%                                   10.977713   \n",
      "50%                                   15.998340   \n",
      "75%                                   20.000701   \n",
      "max                                   63.116298   \n",
      "\n",
      "       secondary_cleaner.state.floatbank5_a_level  \\\n",
      "count                                16775.000000   \n",
      "mean                                  -500.230146   \n",
      "std                                     76.983542   \n",
      "min                                   -799.741097   \n",
      "25%                                   -500.530594   \n",
      "50%                                   -499.784231   \n",
      "75%                                   -496.531781   \n",
      "max                                   -275.073125   \n",
      "\n",
      "       secondary_cleaner.state.floatbank5_b_air  \\\n",
      "count                              16775.000000   \n",
      "mean                                  12.377241   \n",
      "std                                    6.219989   \n",
      "min                                    0.427084   \n",
      "25%                                    8.925586   \n",
      "50%                                   11.092839   \n",
      "75%                                   15.979467   \n",
      "max                                   39.846228   \n",
      "\n",
      "       secondary_cleaner.state.floatbank5_b_level  \\\n",
      "count                                16776.000000   \n",
      "mean                                  -498.956257   \n",
      "std                                     82.146207   \n",
      "min                                   -800.258209   \n",
      "25%                                   -500.147603   \n",
      "50%                                   -499.933330   \n",
      "75%                                   -498.418000   \n",
      "max                                   -120.190931   \n",
      "\n",
      "       secondary_cleaner.state.floatbank6_a_air  \\\n",
      "count                              16757.000000   \n",
      "mean                                  18.429208   \n",
      "std                                    6.958294   \n",
      "min                                    0.024270   \n",
      "25%                                   13.977626   \n",
      "50%                                   18.034960   \n",
      "75%                                   24.984992   \n",
      "max                                   54.876806   \n",
      "\n",
      "       secondary_cleaner.state.floatbank6_a_level  \n",
      "count                                16775.000000  \n",
      "mean                                  -521.801826  \n",
      "std                                     77.170888  \n",
      "min                                   -810.473526  \n",
      "25%                                   -501.080595  \n",
      "50%                                   -500.109898  \n",
      "75%                                   -499.565540  \n",
      "max                                    -39.784927  \n",
      "\n",
      "[8 rows x 86 columns]\n",
      "       primary_cleaner.input.sulfate  primary_cleaner.input.depressant  \\\n",
      "count                    5554.000000                       5572.000000   \n",
      "mean                      170.515243                          8.482873   \n",
      "std                        49.608602                          3.353105   \n",
      "min                         0.000103                          0.000031   \n",
      "25%                       143.340022                          6.411500   \n",
      "50%                       176.103893                          8.023252   \n",
      "75%                       207.240761                         10.017725   \n",
      "max                       274.409626                         40.024582   \n",
      "\n",
      "       primary_cleaner.input.feed_size  primary_cleaner.input.xanthate  \\\n",
      "count                      5856.000000                     5690.000000   \n",
      "mean                          7.264651                        1.321420   \n",
      "std                           0.611526                        0.693246   \n",
      "min                           5.650000                        0.000003   \n",
      "25%                           6.885625                        0.888769   \n",
      "50%                           7.259333                        1.183362   \n",
      "75%                           7.650000                        1.763797   \n",
      "max                          15.500000                        5.433169   \n",
      "\n",
      "       primary_cleaner.state.floatbank8_a_air  \\\n",
      "count                             5840.000000   \n",
      "mean                              1481.990241   \n",
      "std                                310.453166   \n",
      "min                                  0.000000   \n",
      "25%                               1497.190681   \n",
      "50%                               1554.659783   \n",
      "75%                               1601.681656   \n",
      "max                               2212.432090   \n",
      "\n",
      "       primary_cleaner.state.floatbank8_a_level  \\\n",
      "count                               5840.000000   \n",
      "mean                                -509.057796   \n",
      "std                                   61.339256   \n",
      "min                                 -799.773788   \n",
      "25%                                 -500.455211   \n",
      "50%                                 -499.997402   \n",
      "75%                                 -499.575313   \n",
      "max                                  -57.195404   \n",
      "\n",
      "       primary_cleaner.state.floatbank8_b_air  \\\n",
      "count                             5840.000000   \n",
      "mean                              1486.908670   \n",
      "std                                313.224286   \n",
      "min                                  0.000000   \n",
      "25%                               1497.150234   \n",
      "50%                               1553.268084   \n",
      "75%                               1601.784707   \n",
      "max                               1975.147923   \n",
      "\n",
      "       primary_cleaner.state.floatbank8_b_level  \\\n",
      "count                               5840.000000   \n",
      "mean                                -511.743956   \n",
      "std                                   67.139074   \n",
      "min                                 -800.029078   \n",
      "25%                                 -500.936639   \n",
      "50%                                 -500.066588   \n",
      "75%                                 -499.323361   \n",
      "max                                 -142.527229   \n",
      "\n",
      "       primary_cleaner.state.floatbank8_c_air  \\\n",
      "count                             5840.000000   \n",
      "mean                              1468.495216   \n",
      "std                                309.980748   \n",
      "min                                  0.000000   \n",
      "25%                               1437.050321   \n",
      "50%                               1546.160672   \n",
      "75%                               1600.785573   \n",
      "max                               1715.053773   \n",
      "\n",
      "       primary_cleaner.state.floatbank8_c_level  ...  \\\n",
      "count                               5840.000000  ...   \n",
      "mean                                -509.741212  ...   \n",
      "std                                   62.671873  ...   \n",
      "min                                 -799.995127  ...   \n",
      "25%                                 -501.300441  ...   \n",
      "50%                                 -500.079537  ...   \n",
      "75%                                 -499.009545  ...   \n",
      "max                                 -150.937035  ...   \n",
      "\n",
      "       secondary_cleaner.state.floatbank4_a_air  \\\n",
      "count                               5840.000000   \n",
      "mean                                  15.636031   \n",
      "std                                    4.660835   \n",
      "min                                    0.000000   \n",
      "25%                                   12.057838   \n",
      "50%                                   17.001867   \n",
      "75%                                   18.030985   \n",
      "max                                   30.051797   \n",
      "\n",
      "       secondary_cleaner.state.floatbank4_a_level  \\\n",
      "count                                 5840.000000   \n",
      "mean                                  -516.266074   \n",
      "std                                     62.756748   \n",
      "min                                   -799.798523   \n",
      "25%                                   -501.054741   \n",
      "50%                                   -500.160145   \n",
      "75%                                   -499.441529   \n",
      "max                                   -401.565212   \n",
      "\n",
      "       secondary_cleaner.state.floatbank4_b_air  \\\n",
      "count                               5840.000000   \n",
      "mean                                  13.145702   \n",
      "std                                    4.304086   \n",
      "min                                    0.000000   \n",
      "25%                                   11.880119   \n",
      "50%                                   14.952102   \n",
      "75%                                   15.940011   \n",
      "max                                   31.269706   \n",
      "\n",
      "       secondary_cleaner.state.floatbank4_b_level  \\\n",
      "count                                 5840.000000   \n",
      "mean                                  -476.338907   \n",
      "std                                    105.549424   \n",
      "min                                   -800.836914   \n",
      "25%                                   -500.419113   \n",
      "50%                                   -499.644328   \n",
      "75%                                   -401.523664   \n",
      "max                                     -6.506986   \n",
      "\n",
      "       secondary_cleaner.state.floatbank5_a_air  \\\n",
      "count                               5840.000000   \n",
      "mean                                  12.308967   \n",
      "std                                    3.762827   \n",
      "min                                   -0.223393   \n",
      "25%                                   10.123459   \n",
      "50%                                   12.062877   \n",
      "75%                                   15.017881   \n",
      "max                                   25.258848   \n",
      "\n",
      "       secondary_cleaner.state.floatbank5_a_level  \\\n",
      "count                                 5840.000000   \n",
      "mean                                  -512.208126   \n",
      "std                                     58.864651   \n",
      "min                                   -799.661076   \n",
      "25%                                   -500.879383   \n",
      "50%                                   -500.047621   \n",
      "75%                                   -499.297033   \n",
      "max                                   -244.483566   \n",
      "\n",
      "       secondary_cleaner.state.floatbank5_b_air  \\\n",
      "count                               5840.000000   \n",
      "mean                                   9.470986   \n",
      "std                                    3.312471   \n",
      "min                                    0.528083   \n",
      "25%                                    7.991208   \n",
      "50%                                    9.980774   \n",
      "75%                                   11.992176   \n",
      "max                                   14.090194   \n",
      "\n",
      "       secondary_cleaner.state.floatbank5_b_level  \\\n",
      "count                                 5840.000000   \n",
      "mean                                  -505.017827   \n",
      "std                                     68.785898   \n",
      "min                                   -800.220337   \n",
      "25%                                   -500.223089   \n",
      "50%                                   -500.001338   \n",
      "75%                                   -499.722835   \n",
      "max                                   -126.463446   \n",
      "\n",
      "       secondary_cleaner.state.floatbank6_a_air  \\\n",
      "count                               5840.000000   \n",
      "mean                                  16.678722   \n",
      "std                                    5.404514   \n",
      "min                                   -0.079426   \n",
      "25%                                   13.012422   \n",
      "50%                                   16.007242   \n",
      "75%                                   21.009076   \n",
      "max                                   26.705889   \n",
      "\n",
      "       secondary_cleaner.state.floatbank6_a_level  \n",
      "count                                 5840.000000  \n",
      "mean                                  -512.351694  \n",
      "std                                     69.919839  \n",
      "min                                   -809.859706  \n",
      "25%                                   -500.833821  \n",
      "50%                                   -500.041085  \n",
      "75%                                   -499.395621  \n",
      "max                                    -29.093593  \n",
      "\n",
      "[8 rows x 52 columns]\n",
      "       final.output.concentrate_ag  final.output.concentrate_pb  \\\n",
      "count                 22627.000000                 22629.000000   \n",
      "mean                      4.781559                     9.095308   \n",
      "std                       2.030128                     3.230797   \n",
      "min                       0.000000                     0.000000   \n",
      "25%                       4.018525                     8.750171   \n",
      "50%                       4.953729                     9.914519   \n",
      "75%                       5.862593                    10.929839   \n",
      "max                      16.001945                    17.031899   \n",
      "\n",
      "       final.output.concentrate_sol  final.output.concentrate_au  \\\n",
      "count                  22331.000000                 22630.000000   \n",
      "mean                       8.640317                    40.001172   \n",
      "std                        3.785035                    13.398062   \n",
      "min                        0.000000                     0.000000   \n",
      "25%                        7.116799                    42.383721   \n",
      "50%                        8.908792                    44.653436   \n",
      "75%                       10.705824                    46.111999   \n",
      "max                       19.615720                    53.611374   \n",
      "\n",
      "       final.output.recovery  final.output.tail_ag  final.output.tail_pb  \\\n",
      "count           20753.000000          22633.000000          22516.000000   \n",
      "mean               67.447488              8.923690              2.488252   \n",
      "std                11.616034              3.517917              1.189407   \n",
      "min                 0.000000              0.000000              0.000000   \n",
      "25%                63.282393              7.684016              1.805376   \n",
      "50%                68.322258              9.484369              2.653001   \n",
      "75%                72.950836             11.084557              3.287790   \n",
      "max               100.000000             19.552149              6.086532   \n",
      "\n",
      "       final.output.tail_sol  final.output.tail_au  \\\n",
      "count           22445.000000          22635.000000   \n",
      "mean                9.523632              2.827459   \n",
      "std                 4.079739              1.262834   \n",
      "min                 0.000000              0.000000   \n",
      "25%                 8.143576              2.303108   \n",
      "50%                10.212998              2.913794   \n",
      "75%                11.860824              3.555077   \n",
      "max                22.861749              9.789625   \n",
      "\n",
      "       primary_cleaner.input.sulfate  ...  \\\n",
      "count                   21107.000000  ...   \n",
      "mean                      140.277672  ...   \n",
      "std                        49.919004  ...   \n",
      "min                         0.000003  ...   \n",
      "25%                       110.177081  ...   \n",
      "50%                       141.330501  ...   \n",
      "75%                       174.049914  ...   \n",
      "max                       274.409626  ...   \n",
      "\n",
      "       secondary_cleaner.state.floatbank4_a_air  \\\n",
      "count                              22571.000000   \n",
      "mean                                  18.205125   \n",
      "std                                    6.560700   \n",
      "min                                    0.000000   \n",
      "25%                                   14.095940   \n",
      "50%                                   18.007326   \n",
      "75%                                   22.998194   \n",
      "max                                   60.000000   \n",
      "\n",
      "       secondary_cleaner.state.floatbank4_a_level  \\\n",
      "count                                22587.000000   \n",
      "mean                                  -499.878977   \n",
      "std                                     80.273964   \n",
      "min                                   -799.920713   \n",
      "25%                                   -500.896232   \n",
      "50%                                   -499.917108   \n",
      "75%                                   -498.361545   \n",
      "max                                   -127.692333   \n",
      "\n",
      "       secondary_cleaner.state.floatbank4_b_air  \\\n",
      "count                              22608.000000   \n",
      "mean                                  14.356474   \n",
      "std                                    5.655791   \n",
      "min                                    0.000000   \n",
      "25%                                   10.882675   \n",
      "50%                                   14.947646   \n",
      "75%                                   17.977502   \n",
      "max                                   31.269706   \n",
      "\n",
      "       secondary_cleaner.state.floatbank4_b_level  \\\n",
      "count                                22607.000000   \n",
      "mean                                  -476.532613   \n",
      "std                                     93.822791   \n",
      "min                                   -800.836914   \n",
      "25%                                   -500.309169   \n",
      "50%                                   -499.612292   \n",
      "75%                                   -400.224147   \n",
      "max                                     -6.506986   \n",
      "\n",
      "       secondary_cleaner.state.floatbank5_a_air  \\\n",
      "count                              22615.000000   \n",
      "mean                                  14.883276   \n",
      "std                                    6.372811   \n",
      "min                                   -0.423260   \n",
      "25%                                   10.941299   \n",
      "50%                                   14.859117   \n",
      "75%                                   18.014914   \n",
      "max                                   63.116298   \n",
      "\n",
      "       secondary_cleaner.state.floatbank5_a_level  \\\n",
      "count                                22615.000000   \n",
      "mean                                  -503.323288   \n",
      "std                                     72.925589   \n",
      "min                                   -799.741097   \n",
      "25%                                   -500.628697   \n",
      "50%                                   -499.865158   \n",
      "75%                                   -498.489381   \n",
      "max                                   -244.483566   \n",
      "\n",
      "       secondary_cleaner.state.floatbank5_b_air  \\\n",
      "count                              22615.000000   \n",
      "mean                                  11.626743   \n",
      "std                                    5.757449   \n",
      "min                                    0.427084   \n",
      "25%                                    8.037533   \n",
      "50%                                   10.989756   \n",
      "75%                                   14.001193   \n",
      "max                                   39.846228   \n",
      "\n",
      "       secondary_cleaner.state.floatbank5_b_level  \\\n",
      "count                                22616.000000   \n",
      "mean                                  -500.521502   \n",
      "std                                     78.956292   \n",
      "min                                   -800.258209   \n",
      "25%                                   -500.167897   \n",
      "50%                                   -499.951980   \n",
      "75%                                   -499.492354   \n",
      "max                                   -120.190931   \n",
      "\n",
      "       secondary_cleaner.state.floatbank6_a_air  \\\n",
      "count                              22597.000000   \n",
      "mean                                  17.976810   \n",
      "std                                    6.636203   \n",
      "min                                   -0.079426   \n",
      "25%                                   13.968418   \n",
      "50%                                   18.004215   \n",
      "75%                                   23.009704   \n",
      "max                                   54.876806   \n",
      "\n",
      "       secondary_cleaner.state.floatbank6_a_level  \n",
      "count                                22615.000000  \n",
      "mean                                  -519.361465  \n",
      "std                                     75.477151  \n",
      "min                                   -810.473526  \n",
      "25%                                   -500.981671  \n",
      "50%                                   -500.095463  \n",
      "75%                                   -499.526388  \n",
      "max                                    -29.093593  \n",
      "\n",
      "[8 rows x 86 columns]\n"
     ]
    }
   ],
   "source": [
    "for df in dfs:\n",
    "    print(df.describe())"
   ]
  },
  {
   "cell_type": "code",
   "execution_count": 6,
   "metadata": {},
   "outputs": [
    {
     "data": {
      "text/plain": [
       "{'final.output.concentrate_ag',\n",
       " 'final.output.concentrate_au',\n",
       " 'final.output.concentrate_pb',\n",
       " 'final.output.concentrate_sol',\n",
       " 'final.output.recovery',\n",
       " 'final.output.tail_ag',\n",
       " 'final.output.tail_au',\n",
       " 'final.output.tail_pb',\n",
       " 'final.output.tail_sol',\n",
       " 'primary_cleaner.output.concentrate_ag',\n",
       " 'primary_cleaner.output.concentrate_au',\n",
       " 'primary_cleaner.output.concentrate_pb',\n",
       " 'primary_cleaner.output.concentrate_sol',\n",
       " 'primary_cleaner.output.tail_ag',\n",
       " 'primary_cleaner.output.tail_au',\n",
       " 'primary_cleaner.output.tail_pb',\n",
       " 'primary_cleaner.output.tail_sol',\n",
       " 'rougher.calculation.au_pb_ratio',\n",
       " 'rougher.calculation.floatbank10_sulfate_to_au_feed',\n",
       " 'rougher.calculation.floatbank11_sulfate_to_au_feed',\n",
       " 'rougher.calculation.sulfate_to_au_concentrate',\n",
       " 'rougher.output.concentrate_ag',\n",
       " 'rougher.output.concentrate_au',\n",
       " 'rougher.output.concentrate_pb',\n",
       " 'rougher.output.concentrate_sol',\n",
       " 'rougher.output.recovery',\n",
       " 'rougher.output.tail_ag',\n",
       " 'rougher.output.tail_au',\n",
       " 'rougher.output.tail_pb',\n",
       " 'rougher.output.tail_sol',\n",
       " 'secondary_cleaner.output.tail_ag',\n",
       " 'secondary_cleaner.output.tail_au',\n",
       " 'secondary_cleaner.output.tail_pb',\n",
       " 'secondary_cleaner.output.tail_sol'}"
      ]
     },
     "execution_count": 6,
     "metadata": {},
     "output_type": "execute_result"
    }
   ],
   "source": [
    "only_train = set(df_full.columns) - set(df_test.columns)\n",
    "only_train"
   ]
  },
  {
   "cell_type": "markdown",
   "metadata": {},
   "source": [
    "В приготовленной для нас тествой выборке отсутствуют столбцы, содержащие информацию о состоянии продукта после этапов флотации и очисток, а также содержащие расчетные характеристики и целевые значения эффективности обогащения.  "
   ]
  },
  {
   "cell_type": "markdown",
   "metadata": {},
   "source": [
    "## Анализ данных  \n",
    "### MAE"
   ]
  },
  {
   "cell_type": "code",
   "execution_count": 7,
   "metadata": {},
   "outputs": [
    {
     "data": {
      "text/plain": [
       "9.444891926100695e-15"
      ]
     },
     "execution_count": 7,
     "metadata": {},
     "output_type": "execute_result"
    }
   ],
   "source": [
    "columns_for_mae = ['rougher.output.recovery',\n",
    "           'rougher.output.concentrate_au',\n",
    "           'rougher.input.feed_au',\n",
    "           'rougher.output.tail_au']\n",
    "\n",
    "df_check = df_train[columns_for_mae].dropna()\n",
    "C = df_check['rougher.output.concentrate_au']\n",
    "F = df_check['rougher.input.feed_au']\n",
    "T = df_check['rougher.output.tail_au']\n",
    "recovery = (C * (F-T)) / (F * (C - T)) * 100\n",
    "mae(df_check['rougher.output.recovery'], recovery)"
   ]
  },
  {
   "cell_type": "markdown",
   "metadata": {},
   "source": [
    "Малое среднекватратичное отклонение говорит о верности предоставленной метрики Recovery."
   ]
  },
  {
   "cell_type": "code",
   "execution_count": 8,
   "metadata": {},
   "outputs": [
    {
     "name": "stdout",
     "output_type": "stream",
     "text": [
      "(16860, 87)\n",
      "(5856, 53)\n",
      "(22716, 87)\n"
     ]
    }
   ],
   "source": [
    "for df in dfs:\n",
    "    print(df.shape)"
   ]
  },
  {
   "cell_type": "markdown",
   "metadata": {},
   "source": [
    "### Распределение концентрации металлов на различных ступенях обработки  \n",
    "Напишем функцию, для построения графика распределения, которая на вход требует только название металла.\n"
   ]
  },
  {
   "cell_type": "code",
   "execution_count": 9,
   "metadata": {},
   "outputs": [],
   "source": [
    "def show_concentrate_of_metal_hist(metal, title):\n",
    "    x0 = df_full[f'rougher.input.feed_{metal}'].dropna()\n",
    "    x1 = df_full[f'rougher.output.concentrate_{metal}'].dropna()\n",
    "    x2 = df_full[f'primary_cleaner.output.concentrate_{metal}'].dropna()\n",
    "    x3 = df_full[f'final.output.concentrate_{metal}'].dropna()\n",
    "\n",
    "    plt.figure(figsize=(12, 6))\n",
    "\n",
    "    sb.distplot(x0, kde_kws= {\"label\": \"Сырье\"})\n",
    "    sb.distplot(x1, kde_kws= {\"label\": \"Черновой\"})\n",
    "    sb.distplot(x2, kde_kws= {\"label\": \"Первичная очистка\"})\n",
    "    sb.distplot(x3, kde_kws= {\"label\": \"Финальный этап\"})\n",
    "\n",
    "    plt.title(label=f'Концентрация {title} на различных этапах очистки', fontsize=15)\n",
    "    plt.xlabel('Концентрация')\n",
    "    plt.ylabel('Количество наблюдений')"
   ]
  },
  {
   "cell_type": "code",
   "execution_count": 10,
   "metadata": {},
   "outputs": [
    {
     "data": {
      "image/png": "[encoded data removed]",
      "text/plain": [
       "<Figure size 864x432 with 1 Axes>"
      ]
     },
     "metadata": {
      "needs_background": "light"
     },
     "output_type": "display_data"
    }
   ],
   "source": [
    "show_concentrate_of_metal_hist('au', 'золота')"
   ]
  },
  {
   "cell_type": "code",
   "execution_count": 11,
   "metadata": {},
   "outputs": [
    {
     "data": {
      "image/png": "[encoded data removed]",
      "text/plain": [
       "<Figure size 864x432 with 1 Axes>"
      ]
     },
     "metadata": {
      "needs_background": "light"
     },
     "output_type": "display_data"
    }
   ],
   "source": [
    "show_concentrate_of_metal_hist('ag', 'серебра')"
   ]
  },
  {
   "cell_type": "code",
   "execution_count": 12,
   "metadata": {},
   "outputs": [
    {
     "data": {
      "image/png": "[encoded data removed]",
      "text/plain": [
       "<Figure size 864x432 with 1 Axes>"
      ]
     },
     "metadata": {
      "needs_background": "light"
     },
     "output_type": "display_data"
    }
   ],
   "source": [
    "show_concentrate_of_metal_hist('pb', 'свинца')"
   ]
  },
  {
   "cell_type": "markdown",
   "metadata": {},
   "source": [
    "__Вывод__\n",
    "- Концентрация золота после каждого этапа очистки возрастает в среднем от 7 до 45%\n",
    "- Концентрация серебра растет после флотации, потом падает.\n",
    "- Концентрация свинца растет после первого этапа, потом меняется незначительно."
   ]
  },
  {
   "cell_type": "code",
   "execution_count": 13,
   "metadata": {},
   "outputs": [],
   "source": [
    "def show_feed_size_hist(step, title):\n",
    "    x0 = df_train[f'{step}.input.feed_size'].dropna()\n",
    "    x1 = df_test[f'{step}.input.feed_size'].dropna()\n",
    "    plt.figure(figsize=(12, 6))\n",
    "    sb.distplot(x0, kde_kws= {\"label\": \"Train\"})\n",
    "    sb.distplot(x1, kde_kws= {\"label\": \"Test\"})\n",
    "    plt.xlabel('Размер гранул')\n",
    "    plt.ylabel('Количество наблюдений')\n",
    "    plt.title(label=f'Распределение размеров гранул сырья для {title}', fontsize=15)"
   ]
  },
  {
   "cell_type": "code",
   "execution_count": 14,
   "metadata": {},
   "outputs": [
    {
     "data": {
      "image/png": "[encoded data removed]",
      "text/plain": [
       "<Figure size 864x432 with 1 Axes>"
      ]
     },
     "metadata": {
      "needs_background": "light"
     },
     "output_type": "display_data"
    }
   ],
   "source": [
    "show_feed_size_hist('rougher', 'флотации')"
   ]
  },
  {
   "cell_type": "code",
   "execution_count": 15,
   "metadata": {},
   "outputs": [
    {
     "data": {
      "image/png": "[encoded data removed]",
      "text/plain": [
       "<Figure size 864x432 with 1 Axes>"
      ]
     },
     "metadata": {
      "needs_background": "light"
     },
     "output_type": "display_data"
    }
   ],
   "source": [
    "show_feed_size_hist('primary_cleaner', 'очистки')"
   ]
  },
  {
   "cell_type": "markdown",
   "metadata": {},
   "source": [
    "__Вывод__\n",
    "- Размеры гранул распределены одинаково на двух выборках, размер гранул для очистки намного меньше."
   ]
  },
  {
   "cell_type": "markdown",
   "metadata": {},
   "source": [
    "### Суммарная концентрация всех веществ на разных этапах очистки"
   ]
  },
  {
   "cell_type": "code",
   "execution_count": 16,
   "metadata": {},
   "outputs": [
    {
     "data": {
      "text/plain": [
       "Text(0.5, 1.0, 'Концентрация всех веществ на разных стадиях')"
      ]
     },
     "execution_count": 16,
     "metadata": {},
     "output_type": "execute_result"
    },
    {
     "data": {
      "image/png": "[encoded data removed]",
      "text/plain": [
       "<Figure size 864x432 with 1 Axes>"
      ]
     },
     "metadata": {
      "needs_background": "light"
     },
     "output_type": "display_data"
    }
   ],
   "source": [
    "metals = ['au', 'ag', 'pb', 'sol']\n",
    "steps = ['rougher.input.feed_',\n",
    "         'rougher.output.concentrate_', \n",
    "         'final.output.concentrate_']\n",
    "for step in steps:\n",
    "    df_full[step] = df_full[step + metals[0]] + df_full[step + metals[1]] + df_full[step + metals[2]] + df_full[step + metals[3]]\n",
    "x0 = df_full['rougher.input.feed_'].dropna()\n",
    "x1 = df_full['rougher.output.concentrate_'].dropna()\n",
    "x2 = df_full['final.output.concentrate_'].dropna()\n",
    "\n",
    "plt.figure(figsize=(12, 6))\n",
    "\n",
    "sb.distplot(x0, kde_kws= {\"label\": \"Сырье\"})\n",
    "sb.distplot(x1, kde_kws= {\"label\": \"Черновой\"})\n",
    "sb.distplot(x2, kde_kws= {\"label\": \"Финальный этап\"})\n",
    "\n",
    "\n",
    "plt.xlabel('Концентрация')\n",
    "plt.ylabel('Количество наблюдений')\n",
    "plt.title(label='Концентрация всех веществ на разных стадиях', fontsize=15)"
   ]
  },
  {
   "cell_type": "markdown",
   "metadata": {},
   "source": [
    "В результате очистки концентрация веществ достигает 70%. Необходимо удалить строки со значениями концентраций равных нулю."
   ]
  },
  {
   "cell_type": "code",
   "execution_count": 17,
   "metadata": {},
   "outputs": [],
   "source": [
    "df = df_full[(df_full['rougher.input.feed_'] != 0) &\n",
    "         (df_full['rougher.output.concentrate_'] != 0) & \n",
    "         (df_full['final.output.concentrate_'] != 0)]"
   ]
  },
  {
   "cell_type": "markdown",
   "metadata": {},
   "source": [
    "Приготовим выборки. Х - признаки, у - ключевой признак в виде характеристики recovery для чернового концентрата и итогового концентрата."
   ]
  },
  {
   "cell_type": "code",
   "execution_count": 18,
   "metadata": {},
   "outputs": [],
   "source": [
    "train = df_train[df_test.columns]\n",
    "\n",
    "test = df_test.dropna()\n",
    "train = train.dropna()\n",
    "\n",
    "test.drop(['date'], axis=1, inplace=True)\n",
    "train.drop(['date'], axis=1, inplace=True)\n",
    "\n",
    "\n",
    "X_train_rougher = train\n",
    "X_test_rougher = test\n",
    "y_train_rougher = df.loc[X_train_rougher.index, 'rougher.output.recovery']\n",
    "y_test_rougher = df.loc[X_test_rougher.index,'final.output.recovery']\n",
    "\n",
    "X_train_final = train\n",
    "X_test_final = test\n",
    "y_train_final = df.loc[X_train_final.index, 'final.output.recovery']\n",
    "y_test_final = df.loc[X_test_final.index, 'final.output.recovery']\n",
    "\n",
    "y_train_final = y_train_final.fillna(y_train_final.mean())\n",
    "y_train_rougher = y_train_rougher.fillna(y_train_rougher.mean())"
   ]
  },
  {
   "cell_type": "markdown",
   "metadata": {},
   "source": [
    "Проверим размеры выборок"
   ]
  },
  {
   "cell_type": "code",
   "execution_count": 19,
   "metadata": {},
   "outputs": [
    {
     "data": {
      "text/plain": [
       "((13522, 52), (5383, 52), (13522,), (5383,))"
      ]
     },
     "execution_count": 19,
     "metadata": {},
     "output_type": "execute_result"
    }
   ],
   "source": [
    "(X_train_final.shape), (X_test_final.shape), (y_train_final.shape), (y_test_final.shape)"
   ]
  },
  {
   "cell_type": "code",
   "execution_count": 20,
   "metadata": {},
   "outputs": [
    {
     "name": "stdout",
     "output_type": "stream",
     "text": [
      "Итоговый smape константной модели:  12.785100212372484\n"
     ]
    }
   ],
   "source": [
    "def smape(y_target, y_pred):\n",
    "    return ((1/len(y_target)) * np.sum(2 * np.abs(y_target - y_pred) / (np.abs(y_target) + np.abs(y_pred)))) * 100\n",
    "smape_score = make_scorer(smape, greater_is_better=False)\n",
    "rougher_median = pd.Series(y_train_rougher.median(), index=y_test_rougher.index)\n",
    "final_median = pd.Series(y_train_final.median(), index=y_test_final.index)\n",
    "\n",
    "total = (smape(y_test_final, rougher_median)*0.25) + (smape(y_test_rougher, final_median)* 0.75)\n",
    "print('Итоговый smape константной модели: ', total)\n"
   ]
  },
  {
   "cell_type": "markdown",
   "metadata": {},
   "source": [
    "## Модель\n",
    "### Дерево решений"
   ]
  },
  {
   "cell_type": "markdown",
   "metadata": {},
   "source": [
    "Для каждой модели найдем ее лучшие параметры при помощи DecisionTreeRegressor. Далее обучим модель. Сделаем это для данных по черновому концентрату и по финальному концентрату. Проверим на тестовой выборке. В конце рассчитаем итоговую sMAPE. "
   ]
  },
  {
   "cell_type": "code",
   "execution_count": 21,
   "metadata": {},
   "outputs": [
    {
     "name": "stdout",
     "output_type": "stream",
     "text": [
      "Best params for model:  {'max_depth': 3}\n",
      " 6.185484170913696 seconds \n"
     ]
    }
   ],
   "source": [
    "start_time = time.time()\n",
    "RND = 12345\n",
    "params_dtr_grid = {\n",
    "    'max_depth' : range(1,6)\n",
    "}\n",
    "grid_decision_tree_regr_rougher = GridSearchCV(DecisionTreeRegressor(random_state=RND), param_grid = params_dtr_grid, cv=5, n_jobs=-1, scoring=smape_score) \n",
    "grid_decision_tree_regr_rougher.fit(X_train_rougher, y_train_rougher)\n",
    "params_dtr_rougher = grid_decision_tree_regr_rougher.best_params_\n",
    "decision_tree_regr_rougher = DecisionTreeRegressor(**params_dtr_rougher, random_state = RND)\n",
    "decision_tree_regr_rougher.fit(X_train_rougher, y_train_rougher)\n",
    "print('Best params for model: ', grid_decision_tree_regr_rougher.best_params_)\n",
    "\n",
    "print(\" %s seconds \" % (time.time() - start_time))"
   ]
  },
  {
   "cell_type": "code",
   "execution_count": 22,
   "metadata": {},
   "outputs": [
    {
     "name": "stdout",
     "output_type": "stream",
     "text": [
      "Best params for model:  {'max_depth': 2}\n",
      " 6.162619352340698 seconds \n"
     ]
    }
   ],
   "source": [
    "start_time = time.time()\n",
    "\n",
    "grid_decision_tree_regr_final = GridSearchCV(DecisionTreeRegressor(random_state=RND), param_grid = params_dtr_grid, cv=5, n_jobs=-1, scoring=smape_score) \n",
    "grid_decision_tree_regr_final.fit(X_train_final, y_train_final)\n",
    "params_dtr_final = grid_decision_tree_regr_final.best_params_\n",
    "decision_tree_regr_final = DecisionTreeRegressor(**params_dtr_final, random_state = RND)\n",
    "decision_tree_regr_final.fit(X_train_final, y_train_final)\n",
    "print('Best params for model: ', grid_decision_tree_regr_final.best_params_)\n",
    "\n",
    "print(\" %s seconds \" % (time.time() - start_time))"
   ]
  },
  {
   "cell_type": "code",
   "execution_count": 23,
   "metadata": {},
   "outputs": [
    {
     "data": {
      "text/plain": [
       "(7.703072262074244, 9.276818274239172)"
      ]
     },
     "execution_count": 23,
     "metadata": {},
     "output_type": "execute_result"
    }
   ],
   "source": [
    "pred_dtr_rough = decision_tree_regr_rougher.predict(X_test_rougher)\n",
    "smape_dtr_rougher = smape(df.loc[X_test_rougher.index, 'rougher.output.recovery'], pred_dtr_rough)\n",
    "\n",
    "pred_dtr_final = decision_tree_regr_final.predict(X_test_final)\n",
    "smape_dtr_final = smape(df.loc[X_test_final.index, 'final.output.recovery'], pred_dtr_final)\n",
    "smape_dtr_rougher, smape_dtr_final"
   ]
  },
  {
   "cell_type": "code",
   "execution_count": 24,
   "metadata": {},
   "outputs": [
    {
     "data": {
      "text/plain": [
       "8.88338177119794"
      ]
     },
     "execution_count": 24,
     "metadata": {},
     "output_type": "execute_result"
    }
   ],
   "source": [
    "total_dtr_smape = 0.25*smape_dtr_rougher + 0.75*smape_dtr_final\n",
    "total_dtr_smape"
   ]
  },
  {
   "cell_type": "markdown",
   "metadata": {},
   "source": [
    "### Случайный лес\n"
   ]
  },
  {
   "cell_type": "code",
   "execution_count": 25,
   "metadata": {},
   "outputs": [
    {
     "name": "stdout",
     "output_type": "stream",
     "text": [
      "Best params for model:  {'max_depth': 4}\n",
      " 333.91905760765076 seconds \n"
     ]
    }
   ],
   "source": [
    "start_time = time.time()\n",
    "param_rf_grid = {\n",
    "        'max_depth' : range(4,20)}\n",
    "grid_random_forest_regr_rougher = GridSearchCV(RandomForestRegressor(random_state=RND), \n",
    "                                               param_grid = param_rf_grid, \n",
    "                                               cv=5, \n",
    "                                               n_jobs=-1, \n",
    "                                               scoring=smape_score) \n",
    "grid_random_forest_regr_rougher.fit(X_train_rougher, y_train_rougher)\n",
    "params_rf_rougher = grid_random_forest_regr_rougher.best_params_\n",
    "random_forest_regr_rougher = RandomForestRegressor(**params_rf_rougher, random_state = RND)\n",
    "random_forest_regr_rougher.fit(X_train_rougher, y_train_rougher)\n",
    "print('Best params for model: ', grid_random_forest_regr_rougher.best_params_)\n",
    "\n",
    "print(\" %s seconds \" % (time.time() - start_time))"
   ]
  },
  {
   "cell_type": "code",
   "execution_count": 26,
   "metadata": {},
   "outputs": [
    {
     "name": "stdout",
     "output_type": "stream",
     "text": [
      "Best params for model:  {'max_depth': 4}\n",
      " 347.93407464027405 seconds \n"
     ]
    }
   ],
   "source": [
    "start_time = time.time()\n",
    "\n",
    "grid_random_forest_regr_final = GridSearchCV(RandomForestRegressor(random_state=RND), \n",
    "                                             param_grid = param_rf_grid, \n",
    "                                             cv=5, \n",
    "                                             n_jobs=-1, \n",
    "                                             scoring=smape_score) \n",
    "grid_random_forest_regr_final.fit(X_train_final, y_train_final)\n",
    "params_rf_final = grid_random_forest_regr_final.best_params_\n",
    "random_forest_regr_final = RandomForestRegressor(**params_rf_final, random_state = RND)\n",
    "random_forest_regr_final.fit(X_train_final, y_train_final)\n",
    "print('Best params for model: ', grid_random_forest_regr_final.best_params_)\n",
    "\n",
    "print(\" %s seconds \" % (time.time() - start_time))"
   ]
  },
  {
   "cell_type": "code",
   "execution_count": 27,
   "metadata": {},
   "outputs": [
    {
     "data": {
      "text/plain": [
       "(9.192247596202762, 7.841028117691246)"
      ]
     },
     "execution_count": 27,
     "metadata": {},
     "output_type": "execute_result"
    }
   ],
   "source": [
    "pred_rf_rough = random_forest_regr_rougher.predict(X_test_rougher)\n",
    "smape_rf_rougher = smape(df.loc[X_test_rougher.index, 'rougher.output.recovery'], pred_rf_rough)\n",
    "\n",
    "pred_rf_final = random_forest_regr_final.predict(X_test_final)\n",
    "smape_rf_final = smape(df.loc[X_test_final.index, 'final.output.recovery'], pred_rf_final)\n",
    "smape_rf_final, smape_rf_rougher"
   ]
  },
  {
   "cell_type": "code",
   "execution_count": 28,
   "metadata": {},
   "outputs": [
    {
     "data": {
      "text/plain": [
       "8.854442726574883"
      ]
     },
     "execution_count": 28,
     "metadata": {},
     "output_type": "execute_result"
    }
   ],
   "source": [
    "total_rf_smape = 0.25*smape_rf_rougher + 0.75*smape_rf_final\n",
    "total_rf_smape"
   ]
  },
  {
   "cell_type": "markdown",
   "metadata": {},
   "source": [
    "### Линейная регрессия"
   ]
  },
  {
   "cell_type": "code",
   "execution_count": 29,
   "metadata": {},
   "outputs": [
    {
     "name": "stdout",
     "output_type": "stream",
     "text": [
      "Best params for model:  {'copy_X': True, 'fit_intercept': True, 'normalize': False}\n",
      " 15.825034856796265 seconds \n"
     ]
    }
   ],
   "source": [
    "start_time = time.time()\n",
    "\n",
    "param_lr_grid = {'fit_intercept':[True, False],\n",
    "             'normalize':[True, False],\n",
    "             'copy_X':[True, False]}\n",
    "\n",
    "grid_line_regr_rougher = GridSearchCV(LinearRegression(), param_grid = param_lr_grid, n_jobs=-1, cv = 5, scoring = smape_score)\n",
    "grid_line_regr_rougher.fit(X_train_rougher, y_train_rougher)\n",
    "params_lr_rougher = grid_line_regr_rougher.best_params_\n",
    "line_regr_rougher = LinearRegression(**params_lr_rougher)\n",
    "line_regr_rougher.fit(X_train_rougher, y_train_rougher)\n",
    "                      \n",
    "print('Best params for model: ', grid_line_regr_rougher.best_params_)\n",
    "\n",
    "print(\" %s seconds \" % (time.time() - start_time))"
   ]
  },
  {
   "cell_type": "code",
   "execution_count": 30,
   "metadata": {},
   "outputs": [
    {
     "name": "stdout",
     "output_type": "stream",
     "text": [
      "Best params for model:  {'copy_X': True, 'fit_intercept': True, 'normalize': False}\n",
      " 32.823609590530396 seconds \n"
     ]
    }
   ],
   "source": [
    "grid_line_regr_final = GridSearchCV(LinearRegression(), param_grid = param_lr_grid, n_jobs=-1, cv = 5, scoring = smape_score)\n",
    "grid_line_regr_final.fit(X_train_final, y_train_final)\n",
    "params_lr_final = grid_line_regr_final.best_params_\n",
    "line_regr_final = LinearRegression(**params_lr_final)\n",
    "line_regr_final.fit(X_train_final, y_train_final)\n",
    "print('Best params for model: ', grid_line_regr_final.best_params_)\n",
    "\n",
    "print(\" %s seconds \" % (time.time() - start_time))"
   ]
  },
  {
   "cell_type": "code",
   "execution_count": 31,
   "metadata": {},
   "outputs": [
    {
     "data": {
      "text/plain": [
       "(9.634789836874265, 8.311162361067467)"
      ]
     },
     "execution_count": 31,
     "metadata": {},
     "output_type": "execute_result"
    }
   ],
   "source": [
    "pred_lr_rough = line_regr_rougher.predict(X_test_rougher)\n",
    "smape_lr_rougher = smape(df.loc[X_test_rougher.index, 'rougher.output.recovery'], pred_lr_rough)\n",
    "\n",
    "pred_lr_final = line_regr_final.predict(X_test_final)\n",
    "smape_lr_final = smape(df.loc[X_test_final.index, 'final.output.recovery'], pred_lr_final)\n",
    "smape_lr_final, smape_lr_rougher"
   ]
  },
  {
   "cell_type": "code",
   "execution_count": 32,
   "metadata": {},
   "outputs": [
    {
     "data": {
      "text/plain": [
       "9.303882967922565"
      ]
     },
     "execution_count": 32,
     "metadata": {},
     "output_type": "execute_result"
    }
   ],
   "source": [
    "total_lr_smape = 0.25*smape_lr_rougher + 0.75*smape_lr_final\n",
    "total_lr_smape"
   ]
  },
  {
   "cell_type": "markdown",
   "metadata": {},
   "source": [
    "## Вывод"
   ]
  },
  {
   "cell_type": "code",
   "execution_count": 33,
   "metadata": {},
   "outputs": [
    {
     "name": "stdout",
     "output_type": "stream",
     "text": [
      "Total sMAPE разных моделей: \n",
      "Дерево решений 8.88338177119794\n",
      "Случайный лес 8.854442726574883\n",
      "Линейная регрессия 9.303882967922565\n",
      "Константная модель:  12.785100212372484\n"
     ]
    }
   ],
   "source": [
    "print('Total sMAPE разных моделей: ')\n",
    "print('Дерево решений', total_dtr_smape)\n",
    "print('Случайный лес', total_rf_smape)\n",
    "print('Линейная регрессия', total_lr_smape) \n",
    "print('Константная модель: ', total)"
   ]
  },
  {
   "cell_type": "markdown",
   "metadata": {},
   "source": [
    "Вывод: - Случайный лес имеет лучший результат в сравнении с sMAPE константной модели: 12.7 и 8.85"
   ]
  }
 ],
 "metadata": {
  "kernelspec": {
   "display_name": "Python 3",
   "language": "python",
   "name": "python3"
  },
  "language_info": {
   "codemirror_mode": {
    "name": "ipython",
    "version": 3
   },
   "file_extension": ".py",
   "mimetype": "text/x-python",
   "name": "python",
   "nbconvert_exporter": "python",
   "pygments_lexer": "ipython3",
   "version": "3.7.8"
  },
  "toc": {
   "base_numbering": 1,
   "nav_menu": {},
   "number_sections": true,
   "sideBar": true,
   "skip_h1_title": true,
   "title_cell": "Содержание",
   "title_sidebar": "Contents",
   "toc_cell": true,
   "toc_position": {},
   "toc_section_display": true,
   "toc_window_display": false
  }
 },
 "nbformat": 4,
 "nbformat_minor": 2
}
