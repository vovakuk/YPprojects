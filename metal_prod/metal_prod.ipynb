{
 "cells": [
  {
   "cell_type": "code",
   "execution_count": 1,
   "metadata": {},
   "outputs": [],
   "source": [
    "import pandas as pd \n",
    "import numpy as np \n",
    "import matplotlib.pyplot as plt \n",
    "from sklearn.model_selection import train_test_split, GridSearchCV\n",
    "from sklearn.metrics import mean_absolute_error\n",
    "\n",
    "from sklearn.ensemble import RandomForestRegressor\n",
    "RND = 12345"
   ]
  },
  {
   "cell_type": "code",
   "execution_count": 2,
   "metadata": {},
   "outputs": [],
   "source": [
    "arc = pd.read_csv('/datasets/final_steel/data_arc.csv')\n",
    "bulk = pd.read_csv('/datasets/final_steel/data_bulk.csv')\n",
    "bulk_time = pd.read_csv('/datasets/final_steel/data_bulk_time.csv')\n",
    "gas = pd.read_csv('/datasets/final_steel/data_gas.csv')\n",
    "temp = pd.read_csv('/datasets/final_steel/data_temp.csv')\n",
    "wire = pd.read_csv('/datasets/final_steel/data_wire.csv')\n",
    "wire_time = pd.read_csv('/datasets/final_steel/data_wire_time.csv')"
   ]
  },
  {
   "cell_type": "markdown",
   "metadata": {},
   "source": [
    "Так как у партий после 2499 известна только одна температура, мы уберем партии ниже 2500 (key)"
   ]
  },
  {
   "cell_type": "code",
   "execution_count": 3,
   "metadata": {},
   "outputs": [],
   "source": [
    "temp =  temp.query('key < 2500')\n",
    "arc = arc.query('key < 2500')\n",
    "bulk = bulk.query('key < 2500')\n",
    "wire = wire.query('key < 2500')"
   ]
  },
  {
   "cell_type": "code",
   "execution_count": 4,
   "metadata": {},
   "outputs": [],
   "source": [
    "arc = arc[arc['Реактивная мощность'] > 0]\n",
    "arc['Начало нагрева дугой'] = pd.to_datetime(arc['Начало нагрева дугой'])\n",
    "arc['Конец нагрева дугой'] = pd.to_datetime(arc['Конец нагрева дугой'])\n",
    "arc['Продолжительность нагрева дугой в сек'] = (arc['Конец нагрева дугой'] - arc['Начало нагрева дугой']) // pd.Timedelta('1s')\n",
    "arc['Полная мощность'] = np.sqrt(arc['Активная мощность']**2 + arc['Реактивная мощность']**2)"
   ]
  },
  {
   "cell_type": "code",
   "execution_count": 5,
   "metadata": {},
   "outputs": [],
   "source": [
    "\n",
    "arc_count = arc['key'].value_counts().sort_index().sort_index().reset_index()\n",
    "arc_count = arc_count.rename(columns={'index': 'key',\n",
    "                          'key': 'Количество запусков нагрева'})\n",
    "arc = arc.groupby(by = 'key', as_index=False).sum()\n",
    "arc = arc.merge(arc_count, how='left', on='key')"
   ]
  },
  {
   "cell_type": "markdown",
   "metadata": {},
   "source": [
    "Проверим признаки на мультиколлинеарность"
   ]
  },
  {
   "cell_type": "code",
   "execution_count": 6,
   "metadata": {
    "scrolled": true
   },
   "outputs": [
    {
     "data": {
      "text/html": [
       "<div>\n",
       "<style scoped>\n",
       "    .dataframe tbody tr th:only-of-type {\n",
       "        vertical-align: middle;\n",
       "    }\n",
       "\n",
       "    .dataframe tbody tr th {\n",
       "        vertical-align: top;\n",
       "    }\n",
       "\n",
       "    .dataframe thead th {\n",
       "        text-align: right;\n",
       "    }\n",
       "</style>\n",
       "<table border=\"1\" class=\"dataframe\">\n",
       "  <thead>\n",
       "    <tr style=\"text-align: right;\">\n",
       "      <th></th>\n",
       "      <th>Активная мощность</th>\n",
       "      <th>Реактивная мощность</th>\n",
       "      <th>Продолжительность нагрева дугой в сек</th>\n",
       "      <th>Полная мощность</th>\n",
       "      <th>Количество запусков нагрева</th>\n",
       "    </tr>\n",
       "  </thead>\n",
       "  <tbody>\n",
       "    <tr>\n",
       "      <td>Активная мощность</td>\n",
       "      <td>1.000000</td>\n",
       "      <td>0.959727</td>\n",
       "      <td>0.978192</td>\n",
       "      <td>0.993677</td>\n",
       "      <td>0.754205</td>\n",
       "    </tr>\n",
       "    <tr>\n",
       "      <td>Реактивная мощность</td>\n",
       "      <td>0.959727</td>\n",
       "      <td>1.000000</td>\n",
       "      <td>0.966462</td>\n",
       "      <td>0.985069</td>\n",
       "      <td>0.751501</td>\n",
       "    </tr>\n",
       "    <tr>\n",
       "      <td>Продолжительность нагрева дугой в сек</td>\n",
       "      <td>0.978192</td>\n",
       "      <td>0.966462</td>\n",
       "      <td>1.000000</td>\n",
       "      <td>0.982899</td>\n",
       "      <td>0.795958</td>\n",
       "    </tr>\n",
       "    <tr>\n",
       "      <td>Полная мощность</td>\n",
       "      <td>0.993677</td>\n",
       "      <td>0.985069</td>\n",
       "      <td>0.982899</td>\n",
       "      <td>1.000000</td>\n",
       "      <td>0.760402</td>\n",
       "    </tr>\n",
       "    <tr>\n",
       "      <td>Количество запусков нагрева</td>\n",
       "      <td>0.754205</td>\n",
       "      <td>0.751501</td>\n",
       "      <td>0.795958</td>\n",
       "      <td>0.760402</td>\n",
       "      <td>1.000000</td>\n",
       "    </tr>\n",
       "  </tbody>\n",
       "</table>\n",
       "</div>"
      ],
      "text/plain": [
       "                                       Активная мощность  Реактивная мощность  \\\n",
       "Активная мощность                               1.000000             0.959727   \n",
       "Реактивная мощность                             0.959727             1.000000   \n",
       "Продолжительность нагрева дугой в сек           0.978192             0.966462   \n",
       "Полная мощность                                 0.993677             0.985069   \n",
       "Количество запусков нагрева                     0.754205             0.751501   \n",
       "\n",
       "                                       Продолжительность нагрева дугой в сек  \\\n",
       "Активная мощность                                                   0.978192   \n",
       "Реактивная мощность                                                 0.966462   \n",
       "Продолжительность нагрева дугой в сек                               1.000000   \n",
       "Полная мощность                                                     0.982899   \n",
       "Количество запусков нагрева                                         0.795958   \n",
       "\n",
       "                                       Полная мощность  \\\n",
       "Активная мощность                             0.993677   \n",
       "Реактивная мощность                           0.985069   \n",
       "Продолжительность нагрева дугой в сек         0.982899   \n",
       "Полная мощность                               1.000000   \n",
       "Количество запусков нагрева                   0.760402   \n",
       "\n",
       "                                       Количество запусков нагрева  \n",
       "Активная мощность                                         0.754205  \n",
       "Реактивная мощность                                       0.751501  \n",
       "Продолжительность нагрева дугой в сек                     0.795958  \n",
       "Полная мощность                                           0.760402  \n",
       "Количество запусков нагрева                               1.000000  "
      ]
     },
     "execution_count": 6,
     "metadata": {},
     "output_type": "execute_result"
    }
   ],
   "source": [
    "arc[['Активная мощность', 'Реактивная мощность',\n",
    "       'Продолжительность нагрева дугой в сек', 'Полная мощность',\n",
    "       'Количество запусков нагрева']].corr()"
   ]
  },
  {
   "cell_type": "markdown",
   "metadata": {},
   "source": [
    "Коррелируют такие столбцы как: Активная мощность и Реактивная мощность, Продолжительность нагрева дугой в сек и Полная мощность (Активная мощность и Реактивная мощность).\n",
    "\n",
    "Их высокая корреляция может привести к переобучению моделей, так что их нужно убрать и оставить Полную мощность"
   ]
  },
  {
   "cell_type": "code",
   "execution_count": 7,
   "metadata": {},
   "outputs": [],
   "source": [
    "arc = arc[['key', 'Полная мощность', 'Количество запусков нагрева']]"
   ]
  },
  {
   "cell_type": "code",
   "execution_count": 8,
   "metadata": {},
   "outputs": [],
   "source": [
    "temp = temp.groupby(by = 'key').agg(['first', 'last']).reset_index()\n",
    "temp.columns = temp.columns.droplevel()\n",
    "temp.columns = ['key', 'Замер 1', 'Замер 2', 'Температура 1', 'Температура 2']\n",
    "temp = temp[['key', 'Температура 1', 'Температура 2']]"
   ]
  },
  {
   "cell_type": "code",
   "execution_count": 9,
   "metadata": {},
   "outputs": [],
   "source": [
    "df = (arc.merge(temp, how='left', on='key')\n",
    "         .merge(wire, how='left', on='key')\n",
    "         .merge(bulk, how='left', on='key')\n",
    "         .merge(gas, how='left', on='key'))"
   ]
  },
  {
   "cell_type": "code",
   "execution_count": 10,
   "metadata": {},
   "outputs": [],
   "source": [
    "df = df.drop(['key'], axis = 1)\n",
    "df = df.fillna(0)"
   ]
  },
  {
   "cell_type": "code",
   "execution_count": 11,
   "metadata": {},
   "outputs": [
    {
     "data": {
      "text/plain": [
       "Index(['Полная мощность', 'Количество запусков нагрева', 'Температура 1',\n",
       "       'Температура 2', 'Wire 1', 'Wire 2', 'Wire 3', 'Wire 4', 'Wire 5',\n",
       "       'Wire 6', 'Wire 7', 'Wire 8', 'Wire 9', 'Bulk 1', 'Bulk 2', 'Bulk 3',\n",
       "       'Bulk 4', 'Bulk 5', 'Bulk 6', 'Bulk 7', 'Bulk 8', 'Bulk 9', 'Bulk 10',\n",
       "       'Bulk 11', 'Bulk 12', 'Bulk 13', 'Bulk 14', 'Bulk 15', 'Газ 1'],\n",
       "      dtype='object')"
      ]
     },
     "execution_count": 11,
     "metadata": {},
     "output_type": "execute_result"
    }
   ],
   "source": [
    "df.columns"
   ]
  },
  {
   "cell_type": "markdown",
   "metadata": {},
   "source": [
    "Разобьем данные на выборки"
   ]
  },
  {
   "cell_type": "code",
   "execution_count": 12,
   "metadata": {},
   "outputs": [],
   "source": [
    "X, y = train_test_split(df, test_size = .25, random_state = RND)\n",
    "\n",
    "X_train = X.drop(['Температура 2'], axis = 1)\n",
    "y_train = X['Температура 2']\n",
    "\n",
    "X_test = y.drop(['Температура 2'], axis = 1)\n",
    "y_test = y['Температура 2']"
   ]
  },
  {
   "cell_type": "markdown",
   "metadata": {},
   "source": [
    "Обучим модель случайного леса"
   ]
  },
  {
   "cell_type": "code",
   "execution_count": 13,
   "metadata": {},
   "outputs": [
    {
     "name": "stdout",
     "output_type": "stream",
     "text": [
      "{'max_depth': 6, 'max_features': 'auto', 'min_samples_split': 2, 'n_estimators': 100}\n",
      "MAE on test:  6.712259319652873\n",
      "CPU times: user 5min 57s, sys: 1.56 s, total: 5min 59s\n",
      "Wall time: 6min\n"
     ]
    }
   ],
   "source": [
    "%%time\n",
    "param_rf_grid = {'n_estimators': [100, 300, 500], \n",
    "                 'max_depth': [2, 4, 6], \n",
    "                 'min_samples_split': [2, 5, 8], \n",
    "                 'max_features': ['auto', 'sqrt', 'log2', None],\n",
    "#                'random_state' : [12345]\n",
    "                }\n",
    "\n",
    "grid_rf = GridSearchCV(RandomForestRegressor(random_state=RND), \n",
    "                       param_rf_grid, \n",
    "                       cv=5,\n",
    "                       scoring='neg_mean_absolute_error')\n",
    "grid_rf.fit(X_train, y_train)\n",
    "params_rf = grid_rf.best_params_\n",
    "rf = RandomForestRegressor(**params_rf, random_state=RND)\n",
    "rf.fit(X_train, y_train)\n",
    "pred_test = rf.predict(X_test)\n",
    "print(params_rf)\n",
    "print(\"MAE on test: \", mean_absolute_error(y_test, pred_test))"
   ]
  },
  {
   "cell_type": "markdown",
   "metadata": {},
   "source": [
    "Получаем 6.71 MAE для модели предсказания температуры."
   ]
  },
  {
   "cell_type": "code",
   "execution_count": 14,
   "metadata": {},
   "outputs": [
    {
     "data": {
      "text/plain": [
       "Text(0.5, 0, 'Random Forest feature importance')"
      ]
     },
     "execution_count": 14,
     "metadata": {},
     "output_type": "execute_result"
    },
    {
     "data": {
      "image/png": "[encoded data removed]",
      "text/plain": [
       "<Figure size 1080x720 with 1 Axes>"
      ]
     },
     "metadata": {
      "needs_background": "light"
     },
     "output_type": "display_data"
    }
   ],
   "source": [
    "fig, ax = plt.subplots(figsize=(15,10))\n",
    "sorted_idx = rf.feature_importances_.argsort()\n",
    "plt.barh(X_test.columns.values[sorted_idx], rf.feature_importances_[sorted_idx])\n",
    "plt.xlabel(\"Random Forest feature importance\")"
   ]
  },
  {
   "cell_type": "markdown",
   "metadata": {},
   "source": [
    "Таким образом температура в основном зависит от проволочного материала, начальной температуры и полной мощности."
   ]
  }
 ],
 "metadata": {
  "ExecuteTimeLog": [
   {
    "duration": 603,
    "start_time": "2021-08-02T15:36:22.027Z"
   },
   {
    "duration": 190,
    "start_time": "2021-08-02T15:36:26.377Z"
   },
   {
    "duration": 15,
    "start_time": "2021-08-02T15:37:41.451Z"
   },
   {
    "duration": 23,
    "start_time": "2021-08-02T15:38:36.991Z"
   },
   {
    "duration": 21,
    "start_time": "2021-08-02T15:38:41.471Z"
   },
   {
    "duration": 15,
    "start_time": "2021-08-02T15:43:32.438Z"
   },
   {
    "duration": 4,
    "start_time": "2021-08-02T15:48:04.222Z"
   },
   {
    "duration": 18,
    "start_time": "2021-08-02T15:48:50.501Z"
   },
   {
    "duration": 19,
    "start_time": "2021-08-02T15:48:54.153Z"
   },
   {
    "duration": 7,
    "start_time": "2021-08-02T15:49:25.452Z"
   },
   {
    "duration": 5,
    "start_time": "2021-08-02T15:52:44.291Z"
   },
   {
    "duration": 244,
    "start_time": "2021-08-02T15:54:50.308Z"
   },
   {
    "duration": 1048,
    "start_time": "2021-08-02T15:55:31.919Z"
   },
   {
    "duration": 190,
    "start_time": "2021-08-02T15:55:32.969Z"
   },
   {
    "duration": 13,
    "start_time": "2021-08-02T15:55:33.161Z"
   },
   {
    "duration": 16,
    "start_time": "2021-08-02T15:55:33.176Z"
   },
   {
    "duration": 15,
    "start_time": "2021-08-02T15:55:33.194Z"
   },
   {
    "duration": 14,
    "start_time": "2021-08-02T15:55:33.210Z"
   },
   {
    "duration": 4,
    "start_time": "2021-08-02T15:55:33.225Z"
   },
   {
    "duration": 16,
    "start_time": "2021-08-02T15:55:33.230Z"
   },
   {
    "duration": 40,
    "start_time": "2021-08-02T15:55:33.248Z"
   },
   {
    "duration": 5,
    "start_time": "2021-08-02T15:55:33.290Z"
   },
   {
    "duration": 5,
    "start_time": "2021-08-02T15:55:33.296Z"
   },
   {
    "duration": 6,
    "start_time": "2021-08-02T15:55:33.303Z"
   },
   {
    "duration": 1074,
    "start_time": "2021-08-02T15:58:23.635Z"
   },
   {
    "duration": 194,
    "start_time": "2021-08-02T15:58:24.711Z"
   },
   {
    "duration": 14,
    "start_time": "2021-08-02T15:58:24.908Z"
   },
   {
    "duration": 17,
    "start_time": "2021-08-02T15:58:24.924Z"
   },
   {
    "duration": 25,
    "start_time": "2021-08-02T15:58:24.943Z"
   },
   {
    "duration": 16,
    "start_time": "2021-08-02T15:58:24.969Z"
   },
   {
    "duration": 21,
    "start_time": "2021-08-02T15:58:24.987Z"
   },
   {
    "duration": 20,
    "start_time": "2021-08-02T15:58:25.011Z"
   },
   {
    "duration": 21,
    "start_time": "2021-08-02T15:58:25.033Z"
   },
   {
    "duration": 4,
    "start_time": "2021-08-02T15:58:25.056Z"
   },
   {
    "duration": 19,
    "start_time": "2021-08-02T15:58:25.062Z"
   },
   {
    "duration": 15,
    "start_time": "2021-08-02T15:58:25.082Z"
   },
   {
    "duration": 1089,
    "start_time": "2021-08-02T16:03:15.798Z"
   },
   {
    "duration": 186,
    "start_time": "2021-08-02T16:03:16.889Z"
   },
   {
    "duration": 13,
    "start_time": "2021-08-02T16:03:17.077Z"
   },
   {
    "duration": 14,
    "start_time": "2021-08-02T16:03:17.091Z"
   },
   {
    "duration": 13,
    "start_time": "2021-08-02T16:03:17.107Z"
   },
   {
    "duration": 12,
    "start_time": "2021-08-02T16:03:17.122Z"
   },
   {
    "duration": 3,
    "start_time": "2021-08-02T16:03:17.135Z"
   },
   {
    "duration": 45,
    "start_time": "2021-08-02T16:03:17.140Z"
   },
   {
    "duration": 15,
    "start_time": "2021-08-02T16:03:17.186Z"
   },
   {
    "duration": 4,
    "start_time": "2021-08-02T16:03:17.203Z"
   },
   {
    "duration": 3,
    "start_time": "2021-08-02T16:03:17.209Z"
   },
   {
    "duration": 8,
    "start_time": "2021-08-02T16:03:17.214Z"
   },
   {
    "duration": 356966,
    "start_time": "2021-08-02T16:03:17.223Z"
   },
   {
    "duration": 1639,
    "start_time": "2021-08-03T07:14:10.379Z"
   },
   {
    "duration": 222,
    "start_time": "2021-08-03T07:14:12.021Z"
   },
   {
    "duration": 34,
    "start_time": "2021-08-03T07:15:57.877Z"
   },
   {
    "duration": 25,
    "start_time": "2021-08-03T07:15:58.042Z"
   },
   {
    "duration": 23,
    "start_time": "2021-08-03T07:15:59.089Z"
   },
   {
    "duration": 8521,
    "start_time": "2021-08-03T07:19:35.395Z"
   },
   {
    "duration": 5,
    "start_time": "2021-08-03T07:19:48.765Z"
   },
   {
    "duration": 228,
    "start_time": "2021-08-03T07:19:48.946Z"
   },
   {
    "duration": 20,
    "start_time": "2021-08-03T07:19:51.525Z"
   },
   {
    "duration": 23,
    "start_time": "2021-08-03T07:19:52.586Z"
   },
   {
    "duration": 25,
    "start_time": "2021-08-03T07:19:54.275Z"
   },
   {
    "duration": 20,
    "start_time": "2021-08-03T07:19:55.226Z"
   },
   {
    "duration": 5,
    "start_time": "2021-08-03T07:19:56.365Z"
   },
   {
    "duration": 23,
    "start_time": "2021-08-03T07:19:56.505Z"
   },
   {
    "duration": 25,
    "start_time": "2021-08-03T07:19:56.805Z"
   },
   {
    "duration": 8,
    "start_time": "2021-08-03T07:19:56.935Z"
   },
   {
    "duration": 13,
    "start_time": "2021-08-03T07:19:57.766Z"
   },
   {
    "duration": 11,
    "start_time": "2021-08-03T07:19:58.085Z"
   },
   {
    "duration": 576545,
    "start_time": "2021-08-03T07:19:59.066Z"
   },
   {
    "duration": 1060,
    "start_time": "2021-08-03T14:37:13.355Z"
   },
   {
    "duration": 222,
    "start_time": "2021-08-03T14:37:14.417Z"
   },
   {
    "duration": 13,
    "start_time": "2021-08-03T14:37:14.641Z"
   },
   {
    "duration": 15,
    "start_time": "2021-08-03T14:37:14.656Z"
   },
   {
    "duration": 14,
    "start_time": "2021-08-03T14:37:14.673Z"
   },
   {
    "duration": 12,
    "start_time": "2021-08-03T14:37:14.689Z"
   },
   {
    "duration": 3,
    "start_time": "2021-08-03T14:37:14.703Z"
   },
   {
    "duration": 20,
    "start_time": "2021-08-03T14:37:14.707Z"
   },
   {
    "duration": 14,
    "start_time": "2021-08-03T14:37:14.729Z"
   },
   {
    "duration": 4,
    "start_time": "2021-08-03T14:37:14.745Z"
   },
   {
    "duration": 3,
    "start_time": "2021-08-03T14:37:14.751Z"
   },
   {
    "duration": 34,
    "start_time": "2021-08-03T14:37:14.756Z"
   },
   {
    "duration": 360162,
    "start_time": "2021-08-03T14:37:14.792Z"
   },
   {
    "duration": 445,
    "start_time": "2021-08-03T14:43:14.956Z"
   }
  ],
  "kernelspec": {
   "display_name": "Python 3",
   "language": "python",
   "name": "python3"
  },
  "language_info": {
   "codemirror_mode": {
    "name": "ipython",
    "version": 3
   },
   "file_extension": ".py",
   "mimetype": "text/x-python",
   "name": "python",
   "nbconvert_exporter": "python",
   "pygments_lexer": "ipython3",
   "version": "3.7.8"
  },
  "toc": {
   "base_numbering": 1,
   "nav_menu": {},
   "number_sections": true,
   "sideBar": true,
   "skip_h1_title": true,
   "title_cell": "Table of Contents",
   "title_sidebar": "Contents",
   "toc_cell": false,
   "toc_position": {},
   "toc_section_display": true,
   "toc_window_display": false
  }
 },
 "nbformat": 4,
 "nbformat_minor": 2
}
