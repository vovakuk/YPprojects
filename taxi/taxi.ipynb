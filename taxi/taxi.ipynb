{
 "cells": [
  {
   "cell_type": "markdown",
   "metadata": {
    "toc": true
   },
   "source": [
    "<h1>Содержание<span class=\"tocSkip\"></span></h1>\n",
    "<div class=\"toc\"><ul class=\"toc-item\"><li><span><a href=\"#Подготовка\" data-toc-modified-id=\"Подготовка-1\"><span class=\"toc-item-num\">1&nbsp;&nbsp;</span>Подготовка</a></span></li><li><span><a href=\"#Анализ\" data-toc-modified-id=\"Анализ-2\"><span class=\"toc-item-num\">2&nbsp;&nbsp;</span>Анализ</a></span></li><li><span><a href=\"#Обучение\" data-toc-modified-id=\"Обучение-3\"><span class=\"toc-item-num\">3&nbsp;&nbsp;</span>Обучение</a></span></li><li><span><a href=\"#Тестирование\" data-toc-modified-id=\"Тестирование-4\"><span class=\"toc-item-num\">4&nbsp;&nbsp;</span>Тестирование</a></span></li><li><span><a href=\"#Чек-лист-проверки\" data-toc-modified-id=\"Чек-лист-проверки-5\"><span class=\"toc-item-num\">5&nbsp;&nbsp;</span>Чек-лист проверки</a></span></li></ul></div>"
   ]
  },
  {
   "cell_type": "markdown",
   "metadata": {},
   "source": [
    "#  Прогнозирование заказов такси"
   ]
  },
  {
   "cell_type": "markdown",
   "metadata": {},
   "source": [
    "Компания «Чётенькое такси» собрала исторические данные о заказах такси в аэропортах. Чтобы привлекать больше водителей в период пиковой нагрузки, нужно спрогнозировать количество заказов такси на следующий час. Постройте модель для такого предсказания.\n",
    "\n",
    "Значение метрики *RMSE* на тестовой выборке должно быть не больше 48.\n",
    "\n",
    "Вам нужно:\n",
    "\n",
    "1. Загрузить данные и выполнить их ресемплирование по одному часу.\n",
    "2. Проанализировать данные.\n",
    "3. Обучить разные модели с различными гиперпараметрами. Сделать тестовую выборку размером 10% от исходных данных.\n",
    "4. Проверить данные на тестовой выборке и сделать выводы.\n",
    "\n",
    "\n",
    "Данные лежат в файле `taxi.csv`. Количество заказов находится в столбце `num_orders` (от англ. *number of orders*, «число заказов»)."
   ]
  },
  {
   "cell_type": "markdown",
   "metadata": {},
   "source": [
    "## Подготовка"
   ]
  },
  {
   "cell_type": "code",
   "execution_count": 1,
   "metadata": {},
   "outputs": [],
   "source": [
    "import pandas as pd\n",
    "import numpy as np\n",
    "from sklearn.model_selection import train_test_split\n",
    "from sklearn.linear_model import LinearRegression\n",
    "from sklearn.tree import DecisionTreeRegressor\n",
    "from sklearn.ensemble import RandomForestRegressor\n",
    "from catboost import CatBoostRegressor \n",
    "import lightgbm as lgb\n",
    "import seaborn as sns\n",
    "from sklearn.metrics import mean_squared_error\n",
    "from statsmodels.tsa.seasonal import seasonal_decompose\n",
    "import matplotlib.pyplot as plt"
   ]
  },
  {
   "cell_type": "code",
   "execution_count": 2,
   "metadata": {},
   "outputs": [
    {
     "name": "stdout",
     "output_type": "stream",
     "text": [
      "                     num_orders\n",
      "datetime                       \n",
      "2018-03-01 00:00:00           9\n",
      "2018-03-01 00:10:00          14\n",
      "2018-03-01 00:20:00          28\n",
      "2018-03-01 00:30:00          20\n",
      "2018-03-01 00:40:00          32\n",
      "<class 'pandas.core.frame.DataFrame'>\n",
      "DatetimeIndex: 26496 entries, 2018-03-01 00:00:00 to 2018-08-31 23:50:00\n",
      "Data columns (total 1 columns):\n",
      "num_orders    26496 non-null int64\n",
      "dtypes: int64(1)\n",
      "memory usage: 414.0 KB\n",
      "num_orders    0\n",
      "dtype: int64\n"
     ]
    }
   ],
   "source": [
    "data = pd.read_csv('/datasets/taxi.csv', index_col = [0], parse_dates = [0])\n",
    "print(data.head(5))\n",
    "data.info()\n",
    "print(data.isnull().sum())\n"
   ]
  },
  {
   "cell_type": "markdown",
   "metadata": {},
   "source": [
    "Загрузили данные, колонку со временем сделали индексом, пропусков в данных нет, проверим на выбросы."
   ]
  },
  {
   "cell_type": "code",
   "execution_count": 3,
   "metadata": {},
   "outputs": [
    {
     "data": {
      "text/plain": [
       "Text(0, 0.5, 'Количество')"
      ]
     },
     "execution_count": 3,
     "metadata": {},
     "output_type": "execute_result"
    },
    {
     "data": {
      "image/png": "[encoded data removed]",
      "text/plain": [
       "<Figure size 864x432 with 2 Axes>"
      ]
     },
     "metadata": {
      "needs_background": "light"
     },
     "output_type": "display_data"
    }
   ],
   "source": [
    "fig, axes = plt.subplots(1, 2, figsize=(12, 6))\n",
    "\n",
    "axes[0].set_title('Orders num')\n",
    "sns.boxplot(y = 'num_orders', data=data, ax = axes[0])\n",
    "axes[0].set_xlabel('Количество')\n",
    "     \n",
    "axes[1].set_title('Orders num')\n",
    "sns.distplot(data['num_orders'], kde=False, bins=50, ax = axes[1])\n",
    "axes[1].set_ylabel('Количество')"
   ]
  },
  {
   "cell_type": "markdown",
   "metadata": {},
   "source": [
    "Будем считать, что выбросов нет. Сделаем ресемплирование данных по одному часу. "
   ]
  },
  {
   "cell_type": "code",
   "execution_count": 4,
   "metadata": {
    "scrolled": true
   },
   "outputs": [
    {
     "data": {
      "text/html": [
       "<div>\n",
       "<style scoped>\n",
       "    .dataframe tbody tr th:only-of-type {\n",
       "        vertical-align: middle;\n",
       "    }\n",
       "\n",
       "    .dataframe tbody tr th {\n",
       "        vertical-align: top;\n",
       "    }\n",
       "\n",
       "    .dataframe thead th {\n",
       "        text-align: right;\n",
       "    }\n",
       "</style>\n",
       "<table border=\"1\" class=\"dataframe\">\n",
       "  <thead>\n",
       "    <tr style=\"text-align: right;\">\n",
       "      <th></th>\n",
       "      <th>num_orders</th>\n",
       "    </tr>\n",
       "    <tr>\n",
       "      <th>datetime</th>\n",
       "      <th></th>\n",
       "    </tr>\n",
       "  </thead>\n",
       "  <tbody>\n",
       "    <tr>\n",
       "      <td>2018-03-01 00:00:00</td>\n",
       "      <td>124</td>\n",
       "    </tr>\n",
       "    <tr>\n",
       "      <td>2018-03-01 01:00:00</td>\n",
       "      <td>85</td>\n",
       "    </tr>\n",
       "    <tr>\n",
       "      <td>2018-03-01 02:00:00</td>\n",
       "      <td>71</td>\n",
       "    </tr>\n",
       "    <tr>\n",
       "      <td>2018-03-01 03:00:00</td>\n",
       "      <td>66</td>\n",
       "    </tr>\n",
       "    <tr>\n",
       "      <td>2018-03-01 04:00:00</td>\n",
       "      <td>43</td>\n",
       "    </tr>\n",
       "    <tr>\n",
       "      <td>...</td>\n",
       "      <td>...</td>\n",
       "    </tr>\n",
       "    <tr>\n",
       "      <td>2018-08-31 19:00:00</td>\n",
       "      <td>136</td>\n",
       "    </tr>\n",
       "    <tr>\n",
       "      <td>2018-08-31 20:00:00</td>\n",
       "      <td>154</td>\n",
       "    </tr>\n",
       "    <tr>\n",
       "      <td>2018-08-31 21:00:00</td>\n",
       "      <td>159</td>\n",
       "    </tr>\n",
       "    <tr>\n",
       "      <td>2018-08-31 22:00:00</td>\n",
       "      <td>223</td>\n",
       "    </tr>\n",
       "    <tr>\n",
       "      <td>2018-08-31 23:00:00</td>\n",
       "      <td>205</td>\n",
       "    </tr>\n",
       "  </tbody>\n",
       "</table>\n",
       "<p>4416 rows × 1 columns</p>\n",
       "</div>"
      ],
      "text/plain": [
       "                     num_orders\n",
       "datetime                       \n",
       "2018-03-01 00:00:00         124\n",
       "2018-03-01 01:00:00          85\n",
       "2018-03-01 02:00:00          71\n",
       "2018-03-01 03:00:00          66\n",
       "2018-03-01 04:00:00          43\n",
       "...                         ...\n",
       "2018-08-31 19:00:00         136\n",
       "2018-08-31 20:00:00         154\n",
       "2018-08-31 21:00:00         159\n",
       "2018-08-31 22:00:00         223\n",
       "2018-08-31 23:00:00         205\n",
       "\n",
       "[4416 rows x 1 columns]"
      ]
     },
     "execution_count": 4,
     "metadata": {},
     "output_type": "execute_result"
    }
   ],
   "source": [
    "data = data.resample('1H').sum()\n",
    "data"
   ]
  },
  {
   "cell_type": "markdown",
   "metadata": {},
   "source": [
    "ТАким образом получается 4416 строк с данными за 1 час."
   ]
  },
  {
   "cell_type": "markdown",
   "metadata": {},
   "source": [
    "## Анализ"
   ]
  },
  {
   "cell_type": "markdown",
   "metadata": {},
   "source": [
    "Рассмотрим тренд, выделим сезонность в данных."
   ]
  },
  {
   "cell_type": "code",
   "execution_count": 5,
   "metadata": {},
   "outputs": [
    {
     "data": {
      "image/png": "[encoded data removed]",
      "text/plain": [
       "<Figure size 432x576 with 3 Axes>"
      ]
     },
     "metadata": {
      "needs_background": "light"
     },
     "output_type": "display_data"
    }
   ],
   "source": [
    "decomposed = seasonal_decompose(data)\n",
    "trend = decomposed.trend\n",
    "seasonal = decomposed.seasonal\n",
    "residual = decomposed.resid\n",
    "plt.figure(figsize=(6, 8))\n",
    "plt.subplot(311)\n",
    "trend.plot(ax=plt.gca())\n",
    "plt.title('Trend')\n",
    "plt.subplot(312)\n",
    "seasonal.plot(ax=plt.gca())\n",
    "plt.title('Seasonality')\n",
    "plt.subplot(313)\n",
    "residual.plot(ax=plt.gca())\n",
    "plt.title('Residuals')\n",
    "plt.tight_layout()"
   ]
  },
  {
   "cell_type": "markdown",
   "metadata": {},
   "source": [
    "Сезонность скорее всего есть, но не на масштабе месяцев, скорее всего на масштабе суток. Выделим сезонность на масштабе 3 суток."
   ]
  },
  {
   "cell_type": "code",
   "execution_count": 6,
   "metadata": {},
   "outputs": [
    {
     "data": {
      "text/plain": [
       "Text(0.5, 1.0, 'Seasonality')"
      ]
     },
     "execution_count": 6,
     "metadata": {},
     "output_type": "execute_result"
    },
    {
     "data": {
      "image/png": "[encoded data removed]",
      "text/plain": [
       "<Figure size 432x288 with 1 Axes>"
      ]
     },
     "metadata": {
      "needs_background": "light"
     },
     "output_type": "display_data"
    }
   ],
   "source": [
    "decomposed.seasonal['2018-03-01':'2018-03-04'].plot(ax=plt.gca())\n",
    "plt.title('Seasonality')"
   ]
  },
  {
   "cell_type": "markdown",
   "metadata": {},
   "source": [
    "Рассмотрим подробнее сутки. Далее временной ряд опишем стохастическим процессом. Это случайная величина, у которой со временем меняется её распределение. У этой величины есть среднее и дисперсия, которые тоже меняются."
   ]
  },
  {
   "cell_type": "code",
   "execution_count": 7,
   "metadata": {},
   "outputs": [
    {
     "data": {
      "text/plain": [
       "<matplotlib.axes._subplots.AxesSubplot at 0x7ffb11c05d90>"
      ]
     },
     "execution_count": 7,
     "metadata": {},
     "output_type": "execute_result"
    },
    {
     "data": {
      "image/png": "[encoded data removed]",
      "text/plain": [
       "<Figure size 432x288 with 1 Axes>"
      ]
     },
     "metadata": {
      "needs_background": "light"
     },
     "output_type": "display_data"
    }
   ],
   "source": [
    "df = data.copy()\n",
    "df = df['2018-03':'2018-08'].resample('1D').sum()\n",
    "df['mean'] = df['num_orders'].rolling(15).mean()\n",
    "df['std'] = df['num_orders'].rolling(15).std()\n",
    "df.plot()"
   ]
  },
  {
   "cell_type": "markdown",
   "metadata": {},
   "source": [
    "Среднее значение меняется - ряд не стационарный, прогнозу не подлежит. Необходимо сделать стационарный, найдем разности значений ряда."
   ]
  },
  {
   "cell_type": "code",
   "execution_count": 8,
   "metadata": {},
   "outputs": [
    {
     "data": {
      "text/plain": [
       "<matplotlib.axes._subplots.AxesSubplot at 0x7ffb11b04990>"
      ]
     },
     "execution_count": 8,
     "metadata": {},
     "output_type": "execute_result"
    },
    {
     "data": {
      "image/png": "[encoded data removed]",
      "text/plain": [
       "<Figure size 432x288 with 1 Axes>"
      ]
     },
     "metadata": {
      "needs_background": "light"
     },
     "output_type": "display_data"
    }
   ],
   "source": [
    "\n",
    "df = data.copy()\n",
    "df = df['2018-03':'2018-08'].resample('1D').sum()\n",
    "df = df - df.shift()\n",
    "df['rolling_mean'] = df['num_orders'].rolling(10).mean()\n",
    "df['std'] = df['num_orders'].rolling(15).std()\n",
    "df.plot()"
   ]
  },
  {
   "cell_type": "markdown",
   "metadata": {},
   "source": [
    "Ряд стал стационарным - его можно прогнозировать."
   ]
  },
  {
   "cell_type": "markdown",
   "metadata": {},
   "source": [
    "## Обучение"
   ]
  },
  {
   "cell_type": "code",
   "execution_count": 62,
   "metadata": {},
   "outputs": [
    {
     "data": {
      "text/html": [
       "<div>\n",
       "<style scoped>\n",
       "    .dataframe tbody tr th:only-of-type {\n",
       "        vertical-align: middle;\n",
       "    }\n",
       "\n",
       "    .dataframe tbody tr th {\n",
       "        vertical-align: top;\n",
       "    }\n",
       "\n",
       "    .dataframe thead th {\n",
       "        text-align: right;\n",
       "    }\n",
       "</style>\n",
       "<table border=\"1\" class=\"dataframe\">\n",
       "  <thead>\n",
       "    <tr style=\"text-align: right;\">\n",
       "      <th></th>\n",
       "      <th>num_orders</th>\n",
       "      <th>year</th>\n",
       "      <th>month</th>\n",
       "      <th>day</th>\n",
       "      <th>dayofweek</th>\n",
       "      <th>hour</th>\n",
       "      <th>lag_1</th>\n",
       "      <th>lag_2</th>\n",
       "      <th>rolling_mean</th>\n",
       "      <th>lag_3</th>\n",
       "    </tr>\n",
       "    <tr>\n",
       "      <th>datetime</th>\n",
       "      <th></th>\n",
       "      <th></th>\n",
       "      <th></th>\n",
       "      <th></th>\n",
       "      <th></th>\n",
       "      <th></th>\n",
       "      <th></th>\n",
       "      <th></th>\n",
       "      <th></th>\n",
       "      <th></th>\n",
       "    </tr>\n",
       "  </thead>\n",
       "  <tbody>\n",
       "    <tr>\n",
       "      <td>2018-03-01 00:00:00</td>\n",
       "      <td>124</td>\n",
       "      <td>2018</td>\n",
       "      <td>3</td>\n",
       "      <td>1</td>\n",
       "      <td>3</td>\n",
       "      <td>0</td>\n",
       "      <td>NaN</td>\n",
       "      <td>NaN</td>\n",
       "      <td>NaN</td>\n",
       "      <td>NaN</td>\n",
       "    </tr>\n",
       "    <tr>\n",
       "      <td>2018-03-01 01:00:00</td>\n",
       "      <td>85</td>\n",
       "      <td>2018</td>\n",
       "      <td>3</td>\n",
       "      <td>1</td>\n",
       "      <td>3</td>\n",
       "      <td>1</td>\n",
       "      <td>124.0</td>\n",
       "      <td>NaN</td>\n",
       "      <td>NaN</td>\n",
       "      <td>NaN</td>\n",
       "    </tr>\n",
       "    <tr>\n",
       "      <td>2018-03-01 02:00:00</td>\n",
       "      <td>71</td>\n",
       "      <td>2018</td>\n",
       "      <td>3</td>\n",
       "      <td>1</td>\n",
       "      <td>3</td>\n",
       "      <td>2</td>\n",
       "      <td>85.0</td>\n",
       "      <td>124.0</td>\n",
       "      <td>NaN</td>\n",
       "      <td>NaN</td>\n",
       "    </tr>\n",
       "    <tr>\n",
       "      <td>2018-03-01 03:00:00</td>\n",
       "      <td>66</td>\n",
       "      <td>2018</td>\n",
       "      <td>3</td>\n",
       "      <td>1</td>\n",
       "      <td>3</td>\n",
       "      <td>3</td>\n",
       "      <td>71.0</td>\n",
       "      <td>85.0</td>\n",
       "      <td>93.333333</td>\n",
       "      <td>124.0</td>\n",
       "    </tr>\n",
       "    <tr>\n",
       "      <td>2018-03-01 04:00:00</td>\n",
       "      <td>43</td>\n",
       "      <td>2018</td>\n",
       "      <td>3</td>\n",
       "      <td>1</td>\n",
       "      <td>3</td>\n",
       "      <td>4</td>\n",
       "      <td>66.0</td>\n",
       "      <td>71.0</td>\n",
       "      <td>74.000000</td>\n",
       "      <td>85.0</td>\n",
       "    </tr>\n",
       "  </tbody>\n",
       "</table>\n",
       "</div>"
      ],
      "text/plain": [
       "                     num_orders  year  month  day  dayofweek  hour  lag_1  \\\n",
       "datetime                                                                    \n",
       "2018-03-01 00:00:00         124  2018      3    1          3     0    NaN   \n",
       "2018-03-01 01:00:00          85  2018      3    1          3     1  124.0   \n",
       "2018-03-01 02:00:00          71  2018      3    1          3     2   85.0   \n",
       "2018-03-01 03:00:00          66  2018      3    1          3     3   71.0   \n",
       "2018-03-01 04:00:00          43  2018      3    1          3     4   66.0   \n",
       "\n",
       "                     lag_2  rolling_mean  lag_3  \n",
       "datetime                                         \n",
       "2018-03-01 00:00:00    NaN           NaN    NaN  \n",
       "2018-03-01 01:00:00    NaN           NaN    NaN  \n",
       "2018-03-01 02:00:00  124.0           NaN    NaN  \n",
       "2018-03-01 03:00:00   85.0     93.333333  124.0  \n",
       "2018-03-01 04:00:00   71.0     74.000000   85.0  "
      ]
     },
     "execution_count": 62,
     "metadata": {},
     "output_type": "execute_result"
    }
   ],
   "source": [
    "data.head()"
   ]
  },
  {
   "cell_type": "code",
   "execution_count": 63,
   "metadata": {},
   "outputs": [],
   "source": [
    "#  функция для создания признаков\n",
    "def make_features(data, max_lag, rolling_mean_size):\n",
    "    data['day'] = data.index.day\n",
    "    data['dayofweek'] = data.index.dayofweek\n",
    "    data['hour'] = data.index.hour\n",
    "    \n",
    "    for lag in range(1, max_lag + 1):\n",
    "        data['lag_{}'.format(lag)] = data['num_orders'].shift(lag)\n",
    "\n",
    "    data['rolling_mean'] = data['num_orders'].shift().rolling(rolling_mean_size).mean()"
   ]
  },
  {
   "cell_type": "code",
   "execution_count": 64,
   "metadata": {},
   "outputs": [],
   "source": [
    "# применим функцию к таблице, максимальный размер отставания примем равным 2\n",
    "make_features(data, 2, 3)"
   ]
  },
  {
   "cell_type": "code",
   "execution_count": 65,
   "metadata": {},
   "outputs": [],
   "source": [
    "\n",
    "# разделим данные на тестовую и тренировочную выборки в соотношении 80:10:10\n",
    "train_valid, test = train_test_split(data, shuffle=False, test_size=0.1)\n",
    "train, valid = train_test_split(train_valid, shuffle=False, test_size=0.1)\n",
    "train = train.dropna()\n",
    "train_valid = train_valid.dropna()"
   ]
  },
  {
   "cell_type": "code",
   "execution_count": 66,
   "metadata": {},
   "outputs": [],
   "source": [
    "\n",
    "# выделим признаки и целевой признак\n",
    "train_y = train['num_orders']\n",
    "test_y = test['num_orders']\n",
    "valid_y = valid['num_orders']\n",
    "train_valid_y = train_valid['num_orders']\n",
    "\n",
    "train_x = train.drop('num_orders', axis=1)\n",
    "test_x = test.drop('num_orders', axis=1)\n",
    "valid_x = valid.drop('num_orders', axis=1)\n",
    "train_valid_x = train_valid.drop('num_orders', axis=1)"
   ]
  },
  {
   "cell_type": "code",
   "execution_count": 67,
   "metadata": {},
   "outputs": [
    {
     "data": {
      "text/plain": [
       "40.9295373621272"
      ]
     },
     "execution_count": 67,
     "metadata": {},
     "output_type": "execute_result"
    }
   ],
   "source": [
    "# обучим модель линейной регрессии\n",
    "model_LR = LinearRegression()\n",
    "model_LR.fit(train_x, train_y)\n",
    "pred_valid_LR = model_LR.predict(valid_x)\n",
    "mean_squared_error(valid_y, pred_valid_LR)**0.5"
   ]
  },
  {
   "cell_type": "code",
   "execution_count": 68,
   "metadata": {},
   "outputs": [
    {
     "name": "stdout",
     "output_type": "stream",
     "text": [
      "CPU times: user 1min 26s, sys: 11.1 s, total: 1min 37s\n",
      "Wall time: 3min 26s\n"
     ]
    },
    {
     "data": {
      "text/html": [
       "<div>\n",
       "<style scoped>\n",
       "    .dataframe tbody tr th:only-of-type {\n",
       "        vertical-align: middle;\n",
       "    }\n",
       "\n",
       "    .dataframe tbody tr th {\n",
       "        vertical-align: top;\n",
       "    }\n",
       "\n",
       "    .dataframe thead th {\n",
       "        text-align: right;\n",
       "    }\n",
       "</style>\n",
       "<table border=\"1\" class=\"dataframe\">\n",
       "  <thead>\n",
       "    <tr style=\"text-align: right;\">\n",
       "      <th></th>\n",
       "      <th>iteration</th>\n",
       "      <th>depth</th>\n",
       "      <th>learning_rate</th>\n",
       "      <th>rMSE</th>\n",
       "    </tr>\n",
       "  </thead>\n",
       "  <tbody>\n",
       "    <tr>\n",
       "      <td>33</td>\n",
       "      <td>50.0</td>\n",
       "      <td>3.0</td>\n",
       "      <td>0.6</td>\n",
       "      <td>32.678625</td>\n",
       "    </tr>\n",
       "    <tr>\n",
       "      <td>43</td>\n",
       "      <td>60.0</td>\n",
       "      <td>3.0</td>\n",
       "      <td>0.6</td>\n",
       "      <td>32.831698</td>\n",
       "    </tr>\n",
       "    <tr>\n",
       "      <td>53</td>\n",
       "      <td>70.0</td>\n",
       "      <td>3.0</td>\n",
       "      <td>0.6</td>\n",
       "      <td>33.005700</td>\n",
       "    </tr>\n",
       "    <tr>\n",
       "      <td>86</td>\n",
       "      <td>100.0</td>\n",
       "      <td>7.0</td>\n",
       "      <td>0.1</td>\n",
       "      <td>33.102950</td>\n",
       "    </tr>\n",
       "    <tr>\n",
       "      <td>23</td>\n",
       "      <td>40.0</td>\n",
       "      <td>3.0</td>\n",
       "      <td>0.6</td>\n",
       "      <td>33.123873</td>\n",
       "    </tr>\n",
       "  </tbody>\n",
       "</table>\n",
       "</div>"
      ],
      "text/plain": [
       "    iteration  depth  learning_rate       rMSE\n",
       "33       50.0    3.0            0.6  32.678625\n",
       "43       60.0    3.0            0.6  32.831698\n",
       "53       70.0    3.0            0.6  33.005700\n",
       "86      100.0    7.0            0.1  33.102950\n",
       "23       40.0    3.0            0.6  33.123873"
      ]
     },
     "execution_count": 68,
     "metadata": {},
     "output_type": "execute_result"
    }
   ],
   "source": [
    "%%time\n",
    "# обучим основываясь на библиотеке CatBoost\n",
    "i = 0\n",
    "result = pd.DataFrame(columns=['iteration','depth', 'learning_rate', 'rMSE'])\n",
    "for iteration in range(20, 101, 10):\n",
    "     for depth in range(1, 10, 2): \n",
    "        for learning_rate in np.arange(0.1, 1, 0.5):\n",
    "            model = CatBoostRegressor(loss_function='RMSE', iterations=iteration , depth=depth, learning_rate=learning_rate)\n",
    "            model.fit(train_x, train_y, verbose=False)\n",
    "            pred_valid = model.predict(valid_x)\n",
    "            result.loc[i] = [iteration, depth, learning_rate, mean_squared_error(valid_y, pred_valid)**0.5]\n",
    "            i += 1\n",
    "result.sort_values('rMSE').head(5)"
   ]
  },
  {
   "cell_type": "code",
   "execution_count": 69,
   "metadata": {},
   "outputs": [
    {
     "name": "stdout",
     "output_type": "stream",
     "text": [
      "CPU times: user 16.7 s, sys: 2.76 s, total: 19.5 s\n",
      "Wall time: 20.7 s\n"
     ]
    },
    {
     "data": {
      "text/plain": [
       "32.83715413987433"
      ]
     },
     "execution_count": 69,
     "metadata": {},
     "output_type": "execute_result"
    }
   ],
   "source": [
    "%%time\n",
    "# Обучим модель CatBoost с параметрами  по умолчанию\n",
    "model_cb = CatBoostRegressor(loss_function='RMSE')\n",
    "model_cb.fit(train_x, train_y, verbose=False)\n",
    "pred_valid_CB = model_cb.predict(valid_x)\n",
    "mean_squared_error(valid_y, pred_valid_CB)**0.5"
   ]
  },
  {
   "cell_type": "markdown",
   "metadata": {},
   "source": [
    "Проведя обучение моделей и проверив на валидационой выборке можно отобрать для тестирования как показавшию наибольшее качество модель CatBoost со значениями по умолчанию, модель случайного леса с несколько более худшим результатом и параметрами количеством деревьев равным 100 и глубиной 9. На третей позиции модель линейной регрессии. При этом все модели на валидационой выборке показали результат rMSE менее 48"
   ]
  },
  {
   "cell_type": "code",
   "execution_count": null,
   "metadata": {},
   "outputs": [],
   "source": []
  },
  {
   "cell_type": "markdown",
   "metadata": {},
   "source": [
    "## Тестирование"
   ]
  },
  {
   "cell_type": "markdown",
   "metadata": {},
   "source": [
    "\n",
    "Проведем тестирование на отобранных моделях. Обучим на датасете train+valid"
   ]
  },
  {
   "cell_type": "code",
   "execution_count": 70,
   "metadata": {},
   "outputs": [],
   "source": [
    "# обучим модель линейной регрессии\n",
    "model_LR = LinearRegression()\n",
    "model_LR.fit(train_valid_x, train_valid_y)\n",
    "pred_test_LR = model_LR.predict(test_x)"
   ]
  },
  {
   "cell_type": "code",
   "execution_count": 71,
   "metadata": {},
   "outputs": [],
   "source": [
    "# обучим модель на оптимальных гиперпараметрах\n",
    "model_RFR = RandomForestRegressor(random_state=123, n_estimators=100, max_depth=9)\n",
    "model_RFR.fit(train_valid_x, train_valid_y)\n",
    "pred_test_RFR = model_RFR.predict(test_x)"
   ]
  },
  {
   "cell_type": "code",
   "execution_count": 72,
   "metadata": {},
   "outputs": [
    {
     "name": "stdout",
     "output_type": "stream",
     "text": [
      "CPU times: user 15.7 s, sys: 2.29 s, total: 18 s\n",
      "Wall time: 19.2 s\n"
     ]
    }
   ],
   "source": [
    "%%time\n",
    "# Обучим модель с параметрами  по умолчанию\n",
    "model_cb = CatBoostRegressor(loss_function='RMSE')\n",
    "model_cb.fit(train_valid_x, train_valid_y, verbose=False)\n",
    "pred_test_CB = model_cb.predict(test_x)"
   ]
  },
  {
   "cell_type": "code",
   "execution_count": 73,
   "metadata": {},
   "outputs": [
    {
     "name": "stdout",
     "output_type": "stream",
     "text": [
      "rMSE тестовой выборки на линейной регрессии:  52.42749680095463\n",
      "rMSE тестовой выборки на случайном лесе:  50.76156158836391\n",
      "rMSE тестовой выборки на CatBoost:  45.17823789997516\n"
     ]
    }
   ],
   "source": [
    "print(\"rMSE тестовой выборки на линейной регрессии: \", mean_squared_error(test_y, pred_test_LR)**0.5)\n",
    "print(\"rMSE тестовой выборки на случайном лесе: \", mean_squared_error(test_y, pred_test_RFR)**0.5)\n",
    "print(\"rMSE тестовой выборки на CatBoost: \", mean_squared_error(test_y, pred_test_CB)**0.5)"
   ]
  },
  {
   "cell_type": "markdown",
   "metadata": {},
   "source": [
    "Наилучший результат на тестовой выборке показала модель обученная на CatBoost с результатом rMSE равным 45.17. Модель превысила пороговое значение 48 случайного леса имеет результат rMSE равным 50.76. А модель линейной регресии тоже превысила установленое ограничение  и имеет результат rMSE равным 52.42"
   ]
  }
 ],
 "metadata": {
  "ExecuteTimeLog": [
   {
    "duration": 1649,
    "start_time": "2021-06-11T11:44:21.982Z"
   },
   {
    "duration": 58,
    "start_time": "2021-06-11T11:44:50.240Z"
   },
   {
    "duration": 54,
    "start_time": "2021-06-11T11:46:46.421Z"
   },
   {
    "duration": 71,
    "start_time": "2021-06-11T11:48:09.984Z"
   },
   {
    "duration": 473,
    "start_time": "2021-06-11T11:49:06.620Z"
   },
   {
    "duration": 62,
    "start_time": "2021-06-11T11:49:35.408Z"
   },
   {
    "duration": 791,
    "start_time": "2021-06-11T11:51:09.665Z"
   },
   {
    "duration": 44,
    "start_time": "2021-06-11T11:51:24.207Z"
   },
   {
    "duration": 66,
    "start_time": "2021-06-11T11:51:24.800Z"
   },
   {
    "duration": 699,
    "start_time": "2021-06-11T11:51:25.877Z"
   },
   {
    "duration": 50,
    "start_time": "2021-06-11T11:54:50.553Z"
   },
   {
    "duration": 66,
    "start_time": "2021-06-11T11:55:19.589Z"
   },
   {
    "duration": 105,
    "start_time": "2021-06-11T12:00:31.304Z"
   },
   {
    "duration": 30,
    "start_time": "2021-06-11T12:00:39.431Z"
   },
   {
    "duration": 24,
    "start_time": "2021-06-11T12:07:25.328Z"
   },
   {
    "duration": 1569,
    "start_time": "2021-06-11T12:19:39.209Z"
   },
   {
    "duration": 76,
    "start_time": "2021-06-11T12:19:42.833Z"
   },
   {
    "duration": 921,
    "start_time": "2021-06-11T12:19:44.469Z"
   },
   {
    "duration": 22,
    "start_time": "2021-06-11T12:19:47.210Z"
   },
   {
    "duration": 11,
    "start_time": "2021-06-11T12:20:56.959Z"
   },
   {
    "duration": 1198,
    "start_time": "2021-06-11T12:39:17.980Z"
   },
   {
    "duration": 2149,
    "start_time": "2021-06-11T12:39:40.250Z"
   },
   {
    "duration": 429,
    "start_time": "2021-06-11T12:44:31.792Z"
   },
   {
    "duration": 289,
    "start_time": "2021-06-11T12:44:42.123Z"
   },
   {
    "duration": 322,
    "start_time": "2021-06-15T13:35:28.879Z"
   },
   {
    "duration": 1555,
    "start_time": "2021-06-15T13:35:39.960Z"
   },
   {
    "duration": 57,
    "start_time": "2021-06-15T13:35:41.518Z"
   },
   {
    "duration": 662,
    "start_time": "2021-06-15T13:35:41.578Z"
   },
   {
    "duration": 22,
    "start_time": "2021-06-15T13:35:42.243Z"
   },
   {
    "duration": 1612,
    "start_time": "2021-06-15T13:35:42.267Z"
   },
   {
    "duration": 302,
    "start_time": "2021-06-15T13:35:43.884Z"
   },
   {
    "duration": 467,
    "start_time": "2021-06-15T13:35:44.188Z"
   },
   {
    "duration": 451,
    "start_time": "2021-06-15T13:36:22.988Z"
   },
   {
    "duration": 7,
    "start_time": "2021-06-15T14:12:25.296Z"
   },
   {
    "duration": 6,
    "start_time": "2021-06-15T14:15:20.786Z"
   },
   {
    "duration": 16,
    "start_time": "2021-06-15T15:03:55.948Z"
   },
   {
    "duration": 15,
    "start_time": "2021-06-15T15:04:02.512Z"
   },
   {
    "duration": 11,
    "start_time": "2021-06-15T15:04:03.340Z"
   },
   {
    "duration": 14,
    "start_time": "2021-06-15T15:04:03.980Z"
   },
   {
    "duration": 205034,
    "start_time": "2021-06-15T15:08:45.637Z"
   },
   {
    "duration": 19943,
    "start_time": "2021-06-15T15:18:14.140Z"
   },
   {
    "duration": 1215,
    "start_time": "2021-06-16T15:15:19.965Z"
   },
   {
    "duration": 46,
    "start_time": "2021-06-16T15:15:21.182Z"
   },
   {
    "duration": 435,
    "start_time": "2021-06-16T15:15:21.230Z"
   },
   {
    "duration": 24,
    "start_time": "2021-06-16T15:15:21.666Z"
   },
   {
    "duration": 1089,
    "start_time": "2021-06-16T15:15:21.691Z"
   },
   {
    "duration": 189,
    "start_time": "2021-06-16T15:15:22.782Z"
   },
   {
    "duration": 317,
    "start_time": "2021-06-16T15:15:22.973Z"
   },
   {
    "duration": 310,
    "start_time": "2021-06-16T15:15:23.292Z"
   },
   {
    "duration": 4,
    "start_time": "2021-06-16T15:15:23.604Z"
   },
   {
    "duration": 5,
    "start_time": "2021-06-16T15:15:23.610Z"
   },
   {
    "duration": 15,
    "start_time": "2021-06-16T15:15:23.616Z"
   },
   {
    "duration": 10,
    "start_time": "2021-06-16T15:15:23.633Z"
   },
   {
    "duration": 7,
    "start_time": "2021-06-16T15:15:23.644Z"
   },
   {
    "duration": 37,
    "start_time": "2021-06-16T15:15:23.652Z"
   },
   {
    "duration": 142652,
    "start_time": "2021-06-16T15:15:23.690Z"
   },
   {
    "duration": 14588,
    "start_time": "2021-06-16T15:17:46.344Z"
   },
   {
    "duration": 6,
    "start_time": "2021-06-16T15:18:00.934Z"
   },
   {
    "duration": 808,
    "start_time": "2021-06-16T15:18:00.942Z"
   },
   {
    "duration": 14855,
    "start_time": "2021-06-16T15:18:01.752Z"
   },
   {
    "duration": 5,
    "start_time": "2021-06-16T15:18:16.609Z"
   },
   {
    "duration": 1509,
    "start_time": "2021-06-17T16:16:28.440Z"
   },
   {
    "duration": 56,
    "start_time": "2021-06-17T16:16:29.952Z"
   },
   {
    "duration": 654,
    "start_time": "2021-06-17T16:16:30.012Z"
   },
   {
    "duration": 34,
    "start_time": "2021-06-17T16:16:30.669Z"
   },
   {
    "duration": 1708,
    "start_time": "2021-06-17T16:16:30.705Z"
   },
   {
    "duration": 310,
    "start_time": "2021-06-17T16:16:32.416Z"
   },
   {
    "duration": 489,
    "start_time": "2021-06-17T16:16:32.728Z"
   },
   {
    "duration": 484,
    "start_time": "2021-06-17T16:16:33.220Z"
   },
   {
    "duration": 6,
    "start_time": "2021-06-17T16:16:33.706Z"
   },
   {
    "duration": 7,
    "start_time": "2021-06-17T16:16:33.715Z"
   },
   {
    "duration": 21,
    "start_time": "2021-06-17T16:16:33.724Z"
   },
   {
    "duration": 14,
    "start_time": "2021-06-17T16:16:33.748Z"
   },
   {
    "duration": 41,
    "start_time": "2021-06-17T16:16:33.764Z"
   },
   {
    "duration": 15,
    "start_time": "2021-06-17T16:16:33.807Z"
   },
   {
    "duration": 194349,
    "start_time": "2021-06-17T16:16:33.824Z"
   },
   {
    "duration": 19912,
    "start_time": "2021-06-17T16:19:48.175Z"
   },
   {
    "duration": 8,
    "start_time": "2021-06-17T16:20:08.089Z"
   },
   {
    "duration": 1004,
    "start_time": "2021-06-17T16:20:08.099Z"
   },
   {
    "duration": 19014,
    "start_time": "2021-06-17T16:20:09.105Z"
   },
   {
    "duration": 8,
    "start_time": "2021-06-17T16:20:28.122Z"
   },
   {
    "duration": 23,
    "start_time": "2021-06-17T16:26:24.711Z"
   },
   {
    "duration": 15,
    "start_time": "2021-06-17T16:26:34.874Z"
   },
   {
    "duration": 1584,
    "start_time": "2021-06-17T18:30:32.538Z"
   },
   {
    "duration": 57,
    "start_time": "2021-06-17T18:30:34.124Z"
   },
   {
    "duration": 674,
    "start_time": "2021-06-17T18:30:34.184Z"
   },
   {
    "duration": 22,
    "start_time": "2021-06-17T18:30:34.861Z"
   },
   {
    "duration": 1632,
    "start_time": "2021-06-17T18:30:34.886Z"
   },
   {
    "duration": 301,
    "start_time": "2021-06-17T18:30:36.521Z"
   },
   {
    "duration": 486,
    "start_time": "2021-06-17T18:30:36.825Z"
   },
   {
    "duration": 503,
    "start_time": "2021-06-17T18:30:37.314Z"
   },
   {
    "duration": 10,
    "start_time": "2021-06-17T18:30:37.820Z"
   },
   {
    "duration": 23,
    "start_time": "2021-06-17T18:30:37.833Z"
   },
   {
    "duration": 32,
    "start_time": "2021-06-17T18:30:37.859Z"
   },
   {
    "duration": 15,
    "start_time": "2021-06-17T18:30:37.893Z"
   },
   {
    "duration": 11,
    "start_time": "2021-06-17T18:30:37.910Z"
   },
   {
    "duration": 33,
    "start_time": "2021-06-17T18:30:37.923Z"
   },
   {
    "duration": 198693,
    "start_time": "2021-06-17T18:30:37.958Z"
   },
   {
    "duration": 21090,
    "start_time": "2021-06-17T18:33:56.654Z"
   },
   {
    "duration": 8,
    "start_time": "2021-06-17T18:34:17.747Z"
   },
   {
    "duration": 1012,
    "start_time": "2021-06-17T18:34:17.757Z"
   },
   {
    "duration": 19103,
    "start_time": "2021-06-17T18:34:18.771Z"
   },
   {
    "duration": 7,
    "start_time": "2021-06-17T18:34:37.876Z"
   },
   {
    "duration": 1544,
    "start_time": "2021-06-17T18:38:35.073Z"
   },
   {
    "duration": 59,
    "start_time": "2021-06-17T18:38:36.620Z"
   },
   {
    "duration": 716,
    "start_time": "2021-06-17T18:38:36.688Z"
   },
   {
    "duration": 25,
    "start_time": "2021-06-17T18:38:37.407Z"
   },
   {
    "duration": 1683,
    "start_time": "2021-06-17T18:38:37.454Z"
   },
   {
    "duration": 329,
    "start_time": "2021-06-17T18:38:39.140Z"
   },
   {
    "duration": 560,
    "start_time": "2021-06-17T18:38:39.474Z"
   },
   {
    "duration": 517,
    "start_time": "2021-06-17T18:38:40.037Z"
   },
   {
    "duration": 10,
    "start_time": "2021-06-17T18:38:40.557Z"
   },
   {
    "duration": 6,
    "start_time": "2021-06-17T18:38:40.569Z"
   },
   {
    "duration": 19,
    "start_time": "2021-06-17T18:38:40.578Z"
   },
   {
    "duration": 16,
    "start_time": "2021-06-17T18:38:40.599Z"
   },
   {
    "duration": 44,
    "start_time": "2021-06-17T18:38:40.617Z"
   },
   {
    "duration": 13,
    "start_time": "2021-06-17T18:38:40.663Z"
   },
   {
    "duration": 198146,
    "start_time": "2021-06-17T18:38:40.679Z"
   },
   {
    "duration": 18335,
    "start_time": "2021-06-17T18:41:58.827Z"
   },
   {
    "duration": 8,
    "start_time": "2021-06-17T18:42:17.165Z"
   },
   {
    "duration": 1045,
    "start_time": "2021-06-17T18:42:17.176Z"
   },
   {
    "duration": 18810,
    "start_time": "2021-06-17T18:42:18.223Z"
   },
   {
    "duration": 7,
    "start_time": "2021-06-17T18:42:37.036Z"
   },
   {
    "duration": 11,
    "start_time": "2021-06-17T19:11:03.243Z"
   },
   {
    "duration": 18,
    "start_time": "2021-06-17T19:11:04.553Z"
   },
   {
    "duration": 10,
    "start_time": "2021-06-17T19:11:06.063Z"
   },
   {
    "duration": 11,
    "start_time": "2021-06-17T19:11:06.894Z"
   },
   {
    "duration": 196472,
    "start_time": "2021-06-17T19:11:12.032Z"
   },
   {
    "duration": 18460,
    "start_time": "2021-06-17T19:14:28.507Z"
   },
   {
    "duration": 10,
    "start_time": "2021-06-17T19:14:46.971Z"
   },
   {
    "duration": 991,
    "start_time": "2021-06-17T19:14:46.983Z"
   },
   {
    "duration": 17831,
    "start_time": "2021-06-17T19:14:47.976Z"
   },
   {
    "duration": 8,
    "start_time": "2021-06-17T19:15:05.810Z"
   },
   {
    "duration": 12,
    "start_time": "2021-06-17T19:15:47.112Z"
   },
   {
    "duration": 11,
    "start_time": "2021-06-17T19:15:52.062Z"
   },
   {
    "duration": 16,
    "start_time": "2021-06-17T19:15:52.522Z"
   },
   {
    "duration": 11,
    "start_time": "2021-06-17T19:15:53.122Z"
   },
   {
    "duration": 11,
    "start_time": "2021-06-17T19:15:53.619Z"
   },
   {
    "duration": 208461,
    "start_time": "2021-06-17T19:15:58.769Z"
   },
   {
    "duration": 20122,
    "start_time": "2021-06-17T19:19:27.233Z"
   },
   {
    "duration": 7,
    "start_time": "2021-06-17T19:19:47.359Z"
   },
   {
    "duration": 1151,
    "start_time": "2021-06-17T19:19:47.369Z"
   },
   {
    "duration": 27649,
    "start_time": "2021-06-17T19:19:48.522Z"
   },
   {
    "duration": 7,
    "start_time": "2021-06-17T19:20:16.173Z"
   },
   {
    "duration": 19,
    "start_time": "2021-06-17T19:20:52.543Z"
   },
   {
    "duration": 19,
    "start_time": "2021-06-17T19:20:54.882Z"
   },
   {
    "duration": 21,
    "start_time": "2021-06-17T19:20:54.904Z"
   },
   {
    "duration": 14,
    "start_time": "2021-06-17T19:20:54.929Z"
   },
   {
    "duration": 240163,
    "start_time": "2021-06-17T19:20:54.946Z"
   },
   {
    "duration": 18205,
    "start_time": "2021-06-17T19:24:55.112Z"
   },
   {
    "duration": 8,
    "start_time": "2021-06-17T19:25:13.319Z"
   },
   {
    "duration": 1144,
    "start_time": "2021-06-17T19:25:13.330Z"
   },
   {
    "duration": 19587,
    "start_time": "2021-06-17T19:25:14.477Z"
   },
   {
    "duration": 8,
    "start_time": "2021-06-17T19:25:34.068Z"
   },
   {
    "duration": 11,
    "start_time": "2021-06-17T19:33:15.232Z"
   },
   {
    "duration": 16,
    "start_time": "2021-06-17T19:33:15.246Z"
   },
   {
    "duration": 11,
    "start_time": "2021-06-17T19:33:15.265Z"
   },
   {
    "duration": 17,
    "start_time": "2021-06-17T19:33:15.279Z"
   },
   {
    "duration": 205905,
    "start_time": "2021-06-17T19:33:15.298Z"
   },
   {
    "duration": 18702,
    "start_time": "2021-06-17T19:36:41.205Z"
   },
   {
    "duration": 8,
    "start_time": "2021-06-17T19:36:59.909Z"
   },
   {
    "duration": 1173,
    "start_time": "2021-06-17T19:36:59.919Z"
   },
   {
    "duration": 19164,
    "start_time": "2021-06-17T19:37:01.096Z"
   },
   {
    "duration": 7,
    "start_time": "2021-06-17T19:37:20.263Z"
   },
   {
    "duration": 17,
    "start_time": "2021-06-17T19:40:03.612Z"
   },
   {
    "duration": 5,
    "start_time": "2021-06-17T19:40:04.401Z"
   },
   {
    "duration": 9,
    "start_time": "2021-06-17T19:40:06.370Z"
   },
   {
    "duration": 16,
    "start_time": "2021-06-17T19:40:07.200Z"
   },
   {
    "duration": 11,
    "start_time": "2021-06-17T19:40:08.753Z"
   },
   {
    "duration": 11,
    "start_time": "2021-06-17T19:40:09.520Z"
   },
   {
    "duration": 206672,
    "start_time": "2021-06-17T19:40:10.969Z"
   },
   {
    "duration": 20744,
    "start_time": "2021-06-17T19:43:37.644Z"
   },
   {
    "duration": 8,
    "start_time": "2021-06-17T19:43:58.391Z"
   },
   {
    "duration": 1179,
    "start_time": "2021-06-17T19:43:58.402Z"
   },
   {
    "duration": 19190,
    "start_time": "2021-06-17T19:43:59.584Z"
   },
   {
    "duration": 9,
    "start_time": "2021-06-17T19:44:18.777Z"
   }
  ],
  "kernelspec": {
   "display_name": "Python 3",
   "language": "python",
   "name": "python3"
  },
  "language_info": {
   "codemirror_mode": {
    "name": "ipython",
    "version": 3
   },
   "file_extension": ".py",
   "mimetype": "text/x-python",
   "name": "python",
   "nbconvert_exporter": "python",
   "pygments_lexer": "ipython3",
   "version": "3.7.8"
  },
  "toc": {
   "base_numbering": 1,
   "nav_menu": {},
   "number_sections": true,
   "sideBar": true,
   "skip_h1_title": true,
   "title_cell": "Содержание",
   "title_sidebar": "Contents",
   "toc_cell": true,
   "toc_position": {},
   "toc_section_display": true,
   "toc_window_display": false
  }
 },
 "nbformat": 4,
 "nbformat_minor": 2
}
