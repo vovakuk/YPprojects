{
 "cells": [
  {
   "cell_type": "markdown",
   "metadata": {},
   "source": [
    "## Исследование надёжности заёмщиков\n",
    "\n",
    "Заказчик — кредитный отдел банка. Нужно разобраться, влияет ли семейное положение и количество детей клиента на факт погашения кредита в срок. Входные данные от банка — статистика о платёжеспособности клиентов.\n",
    "\n",
    "Результаты исследования будут учтены при построении модели **кредитного скоринга** — специальной системы, которая оценивает способность потенциального заёмщика вернуть кредит банку."
   ]
  },
  {
   "cell_type": "markdown",
   "metadata": {},
   "source": [
    "### Шаг 1. Откройте файл с данными и изучите общую информацию. "
   ]
  },
  {
   "cell_type": "code",
   "execution_count": 1,
   "metadata": {},
   "outputs": [
    {
     "name": "stdout",
     "output_type": "stream",
     "text": [
      "<class 'pandas.core.frame.DataFrame'>\n",
      "RangeIndex: 21525 entries, 0 to 21524\n",
      "Data columns (total 12 columns):\n",
      "children            21525 non-null int64\n",
      "days_employed       19351 non-null float64\n",
      "dob_years           21525 non-null int64\n",
      "education           21525 non-null object\n",
      "education_id        21525 non-null int64\n",
      "family_status       21525 non-null object\n",
      "family_status_id    21525 non-null int64\n",
      "gender              21525 non-null object\n",
      "income_type         21525 non-null object\n",
      "debt                21525 non-null int64\n",
      "total_income        19351 non-null float64\n",
      "purpose             21525 non-null object\n",
      "dtypes: float64(2), int64(5), object(5)\n",
      "memory usage: 2.0+ MB\n",
      "   children  days_employed  dob_years education  education_id  \\\n",
      "0         1   -8437.673028         42    высшее             0   \n",
      "1         1   -4024.803754         36   среднее             1   \n",
      "2         0   -5623.422610         33   Среднее             1   \n",
      "3         3   -4124.747207         32   среднее             1   \n",
      "4         0  340266.072047         53   среднее             1   \n",
      "5         0    -926.185831         27    высшее             0   \n",
      "6         0   -2879.202052         43    высшее             0   \n",
      "7         0    -152.779569         50   СРЕДНЕЕ             1   \n",
      "8         2   -6929.865299         35    ВЫСШЕЕ             0   \n",
      "9         0   -2188.756445         41   среднее             1   \n",
      "\n",
      "      family_status  family_status_id gender income_type  debt   total_income  \\\n",
      "0   женат / замужем                 0      F   сотрудник     0  253875.639453   \n",
      "1   женат / замужем                 0      F   сотрудник     0  112080.014102   \n",
      "2   женат / замужем                 0      M   сотрудник     0  145885.952297   \n",
      "3   женат / замужем                 0      M   сотрудник     0  267628.550329   \n",
      "4  гражданский брак                 1      F   пенсионер     0  158616.077870   \n",
      "5  гражданский брак                 1      M   компаньон     0  255763.565419   \n",
      "6   женат / замужем                 0      F   компаньон     0  240525.971920   \n",
      "7   женат / замужем                 0      M   сотрудник     0  135823.934197   \n",
      "8  гражданский брак                 1      F   сотрудник     0   95856.832424   \n",
      "9   женат / замужем                 0      M   сотрудник     0  144425.938277   \n",
      "\n",
      "                      purpose  \n",
      "0               покупка жилья  \n",
      "1     приобретение автомобиля  \n",
      "2               покупка жилья  \n",
      "3  дополнительное образование  \n",
      "4             сыграть свадьбу  \n",
      "5               покупка жилья  \n",
      "6           операции с жильем  \n",
      "7                 образование  \n",
      "8       на проведение свадьбы  \n",
      "9     покупка жилья для семьи  \n"
     ]
    }
   ],
   "source": [
    "import pandas as pd\n",
    "from pymystem3 import Mystem\n",
    "data = pd.read_csv('/datasets/data.csv')\n",
    "data.info()\n",
    "print(data.head(10))"
   ]
  },
  {
   "cell_type": "markdown",
   "metadata": {},
   "source": [
    "### Вывод"
   ]
  },
  {
   "cell_type": "markdown",
   "metadata": {},
   "source": [
    "Различается количество ненулевых данных в столбцах. Стаж в днях имеет тип вещественного числа, он отрицательный. Регистр в столбце об образовании тоже скачет. Данные о браке, цели с одним смыслом записаны по разному. Данные требуют обработки пропусков и изменения типа данных на соответствующий. "
   ]
  },
  {
   "cell_type": "markdown",
   "metadata": {},
   "source": [
    "### Шаг 2. Предобработка данных"
   ]
  },
  {
   "cell_type": "markdown",
   "metadata": {},
   "source": [
    "### Обработка пропусков"
   ]
  },
  {
   "cell_type": "markdown",
   "metadata": {},
   "source": [
    "Первый столбец с пропусками - это столбец со стажем. Прежде чем, к нему приходить, убедимся, что в столбце с количеством детей стоят адекватные значения."
   ]
  },
  {
   "cell_type": "code",
   "execution_count": 2,
   "metadata": {},
   "outputs": [
    {
     "name": "stdout",
     "output_type": "stream",
     "text": [
      " 0     14149\n",
      " 1      4818\n",
      " 2      2055\n",
      " 3       330\n",
      " 20       76\n",
      "-1        47\n",
      " 4        41\n",
      " 5         9\n",
      "Name: children, dtype: int64\n"
     ]
    }
   ],
   "source": [
    "print(data['children'].value_counts())\n"
   ]
  },
  {
   "cell_type": "markdown",
   "metadata": {},
   "source": [
    "0, 1, 2 и 3 выглядят репрезентативно, но 20 и -1 явно выбиваются. Далее стоят 4 и 5, тоже выглядят репрезентативно. -1 могло взяться из-за неверного сбора данных из анкет с тире, где указано, например \"Количество детей - 1\". Значений 20 еще больше. Может быть стоит отнести их к значению 0. Возможная причина появления - ввод на островной клавиатуре, где для клавиши 0, 2  - единственная соседняя цифра."
   ]
  },
  {
   "cell_type": "code",
   "execution_count": 3,
   "metadata": {},
   "outputs": [
    {
     "name": "stdout",
     "output_type": "stream",
     "text": [
      "0    14225\n",
      "1     4865\n",
      "2     2055\n",
      "3      330\n",
      "4       41\n",
      "5        9\n",
      "Name: children, dtype: int64\n"
     ]
    }
   ],
   "source": [
    "data.loc[data['children'] == -1, 'children'] = 1\n",
    "data.loc[data['children'] == 20, 'children'] = 0\n",
    "print(data['children'].value_counts())\n",
    "\n",
    "\n"
   ]
  },
  {
   "cell_type": "markdown",
   "metadata": {},
   "source": [
    "Это больше похоже на реальность. Перейдем к стажу. Разберемся с отрицательным стажем."
   ]
  },
  {
   "cell_type": "code",
   "execution_count": 4,
   "metadata": {},
   "outputs": [
    {
     "name": "stdout",
     "output_type": "stream",
     "text": [
      "15906\n"
     ]
    }
   ],
   "source": [
    "print(data[data['days_employed'] <= 0]['days_employed'].count())"
   ]
  },
  {
   "cell_type": "markdown",
   "metadata": {},
   "source": [
    "15906 клиентов с отрицательным стажем. Пусть он станет положительным."
   ]
  },
  {
   "cell_type": "code",
   "execution_count": 5,
   "metadata": {},
   "outputs": [
    {
     "name": "stdout",
     "output_type": "stream",
     "text": [
      "0\n"
     ]
    }
   ],
   "source": [
    "data.loc[data['days_employed'] < 0, 'days_employed'] = -data.loc[:, 'days_employed']\n",
    "print(data[data['days_employed'] < 0]['days_employed'].count())"
   ]
  },
  {
   "cell_type": "markdown",
   "metadata": {},
   "source": [
    "Теперь у нас 0 клиентов с отрицательным рабочим стажем, но мы помним, что стаж в днях у нас все еще вещественного типа.\n",
    "Разберемся с пропусками в стаже и доходе. "
   ]
  },
  {
   "cell_type": "code",
   "execution_count": 6,
   "metadata": {},
   "outputs": [
    {
     "name": "stdout",
     "output_type": "stream",
     "text": [
      "children               0\n",
      "days_employed       2174\n",
      "dob_years              0\n",
      "education              0\n",
      "education_id           0\n",
      "family_status          0\n",
      "family_status_id       0\n",
      "gender                 0\n",
      "income_type            0\n",
      "debt                   0\n",
      "total_income        2174\n",
      "purpose                0\n",
      "dtype: int64\n"
     ]
    }
   ],
   "source": [
    "print(data.isna().sum())"
   ]
  },
  {
   "cell_type": "markdown",
   "metadata": {},
   "source": [
    "2174 клиента не имеют данных о стаже и доходе, вряд ли они безработные, если речь идет о кредитных клиентах. Это количественные переменные, которые точно ненулевые, поэтому я заменю их на характерные. "
   ]
  },
  {
   "cell_type": "code",
   "execution_count": 7,
   "metadata": {},
   "outputs": [
    {
     "name": "stdout",
     "output_type": "stream",
     "text": [
      "Средний доход 167422.30\n",
      "Медиана дохода 145017.94\n",
      "Средний стаж 66914.73\n",
      "Медиана стажа 2194.22\n"
     ]
    }
   ],
   "source": [
    "print('Средний доход {:.2f}'.format(data['total_income'].mean()))\n",
    "print('Медиана дохода {:.2f}'.format(data['total_income'].median()))\n",
    "print('Средний стаж {:.2f}'.format(data['days_employed'].mean()))\n",
    "print('Медиана стажа {:.2f}'.format(data['days_employed'].median()))"
   ]
  },
  {
   "cell_type": "markdown",
   "metadata": {},
   "source": [
    "Среднее дохода и стажа(!) выше медианы - распределение смещено вправо, логичнее доход будет заменить медианным значением. "
   ]
  },
  {
   "cell_type": "code",
   "execution_count": 8,
   "metadata": {},
   "outputs": [
    {
     "name": "stdout",
     "output_type": "stream",
     "text": [
      "<class 'pandas.core.frame.DataFrame'>\n",
      "RangeIndex: 21525 entries, 0 to 21524\n",
      "Data columns (total 12 columns):\n",
      "children            21525 non-null int64\n",
      "days_employed       21525 non-null float64\n",
      "dob_years           21525 non-null int64\n",
      "education           21525 non-null object\n",
      "education_id        21525 non-null int64\n",
      "family_status       21525 non-null object\n",
      "family_status_id    21525 non-null int64\n",
      "gender              21525 non-null object\n",
      "income_type         21525 non-null object\n",
      "debt                21525 non-null int64\n",
      "total_income        21525 non-null float64\n",
      "purpose             21525 non-null object\n",
      "dtypes: float64(2), int64(5), object(5)\n",
      "memory usage: 2.0+ MB\n"
     ]
    }
   ],
   "source": [
    "income_median = data['total_income'].median()\n",
    "data['total_income'] = data['total_income'].fillna(value = income_median)\n",
    "days_median = data['days_employed'].median()\n",
    "data['days_employed'] = data['days_employed'].fillna(value = days_median)\n",
    "data.info()\n"
   ]
  },
  {
   "cell_type": "markdown",
   "metadata": {},
   "source": [
    "Идем далее - возраст клиентов."
   ]
  },
  {
   "cell_type": "code",
   "execution_count": 9,
   "metadata": {
    "scrolled": true
   },
   "outputs": [
    {
     "name": "stdout",
     "output_type": "stream",
     "text": [
      "35    617\n",
      "40    609\n",
      "41    607\n",
      "34    603\n",
      "38    598\n",
      "42    597\n",
      "33    581\n",
      "39    573\n",
      "31    560\n",
      "36    555\n",
      "44    547\n",
      "29    545\n",
      "30    540\n",
      "48    538\n",
      "37    537\n",
      "50    514\n",
      "43    513\n",
      "32    510\n",
      "49    508\n",
      "28    503\n",
      "45    497\n",
      "27    493\n",
      "56    487\n",
      "52    484\n",
      "47    480\n",
      "54    479\n",
      "46    475\n",
      "58    461\n",
      "57    460\n",
      "53    459\n",
      "51    448\n",
      "59    444\n",
      "55    443\n",
      "26    408\n",
      "60    377\n",
      "25    357\n",
      "61    355\n",
      "62    352\n",
      "63    269\n",
      "64    265\n",
      "24    264\n",
      "23    254\n",
      "65    194\n",
      "66    183\n",
      "22    183\n",
      "67    167\n",
      "21    111\n",
      "0     101\n",
      "68     99\n",
      "69     85\n",
      "70     65\n",
      "71     58\n",
      "20     51\n",
      "72     33\n",
      "19     14\n",
      "73      8\n",
      "74      6\n",
      "75      1\n",
      "Name: dob_years, dtype: int64\n"
     ]
    }
   ],
   "source": [
    "print(data['dob_years'].value_counts())"
   ]
  },
  {
   "cell_type": "markdown",
   "metadata": {},
   "source": [
    "101 клиент с возрастом 0 - тоже можно заменить на средний. При этом оставить целочисленным"
   ]
  },
  {
   "cell_type": "code",
   "execution_count": 10,
   "metadata": {
    "scrolled": true
   },
   "outputs": [
    {
     "name": "stdout",
     "output_type": "stream",
     "text": [
      "35.00000    617\n",
      "40.00000    609\n",
      "41.00000    607\n",
      "34.00000    603\n",
      "38.00000    598\n",
      "42.00000    597\n",
      "33.00000    581\n",
      "39.00000    573\n",
      "31.00000    560\n",
      "36.00000    555\n",
      "44.00000    547\n",
      "29.00000    545\n",
      "30.00000    540\n",
      "48.00000    538\n",
      "37.00000    537\n",
      "50.00000    514\n",
      "43.00000    513\n",
      "32.00000    510\n",
      "49.00000    508\n",
      "28.00000    503\n",
      "45.00000    497\n",
      "27.00000    493\n",
      "56.00000    487\n",
      "52.00000    484\n",
      "47.00000    480\n",
      "54.00000    479\n",
      "46.00000    475\n",
      "58.00000    461\n",
      "57.00000    460\n",
      "53.00000    459\n",
      "51.00000    448\n",
      "59.00000    444\n",
      "55.00000    443\n",
      "26.00000    408\n",
      "60.00000    377\n",
      "25.00000    357\n",
      "61.00000    355\n",
      "62.00000    352\n",
      "63.00000    269\n",
      "64.00000    265\n",
      "24.00000    264\n",
      "23.00000    254\n",
      "65.00000    194\n",
      "66.00000    183\n",
      "22.00000    183\n",
      "67.00000    167\n",
      "21.00000    111\n",
      "43.29338    101\n",
      "68.00000     99\n",
      "69.00000     85\n",
      "70.00000     65\n",
      "71.00000     58\n",
      "20.00000     51\n",
      "72.00000     33\n",
      "19.00000     14\n",
      "73.00000      8\n",
      "74.00000      6\n",
      "75.00000      1\n",
      "Name: dob_years, dtype: int64\n"
     ]
    }
   ],
   "source": [
    "age_mean = data['dob_years'].mean()\n",
    "data.loc[data['dob_years'] == 0 , 'dob_years'] = age_mean\n",
    "print(data['dob_years'].value_counts())\n"
   ]
  },
  {
   "cell_type": "markdown",
   "metadata": {},
   "source": [
    "Тип очевидно стал float, заменим на int позже. Далее образование."
   ]
  },
  {
   "cell_type": "code",
   "execution_count": 11,
   "metadata": {},
   "outputs": [
    {
     "name": "stdout",
     "output_type": "stream",
     "text": [
      "среднее                13750\n",
      "высшее                  4718\n",
      "СРЕДНЕЕ                  772\n",
      "Среднее                  711\n",
      "неоконченное высшее      668\n",
      "ВЫСШЕЕ                   274\n",
      "Высшее                   268\n",
      "начальное                250\n",
      "Неоконченное высшее       47\n",
      "НЕОКОНЧЕННОЕ ВЫСШЕЕ       29\n",
      "НАЧАЛЬНОЕ                 17\n",
      "Начальное                 15\n",
      "ученая степень             4\n",
      "Ученая степень             1\n",
      "УЧЕНАЯ СТЕПЕНЬ             1\n",
      "Name: education, dtype: int64\n"
     ]
    }
   ],
   "source": [
    "print(data['education'].value_counts())\n"
   ]
  },
  {
   "cell_type": "markdown",
   "metadata": {},
   "source": [
    "Так, переведем все в нижний регистр."
   ]
  },
  {
   "cell_type": "code",
   "execution_count": 12,
   "metadata": {},
   "outputs": [
    {
     "name": "stdout",
     "output_type": "stream",
     "text": [
      "среднее                15233\n",
      "высшее                  5260\n",
      "неоконченное высшее      744\n",
      "начальное                282\n",
      "ученая степень             6\n",
      "Name: education, dtype: int64\n",
      "1    15233\n",
      "0     5260\n",
      "2      744\n",
      "3      282\n",
      "4        6\n",
      "Name: education_id, dtype: int64\n"
     ]
    }
   ],
   "source": [
    "data['education'] = data['education'].str.lower()\n",
    "print(data['education'].value_counts())\n",
    "print(data['education_id'].value_counts())"
   ]
  },
  {
   "cell_type": "markdown",
   "metadata": {},
   "source": [
    "Отлично, тут все ок. Переходим к семейному положению."
   ]
  },
  {
   "cell_type": "code",
   "execution_count": 13,
   "metadata": {
    "scrolled": false
   },
   "outputs": [
    {
     "name": "stdout",
     "output_type": "stream",
     "text": [
      "женат / замужем          12380\n",
      "гражданский брак          4177\n",
      "Не женат / не замужем     2813\n",
      "в разводе                 1195\n",
      "вдовец / вдова             960\n",
      "Name: family_status, dtype: int64\n",
      "0    12380\n",
      "1     4177\n",
      "4     2813\n",
      "3     1195\n",
      "2      960\n",
      "Name: family_status_id, dtype: int64\n"
     ]
    }
   ],
   "source": [
    "print(data['family_status'].value_counts())\n",
    "print(data['family_status_id'].value_counts())"
   ]
  },
  {
   "cell_type": "markdown",
   "metadata": {},
   "source": [
    "Все ок. Посмотрим на половую принадлежность."
   ]
  },
  {
   "cell_type": "code",
   "execution_count": 14,
   "metadata": {},
   "outputs": [
    {
     "name": "stdout",
     "output_type": "stream",
     "text": [
      "F      14236\n",
      "M       7288\n",
      "XNA        1\n",
      "Name: gender, dtype: int64\n"
     ]
    }
   ],
   "source": [
    "print(data['gender'].value_counts())"
   ]
  },
  {
   "cell_type": "markdown",
   "metadata": {},
   "source": [
    "Одно значение точно стоит выбросить."
   ]
  },
  {
   "cell_type": "code",
   "execution_count": 15,
   "metadata": {},
   "outputs": [
    {
     "name": "stdout",
     "output_type": "stream",
     "text": [
      "F    14236\n",
      "M     7288\n",
      "Name: gender, dtype: int64\n"
     ]
    }
   ],
   "source": [
    "data = data[data['gender'] != 'XNA']\n",
    "print(data['gender'].value_counts())"
   ]
  },
  {
   "cell_type": "markdown",
   "metadata": {},
   "source": [
    "### Вывод"
   ]
  },
  {
   "cell_type": "markdown",
   "metadata": {},
   "source": [
    "В процессе работы выявились некоторые недостатки в системе сбора данных, которые приводят к пропускам или нехарактерным значениям. Если сбор данных производится в электронном виде, то во многих столбцах стоило бы не предоставлять клиенту самому записывать данные в строку, а выбирать из заранее приготовленного списка. Это сделает данные единообразными."
   ]
  },
  {
   "cell_type": "markdown",
   "metadata": {},
   "source": [
    "### Замена типа данных"
   ]
  },
  {
   "cell_type": "markdown",
   "metadata": {},
   "source": [
    "Заменим тип данных для дней стажа - они должны быть целочисленными. Заменим их методом astype, он позволит нам сделать их int'ми."
   ]
  },
  {
   "cell_type": "code",
   "execution_count": 16,
   "metadata": {},
   "outputs": [
    {
     "name": "stdout",
     "output_type": "stream",
     "text": [
      "<class 'pandas.core.frame.DataFrame'>\n",
      "Int64Index: 21524 entries, 0 to 21524\n",
      "Data columns (total 12 columns):\n",
      "children            21524 non-null int64\n",
      "days_employed       21524 non-null int64\n",
      "dob_years           21524 non-null int64\n",
      "education           21524 non-null object\n",
      "education_id        21524 non-null int64\n",
      "family_status       21524 non-null object\n",
      "family_status_id    21524 non-null int64\n",
      "gender              21524 non-null object\n",
      "income_type         21524 non-null object\n",
      "debt                21524 non-null int64\n",
      "total_income        21524 non-null float64\n",
      "purpose             21524 non-null object\n",
      "dtypes: float64(1), int64(6), object(5)\n",
      "memory usage: 2.1+ MB\n"
     ]
    }
   ],
   "source": [
    "\n",
    "data['days_employed']=data['days_employed'].astype('int')\n",
    "data['dob_years']=data['dob_years'].astype('int')\n",
    "data.info()"
   ]
  },
  {
   "cell_type": "markdown",
   "metadata": {},
   "source": [
    "### Вывод"
   ]
  },
  {
   "cell_type": "markdown",
   "metadata": {},
   "source": [
    "Теперь типы данных соответствуют."
   ]
  },
  {
   "cell_type": "markdown",
   "metadata": {},
   "source": [
    "### Обработка дубликатов"
   ]
  },
  {
   "cell_type": "markdown",
   "metadata": {},
   "source": [
    "Посмотрим есть ли дубликаты и сколько их"
   ]
  },
  {
   "cell_type": "code",
   "execution_count": 17,
   "metadata": {},
   "outputs": [
    {
     "name": "stdout",
     "output_type": "stream",
     "text": [
      "71\n"
     ]
    }
   ],
   "source": [
    "print(data.duplicated().sum())"
   ]
  },
  {
   "cell_type": "markdown",
   "metadata": {},
   "source": [
    "71 дубликат, причем если проверить датасет на дубликаты сразу после открытия, то их будет 54. Появились они после работы с типами данных и регистром, возможно анкета или кредитная заявка отправлялась человеком несколько раз, и каждый раз он писал по-разному, так и занеслось в базу. Мы можем удалить полные дубликаты методом drop_duplicates."
   ]
  },
  {
   "cell_type": "code",
   "execution_count": 18,
   "metadata": {},
   "outputs": [
    {
     "name": "stdout",
     "output_type": "stream",
     "text": [
      "0\n"
     ]
    }
   ],
   "source": [
    "data = data.drop_duplicates().reset_index(drop = True)\n",
    "print(data.duplicated().sum())"
   ]
  },
  {
   "cell_type": "markdown",
   "metadata": {},
   "source": [
    "### Вывод"
   ]
  },
  {
   "cell_type": "markdown",
   "metadata": {},
   "source": [
    "Теперь полные дубликаты в начальной таблице удалены, но посмотрим, что будет если лемматезировать столбец с целью."
   ]
  },
  {
   "cell_type": "markdown",
   "metadata": {},
   "source": [
    "### Лемматизация"
   ]
  },
  {
   "cell_type": "markdown",
   "metadata": {},
   "source": [
    "Напишем функцию с истользованием Pymystem, которая обнаруживает в лемматизированной строке нужное нам слово и оставляет только его. Жилье и недвижимость объединим в одну категорию. Применим эту функцию к столбцу 'purpose'. Потом проверим на дубликаты, так как тут от вариации формулировки они тоже могут появиться."
   ]
  },
  {
   "cell_type": "code",
   "execution_count": 19,
   "metadata": {},
   "outputs": [
    {
     "name": "stdout",
     "output_type": "stream",
     "text": [
      "жилье          10810\n",
      "автомобиль      4306\n",
      "образование     4013\n",
      "свадьба         2324\n",
      "Name: purpose, dtype: int64\n",
      "339\n"
     ]
    }
   ],
   "source": [
    "m=Mystem()\n",
    "def lemma(goal):\n",
    "    lemmas = m.lemmatize(goal)\n",
    "    if \"свадьба\" in lemmas:\n",
    "        return \"свадьба\"\n",
    "    elif \"образование\" in lemmas:\n",
    "        return \"образование\"\n",
    "    elif \"жилье\" in lemmas or 'недвижимость' in lemmas:\n",
    "        return \"жилье\"\n",
    "    elif \"автомобиль\" in lemmas:\n",
    "        return \"автомобиль\"\n",
    "    return 'no'\n",
    "data['purpose'] = data['purpose'].apply(lemma)\n",
    "\n",
    "print(data['purpose'].value_counts())\n",
    "print(data.duplicated().sum())"
   ]
  },
  {
   "cell_type": "markdown",
   "metadata": {},
   "source": [
    "339 дубликатов появилось исключительно из-за разницы формулировки. Возможно, человек брал несколько кредитов под одну цель и каждый раз писал в анкете по-разному. Тем не менее мы их удалим."
   ]
  },
  {
   "cell_type": "code",
   "execution_count": 20,
   "metadata": {},
   "outputs": [
    {
     "name": "stdout",
     "output_type": "stream",
     "text": [
      "0\n"
     ]
    }
   ],
   "source": [
    "data = data.drop_duplicates().reset_index(drop = True)\n",
    "print(data.duplicated().sum())"
   ]
  },
  {
   "cell_type": "markdown",
   "metadata": {},
   "source": [
    "### Вывод"
   ]
  },
  {
   "cell_type": "markdown",
   "metadata": {},
   "source": [
    "Кредиты на жилье - самые популярные. Много дублиатов вскрывается при лемматизации."
   ]
  },
  {
   "cell_type": "markdown",
   "metadata": {},
   "source": [
    "### Категоризация данных"
   ]
  },
  {
   "cell_type": "markdown",
   "metadata": {},
   "source": [
    "Нас спрашивают про уровень дохода в итоговых вопросах. Поэтому стоит категоризировать клиентов по доходам. У нас нет валюты или страны, где работает банк. Поэтому придется работать с категориями дохода типа \"низкий\", \"средний\",\"выше среднего\", \"высокий\". Сделаем это по квантилям с шагом 0.25."
   ]
  },
  {
   "cell_type": "code",
   "execution_count": 21,
   "metadata": {},
   "outputs": [],
   "source": [
    "\n",
    "def set_income(income):\n",
    "    if income < data['total_income'].quantile(q=0.25):\n",
    "        return \"низкий\"\n",
    "    elif  data['total_income'].quantile(q=0.25) < income < data['total_income'].quantile(q=0.5):\n",
    "        return \"средний\"\n",
    "    elif data['total_income'].quantile(q=0.5) < income < data['total_income'].quantile(q=0.75):\n",
    "        return \"выше среднего\"\n",
    "    return \"высокий\"\n",
    "data['income_q'] = data['total_income'].apply(set_income)"
   ]
  },
  {
   "cell_type": "markdown",
   "metadata": {},
   "source": [
    "### Вывод"
   ]
  },
  {
   "cell_type": "markdown",
   "metadata": {},
   "source": [
    "Отлично, теперь мы сможем ответить на вопросы, касающиеся уровня дохода."
   ]
  },
  {
   "cell_type": "markdown",
   "metadata": {},
   "source": [
    "### Шаг 3. Ответьте на вопросы"
   ]
  },
  {
   "cell_type": "markdown",
   "metadata": {},
   "source": [
    "- Есть ли зависимость между наличием детей и возвратом кредита в срок?\n",
    "Сгруппируем данные и узнаем процентное соотношение количество клиентов, имевших задолженности по разным группам."
   ]
  },
  {
   "cell_type": "code",
   "execution_count": 22,
   "metadata": {
    "scrolled": true
   },
   "outputs": [
    {
     "name": "stdout",
     "output_type": "stream",
     "text": [
      "children\n",
      "0     7.690647\n",
      "1     9.276631\n",
      "2     9.514468\n",
      "3     8.206687\n",
      "4    10.000000\n",
      "5     0.000000\n",
      "Name: debt, dtype: float64\n",
      "0    13900\n",
      "1     4797\n",
      "2     2039\n",
      "3      329\n",
      "4       40\n",
      "5        9\n",
      "Name: children, dtype: int64\n"
     ]
    }
   ],
   "source": [
    "print(data.groupby('children')['debt'].sum()/data.groupby('children')['debt'].count()*100)\n",
    "print(data['children'].value_counts())"
   ]
  },
  {
   "cell_type": "markdown",
   "metadata": {},
   "source": [
    "### Вывод"
   ]
  },
  {
   "cell_type": "markdown",
   "metadata": {},
   "source": [
    "При болшем количестве детей выше доля должников, но для клиентов с 3, 4 и 5 детьми это не действует. Однако количество таких клиентов существенно меньше, что делает эти данные нерепрезентативными. Но эти клиенты должны приниматься во внимание, возможно другие данные показали бы бОльшу потенциальну опасность."
   ]
  },
  {
   "cell_type": "markdown",
   "metadata": {},
   "source": [
    "- Есть ли зависимость между семейным положением и возвратом кредита в срок?"
   ]
  },
  {
   "cell_type": "code",
   "execution_count": 23,
   "metadata": {},
   "outputs": [
    {
     "name": "stdout",
     "output_type": "stream",
     "text": [
      "family_status\n",
      "Не женат / не замужем    9.841954\n",
      "в разводе                7.124895\n",
      "вдовец / вдова           6.687898\n",
      "гражданский брак         9.412906\n",
      "женат / замужем          7.694856\n",
      "Name: debt, dtype: float64\n"
     ]
    }
   ],
   "source": [
    "print(data.groupby('family_status')['debt'].sum()/data.groupby('family_status')['debt'].count()*100)"
   ]
  },
  {
   "cell_type": "markdown",
   "metadata": {},
   "source": [
    "### Вывод"
   ]
  },
  {
   "cell_type": "markdown",
   "metadata": {},
   "source": [
    "Однозначно можно выделить высокий по сравнению с остальными уровень выплат в срок у людей, кто был в браке. Это группы \"в разводе\" и \"вдовец / вдова\". Можно предположить, что люди более сознательно подходят к кредитным обязательствам в случае потери партнера. Самый высокий уровень невыплат у не женатых и пар в гражданском браке. Для этих групп граница достаточно размытая. Такие клиенты отвечая на вопрос о семейном положении могут указать любую из этих двух категорий. Хотя высокий уровеень невыплат сохраняется в обоих группах, возможно из-за неготовности принять на себя ответственнойсть как в семейной жизни, так и в финансовой."
   ]
  },
  {
   "cell_type": "markdown",
   "metadata": {},
   "source": [
    "- Есть ли зависимость между уровнем дохода и возвратом кредита в срок?"
   ]
  },
  {
   "cell_type": "code",
   "execution_count": 24,
   "metadata": {},
   "outputs": [
    {
     "name": "stdout",
     "output_type": "stream",
     "text": [
      "income_q\n",
      "высокий          7.722885\n",
      "выше среднего    8.896473\n",
      "низкий           7.880280\n",
      "средний          8.826206\n",
      "Name: debt, dtype: float64\n"
     ]
    }
   ],
   "source": [
    "print(data.groupby('income_q')['debt'].sum()/data.groupby('income_q')['debt'].count()*100)"
   ]
  },
  {
   "cell_type": "markdown",
   "metadata": {},
   "source": [
    "### Вывод"
   ]
  },
  {
   "cell_type": "markdown",
   "metadata": {},
   "source": [
    "На первый взгляд зависимости между уровнем дохода и возвратом кредита в срок нет."
   ]
  },
  {
   "cell_type": "markdown",
   "metadata": {},
   "source": [
    "- Как разные цели кредита влияют на его возврат в срок?"
   ]
  },
  {
   "cell_type": "code",
   "execution_count": 25,
   "metadata": {},
   "outputs": [
    {
     "name": "stdout",
     "output_type": "stream",
     "text": [
      "purpose\n",
      "автомобиль     9.410112\n",
      "жилье          7.387439\n",
      "образование    9.334006\n",
      "свадьба        8.065915\n",
      "Name: debt, dtype: float64\n"
     ]
    }
   ],
   "source": [
    "print(data.groupby('purpose')['debt'].sum()/data.groupby('purpose')['debt'].count()*100)"
   ]
  },
  {
   "cell_type": "markdown",
   "metadata": {},
   "source": [
    "### Вывод"
   ]
  },
  {
   "cell_type": "markdown",
   "metadata": {},
   "source": [
    "Если кредит на жилье, то у него самая высокая вероятность выплаты. Это происходит из-за крайней необходимости продукта. Если человек его не выплатит - он рискует остаться без крыши над головой. Самые невыплачиваемые кредиты - на автомобиль и на образование. От этих продуктов легко отказаться и не выплатить кредит. Можно разбить автомобиль и решить, что и не за чем платить кредит. Если клиент не тянет образование или решает \"забить\" на образование, то тоже может решить не платить. Информация о размерах таких кредитов дала бы больше информации."
   ]
  },
  {
   "cell_type": "markdown",
   "metadata": {},
   "source": [
    "### Шаг 4. Общий вывод"
   ]
  },
  {
   "cell_type": "markdown",
   "metadata": {},
   "source": [
    "Наиболее важными показателями для скоринговой модели станут цель кредита и семейное положение - они наиболее репрезентативно оценивают ответственность клиента. Интересно что уровень невыплат в независимости от категории клиентов не превышает 10%."
   ]
  }
 ],
 "metadata": {
  "kernelspec": {
   "display_name": "Python 3",
   "language": "python",
   "name": "python3"
  },
  "language_info": {
   "codemirror_mode": {
    "name": "ipython",
    "version": 3
   },
   "file_extension": ".py",
   "mimetype": "text/x-python",
   "name": "python",
   "nbconvert_exporter": "python",
   "pygments_lexer": "ipython3",
   "version": "3.7.8"
  },
  "toc": {
   "base_numbering": 1,
   "nav_menu": {},
   "number_sections": true,
   "sideBar": true,
   "skip_h1_title": true,
   "title_cell": "Table of Contents",
   "title_sidebar": "Contents",
   "toc_cell": false,
   "toc_position": {},
   "toc_section_display": true,
   "toc_window_display": false
  }
 },
 "nbformat": 4,
 "nbformat_minor": 2
}
